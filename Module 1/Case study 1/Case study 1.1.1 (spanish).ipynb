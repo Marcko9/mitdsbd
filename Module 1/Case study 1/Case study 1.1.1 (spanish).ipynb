{
 "cells": [
  {
   "cell_type": "markdown",
   "metadata": {
    "toc": true
   },
   "source": [
    "<h1>Table of Contents<span class=\"tocSkip\"></span></h1>\n",
    "<div class=\"toc\"><ul class=\"toc-item\"><li><span><a href=\"#Caso-de-estudio-1.1.1:-Descifrando-el-genoma-vía-PCA-y-K-Means\" data-toc-modified-id=\"Caso-de-estudio-1.1.1:-Descifrando-el-genoma-vía-PCA-y-K-Means-1\"><span class=\"toc-item-num\">1&nbsp;&nbsp;</span>Caso de estudio 1.1.1: Descifrando el genoma vía PCA y K-Means</a></span></li><li><span><a href=\"#Descarga-de-datos\" data-toc-modified-id=\"Descarga-de-datos-2\"><span class=\"toc-item-num\">2&nbsp;&nbsp;</span>Descarga de datos</a></span></li><li><span><a href=\"#Generación-de-atributos\" data-toc-modified-id=\"Generación-de-atributos-3\"><span class=\"toc-item-num\">3&nbsp;&nbsp;</span>Generación de atributos</a></span></li><li><span><a href=\"#PCA-(Análisis-de-componentes-principales)\" data-toc-modified-id=\"PCA-(Análisis-de-componentes-principales)-4\"><span class=\"toc-item-num\">4&nbsp;&nbsp;</span>PCA (Análisis de componentes principales)</a></span></li><li><span><a href=\"#K-Means\" data-toc-modified-id=\"K-Means-5\"><span class=\"toc-item-num\">5&nbsp;&nbsp;</span>K-Means</a></span></li><li><span><a href=\"#Tareas-adicionales:\" data-toc-modified-id=\"Tareas-adicionales:-6\"><span class=\"toc-item-num\">6&nbsp;&nbsp;</span>Tareas adicionales:</a></span></li></ul></div>"
   ]
  },
  {
   "cell_type": "markdown",
   "metadata": {},
   "source": [
    "# Caso de estudio 1.1.1: Descifrando el genoma vía PCA y K-Means"
   ]
  },
  {
   "cell_type": "markdown",
   "metadata": {},
   "source": [
    "Configuración del notebook:"
   ]
  },
  {
   "cell_type": "code",
   "execution_count": 12,
   "metadata": {
    "ExecuteTime": {
     "end_time": "2020-06-01T03:58:33.247193Z",
     "start_time": "2020-06-01T03:58:33.243986Z"
    },
    "init_cell": true
   },
   "outputs": [],
   "source": [
    "import requests\n",
    "import numpy as np\n",
    "import itertools\n",
    "import pandas as pd\n",
    "import re\n",
    "import matplotlib.pyplot as plt\n",
    "from termcolor import colored\n",
    "\n",
    "from sklearn.preprocessing import StandardScaler\n",
    "from sklearn.decomposition import PCA\n",
    "from sklearn.cluster import KMeans"
   ]
  },
  {
   "cell_type": "markdown",
   "metadata": {},
   "source": [
    "# Descarga de datos"
   ]
  },
  {
   "cell_type": "markdown",
   "metadata": {},
   "source": [
    "Tal y como se describe en el guión del Caso de estudio 1.1.1, tanto los datos de la secuenciación genómica del *Caulobacter Crescentus*, como las funciones de MatLab utilizadas por los autores, pueden descargarse en el siguiente [link](http://www.ihes.fr/~zinovyev/pcadg/).\n",
    "\n",
    "Mediante la librería `requests` podemos acceder a dicha secuenciación y transformarla en una `string` de Python:"
   ]
  },
  {
   "cell_type": "code",
   "execution_count": 3,
   "metadata": {
    "ExecuteTime": {
     "end_time": "2020-06-01T03:54:38.622884Z",
     "start_time": "2020-06-01T03:54:37.591306Z"
    }
   },
   "outputs": [
    {
     "name": "stdout",
     "output_type": "stream",
     "text": [
      "Longitud de la secuenciación del genoma del Caulobacter Crescentus: 305400\n",
      "Primeras 25 letras de la secuenciación: gccgatagcctatgatccccggcag\n"
     ]
    }
   ],
   "source": [
    "url = 'http://www.ihes.fr/~zinovyev/pcadg/ccrescentus.fa'\n",
    "data = ''.join(requests.get(url).text.split('\\r\\n')[1:])\n",
    "print('Longitud de la secuenciación del genoma del Caulobacter Crescentus: {}'.format(len(data)))\n",
    "print('Primeras 25 letras de la secuenciación: {}'.format(data[:25]))"
   ]
  },
  {
   "cell_type": "markdown",
   "metadata": {
    "ExecuteTime": {
     "end_time": "2020-05-20T21:11:08.244070Z",
     "start_time": "2020-05-20T21:11:08.241636Z"
    }
   },
   "source": [
    "# Generación de atributos"
   ]
  },
  {
   "cell_type": "markdown",
   "metadata": {},
   "source": [
    "El artículo en el que se basa el Estudio de caso 1.1.1 propone la función de Matlab `CalcFreq` que genera atributos para cada fragmento de 300 letras del genoma. Un parámetro de dicha función es la longitud M (en la función la llama ''len''), de subpalabras en las que se divide cada fragmento (subpalabras de 1,2,3 o letras de longitud). La siguiente función realiza las mismas operaciones:"
   ]
  },
  {
   "cell_type": "code",
   "execution_count": 4,
   "metadata": {
    "ExecuteTime": {
     "end_time": "2020-06-01T03:54:38.629622Z",
     "start_time": "2020-06-01T03:54:38.624531Z"
    }
   },
   "outputs": [],
   "source": [
    "def CalcFreq(_str,_len,wid):\n",
    "    '''\n",
    "    Inputs: \n",
    "        _str: la secuenciación completa\n",
    "        _len: la longitud de las subpalabras (de 1 a 4 letras)\n",
    "        wid:  la longitud de los fragmentos (en este estudio se \n",
    "              usan fragmentos de 300 letras)\n",
    "    Output:\n",
    "        xx: matriz de atributos\n",
    "    '''\n",
    "    #Cortando la secuenciación en fragmentos \n",
    "    fragmentos = [_str[i:i+wid] for i in range(0, len(_str), wid)]\n",
    "    \n",
    "    #Generando posibles combinaciones de letras (atributos)\n",
    "    letras = ['a','c','g','t']\n",
    "    atributos = [''.join(i) for i in list(itertools.product(letras,repeat=_len))]\n",
    "    \n",
    "    #Calculando la frecuencia de cada atributo\n",
    "    xx = np.zeros((len(fragmentos),len(atributos)))\n",
    "    for i,frag in enumerate(fragmentos):\n",
    "        frag = [frag[i:i+_len] for i in range(0, len(frag), _len)]\n",
    "        for j,atr in enumerate(atributos):\n",
    "            xx[i,j] = frag.count(atr)\n",
    "    \n",
    "    return xx"
   ]
  },
  {
   "cell_type": "code",
   "execution_count": 5,
   "metadata": {
    "ExecuteTime": {
     "end_time": "2020-06-01T03:54:39.228329Z",
     "start_time": "2020-06-01T03:54:38.631846Z"
    }
   },
   "outputs": [],
   "source": [
    "xx1 = CalcFreq(data,1,300)\n",
    "xx2 = CalcFreq(data,2,300)\n",
    "xx3 = CalcFreq(data,3,300)\n",
    "xx4 = CalcFreq(data,4,300)"
   ]
  },
  {
   "cell_type": "markdown",
   "metadata": {},
   "source": [
    "# PCA (Análisis de componentes principales)"
   ]
  },
  {
   "cell_type": "markdown",
   "metadata": {},
   "source": [
    "Una vez hemos obtenido las tablas con los atributos dependiendo de la logitud de las palabras, podemos reducir la dimensionalidad de nuestra información, usando el Análisis de Componentes Principales (PCA). Las siguientes funciones calculan los dos componentes principales mediante la librería `sci-kit learn`, y muestran gráficos de los resultados:"
   ]
  },
  {
   "cell_type": "code",
   "execution_count": 13,
   "metadata": {
    "ExecuteTime": {
     "end_time": "2020-06-01T03:58:39.303606Z",
     "start_time": "2020-06-01T03:58:39.297071Z"
    }
   },
   "outputs": [],
   "source": [
    "def PCAFreq(xx,_len):\n",
    "    #Estandardización de los diferentes atributos\n",
    "    std_xx = StandardScaler().fit_transform(xx)\n",
    "    #Reducción a dos dimensiones mediante PCA\n",
    "    pca = PCA(n_components=2)\n",
    "    comp_principales = pca.fit_transform(std_xx)\n",
    "    plot_PCA(comp_principales,_len)\n",
    "    return comp_principales\n",
    "\n",
    "def plot_PCA(comp_principales,_len):\n",
    "    fig = plt.figure(figsize = (8,8))\n",
    "    ax = fig.add_subplot(1,1,1) \n",
    "    ax.scatter(x=comp_principales[:,0],y=comp_principales[:,1],\n",
    "               marker='.',s=3,color='k',\n",
    "              )\n",
    "    ax.annotate('M = {}'.format(_len),xy=[0.1,0.8],xytext = (0.1,0.8),\n",
    "                xycoords = 'axes fraction',fontsize=14)\n",
    "    plt.show()\n",
    "    "
   ]
  },
  {
   "cell_type": "code",
   "execution_count": 14,
   "metadata": {
    "ExecuteTime": {
     "end_time": "2020-06-01T03:58:40.306062Z",
     "start_time": "2020-06-01T03:58:39.806439Z"
    },
    "scrolled": false
   },
   "outputs": [
    {
     "data": {
      "image/png": "[encoded data removed]",
      "text/plain": [
       "<Figure size 576x576 with 1 Axes>"
      ]
     },
     "metadata": {
      "needs_background": "light"
     },
     "output_type": "display_data"
    },
    {
     "data": {
      "image/png": "[encoded data removed]",
      "text/plain": [
       "<Figure size 576x576 with 1 Axes>"
      ]
     },
     "metadata": {
      "needs_background": "light"
     },
     "output_type": "display_data"
    },
    {
     "data": {
      "image/png": "[encoded data removed]",
      "text/plain": [
       "<Figure size 576x576 with 1 Axes>"
      ]
     },
     "metadata": {
      "needs_background": "light"
     },
     "output_type": "display_data"
    },
    {
     "data": {
      "image/png": "[encoded data removed]",
      "text/plain": [
       "<Figure size 576x576 with 1 Axes>"
      ]
     },
     "metadata": {
      "needs_background": "light"
     },
     "output_type": "display_data"
    }
   ],
   "source": [
    "xx1_PCA = PCAFreq(xx1,1)\n",
    "xx2_PCA = PCAFreq(xx2,2)\n",
    "xx3_PCA = PCAFreq(xx3,3)\n",
    "xx4_PCA = PCAFreq(xx4,4)"
   ]
  },
  {
   "cell_type": "markdown",
   "metadata": {},
   "source": [
    "# K-Means"
   ]
  },
  {
   "cell_type": "markdown",
   "metadata": {},
   "source": [
    "Por último podemos aplicar K-Means a la tabla generada con palabras de 3 letras. Atención al detalle de que K-Means se aplica a los __64 atributos__ (no a los dos componentes principales obtenidos via PCA), y posteriormente pueden visualizarse los resultados mediante PCA o directamente sobre la secuenciación genética."
   ]
  },
  {
   "cell_type": "code",
   "execution_count": null,
   "metadata": {
    "ExecuteTime": {
     "end_time": "2020-06-01T03:54:39.417824Z",
     "start_time": "2020-06-01T03:54:38.289Z"
    }
   },
   "outputs": [],
   "source": [
    "def ClustFreq(xx,k):\n",
    "    kmeans = KMeans(n_clusters=k, random_state=0).fit(xx)\n",
    "    clusters = kmeans.labels_\n",
    "    return clusters\n",
    "\n",
    "def plot_PCA_colors(xx_PCA,clusters):\n",
    "    fig = plt.figure(figsize = (8,8))\n",
    "    ax = fig.add_subplot(1,1,1)\n",
    "    black_cluster = (clusters == 1)\n",
    "    ax.scatter(x=xx_PCA[black_cluster][:,0],y=xx_PCA[black_cluster][:,1],color='k',\n",
    "               marker='o',s=10)\n",
    "    ax.scatter(x=xx_PCA[~black_cluster][:,0],y=xx_PCA[~black_cluster][:,1],\n",
    "               c=clusters[~black_cluster],cmap='Paired_r',marker='o',s=10)\n",
    "    plt.show()\n",
    "\n",
    "def plot_letter_with_colors(data,clusters):\n",
    "    fragmentos = [data[i:i+300] for i in range(0, len(data), 300)]\n",
    "    color_map = {0:'grey',2:'red',3:'green',4:'yellow',5:'blue',6:'magenta'}\n",
    "    for i,frag in enumerate(fragmentos):\n",
    "        if clusters[i] == 1:\n",
    "            print(frag)\n",
    "        else:\n",
    "            print(colored(frag, color=color_map[clusters[i]]))"
   ]
  },
  {
   "cell_type": "code",
   "execution_count": null,
   "metadata": {
    "ExecuteTime": {
     "end_time": "2020-06-01T03:54:39.419197Z",
     "start_time": "2020-06-01T03:54:38.290Z"
    }
   },
   "outputs": [],
   "source": [
    "clusters = ClustFreq(xx3,7) \n",
    "plot_PCA_colors(xx3_PCA,clusters)"
   ]
  },
  {
   "cell_type": "code",
   "execution_count": null,
   "metadata": {
    "ExecuteTime": {
     "end_time": "2020-06-01T03:54:39.420725Z",
     "start_time": "2020-06-01T03:54:38.292Z"
    }
   },
   "outputs": [],
   "source": [
    "#plot_letter_with_colors(data,clusters)"
   ]
  },
  {
   "cell_type": "markdown",
   "metadata": {},
   "source": [
    "# Tareas adicionales:"
   ]
  },
  {
   "cell_type": "markdown",
   "metadata": {},
   "source": [
    "A continuación pueden desarrollarse las diferentes tareas adicionales propuestas en el guión del estudio de caso..."
   ]
  },
  {
   "cell_type": "markdown",
   "metadata": {},
   "source": [
    "<br>\n",
    "\n",
    "<br>\n",
    "\n",
    "<br>\n",
    "\n",
    "<br>\n",
    "\n",
    "<br>\n",
    "\n",
    "<br>\n",
    "\n",
    "Created by Iñigo de la Maza. Contact: [idelamaza.com](https://idelamaza.github.io/)\n",
    "\n",
    "<br>\n",
    "\n",
    "<br>\n",
    "\n",
    "<br>"
   ]
  },
  {
   "cell_type": "code",
   "execution_count": null,
   "metadata": {
    "ExecuteTime": {
     "end_time": "2020-06-01T03:54:39.422003Z",
     "start_time": "2020-06-01T03:54:38.613Z"
    }
   },
   "outputs": [],
   "source": [
    "## IGNORE THE CODE BELOW ##\n",
    "\n",
    "#Getting names of imported libraries and versions for creating a requirements.txt file\n",
    "import pkg_resources\n",
    "import types\n",
    "def get_imports():\n",
    "    for name, val in globals().items():\n",
    "        if isinstance(val, types.ModuleType):\n",
    "            name = val.__name__.split(\".\")[0]\n",
    "\n",
    "        elif isinstance(val, type):\n",
    "            name = val.__module__.split(\".\")[0]\n",
    "            \n",
    "        poorly_named_packages = {\n",
    "            \"PIL\": \"Pillow\",\n",
    "            \"sklearn\": \"scikit-learn\"\n",
    "        }\n",
    "        if name in poorly_named_packages.keys():\n",
    "            name = poorly_named_packages[name]\n",
    "\n",
    "        yield name\n",
    "imports = list(set(get_imports()))\n",
    "requirements = []\n",
    "for m in pkg_resources.working_set:\n",
    "    if m.project_name in imports and m.project_name!=\"pip\":\n",
    "        requirements.append((m.project_name, m.version))\n",
    "requirements.append(('termcolor','1.1.0'))    \n",
    "#Getting the packages already included in requirements.txt\n",
    "with open(r\"../../requirements.txt\", \"r\") as f:\n",
    "    pkgs = [pkg.split('==')[0] for pkg in f.readlines()]\n",
    "#Adding missing packages\n",
    "#print('List of packages and versions:\\n')     \n",
    "with open(r\"../../requirements.txt\", \"a\") as f:\n",
    "    for r in requirements:\n",
    "        #print(\"{}=={}\".format(*r))\n",
    "        if r[0] not in pkgs:\n",
    "            f.write(\"{}=={}\\n\".format(*r))"
   ]
  }
 ],
 "metadata": {
  "hide_input": false,
  "kernelspec": {
   "display_name": "Python 3",
   "language": "python",
   "name": "python3"
  },
  "language_info": {
   "codemirror_mode": {
    "name": "ipython",
    "version": 3
   },
   "file_extension": ".py",
   "mimetype": "text/x-python",
   "name": "python",
   "nbconvert_exporter": "python",
   "pygments_lexer": "ipython3",
   "version": "3.7.7"
  },
  "toc": {
   "base_numbering": 1,
   "nav_menu": {},
   "number_sections": true,
   "sideBar": true,
   "skip_h1_title": false,
   "title_cell": "Table of Contents",
   "title_sidebar": "Contents",
   "toc_cell": true,
   "toc_position": {},
   "toc_section_display": true,
   "toc_window_display": false
  },
  "varInspector": {
   "cols": {
    "lenName": 16,
    "lenType": 16,
    "lenVar": 40
   },
   "kernels_config": {
    "python": {
     "delete_cmd_postfix": "",
     "delete_cmd_prefix": "del ",
     "library": "var_list.py",
     "varRefreshCmd": "print(var_dic_list())"
    },
    "r": {
     "delete_cmd_postfix": ") ",
     "delete_cmd_prefix": "rm(",
     "library": "var_list.r",
     "varRefreshCmd": "cat(var_dic_list()) "
    }
   },
   "types_to_exclude": [
    "module",
    "function",
    "builtin_function_or_method",
    "instance",
    "_Feature"
   ],
   "window_display": true
  }
 },
 "nbformat": 4,
 "nbformat_minor": 4
}
