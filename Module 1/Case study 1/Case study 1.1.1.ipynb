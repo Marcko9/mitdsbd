{
 "cells": [
  {
   "cell_type": "markdown",
   "metadata": {
    "toc": true
   },
   "source": [
    "<h1>Table of Contents<span class=\"tocSkip\"></span></h1>\n",
    "<div class=\"toc\"><ul class=\"toc-item\"><li><span><a href=\"#Case-study-1.1.1:-Genetic-Codes\" data-toc-modified-id=\"Case-study-1.1.1:-Genetic-Codes-1\"><span class=\"toc-item-num\">1&nbsp;&nbsp;</span>Case study 1.1.1: Genetic Codes</a></span></li><li><span><a href=\"#Data\" data-toc-modified-id=\"Data-2\"><span class=\"toc-item-num\">2&nbsp;&nbsp;</span>Data</a></span></li><li><span><a href=\"#Feature-generation\" data-toc-modified-id=\"Feature-generation-3\"><span class=\"toc-item-num\">3&nbsp;&nbsp;</span>Feature generation</a></span></li><li><span><a href=\"#PCA---Visualizing-the-two-principal-components\" data-toc-modified-id=\"PCA---Visualizing-the-two-principal-components-4\"><span class=\"toc-item-num\">4&nbsp;&nbsp;</span>PCA - Visualizing the two principal components</a></span></li><li><span><a href=\"#K-Means\" data-toc-modified-id=\"K-Means-5\"><span class=\"toc-item-num\">5&nbsp;&nbsp;</span>K-Means</a></span></li><li><span><a href=\"#Additional-tasks:\" data-toc-modified-id=\"Additional-tasks:-6\"><span class=\"toc-item-num\">6&nbsp;&nbsp;</span>Additional tasks:</a></span></li></ul></div>"
   ]
  },
  {
   "cell_type": "markdown",
   "metadata": {},
   "source": [
    "# Case study 1.1.1: Genetic Codes"
   ]
  },
  {
   "cell_type": "markdown",
   "metadata": {},
   "source": [
    "Notebook setup:"
   ]
  },
  {
   "cell_type": "code",
   "execution_count": 10,
   "metadata": {
    "ExecuteTime": {
     "end_time": "2020-06-01T03:58:48.304495Z",
     "start_time": "2020-06-01T03:58:48.300938Z"
    },
    "init_cell": true
   },
   "outputs": [],
   "source": [
    "import requests\n",
    "import numpy as np\n",
    "import itertools\n",
    "import pandas as pd\n",
    "import re\n",
    "import matplotlib.pyplot as plt\n",
    "from termcolor import colored\n",
    "\n",
    "from sklearn.preprocessing import StandardScaler\n",
    "from sklearn.decomposition import PCA\n",
    "from sklearn.cluster import KMeans"
   ]
  },
  {
   "cell_type": "markdown",
   "metadata": {},
   "source": [
    "# Data "
   ]
  },
  {
   "cell_type": "markdown",
   "metadata": {},
   "source": [
    "As it is explained in the guide of Case study 1.1.1, both the genetic sequence of *Caulobacter Crescentus* and the MatLab functions used by the authors, can be download at [link](http://www.ihes.fr/~zinovyev/pcadg/).\n",
    "\n",
    "With Python's library `requests` we can access the genetic data and transform it in a `string` object:"
   ]
  },
  {
   "cell_type": "code",
   "execution_count": 3,
   "metadata": {
    "ExecuteTime": {
     "end_time": "2020-06-01T03:54:43.861233Z",
     "start_time": "2020-06-01T03:54:43.177496Z"
    }
   },
   "outputs": [
    {
     "name": "stdout",
     "output_type": "stream",
     "text": [
      "Length of the genetic sequence of Caulobacter Crescentus: 305400\n",
      "First 25 characters of the sequence: gccgatagcctatgatccccggcag\n"
     ]
    }
   ],
   "source": [
    "url = 'http://www.ihes.fr/~zinovyev/pcadg/ccrescentus.fa'\n",
    "data = ''.join(requests.get(url).text.split('\\r\\n')[1:])\n",
    "print('Length of the genetic sequence of Caulobacter Crescentus: {}'.format(len(data)))\n",
    "print('First 25 characters of the sequence: {}'.format(data[:25]))"
   ]
  },
  {
   "cell_type": "markdown",
   "metadata": {
    "ExecuteTime": {
     "end_time": "2020-05-20T21:11:08.244070Z",
     "start_time": "2020-05-20T21:11:08.241636Z"
    }
   },
   "source": [
    "# Feature generation"
   ]
  },
  {
   "cell_type": "markdown",
   "metadata": {},
   "source": [
    "MatLab function `CalcFreq` generates the features for each 300-characters-long sequence. The next function does the same set of operations:"
   ]
  },
  {
   "cell_type": "code",
   "execution_count": 4,
   "metadata": {
    "ExecuteTime": {
     "end_time": "2020-06-01T03:54:43.867750Z",
     "start_time": "2020-06-01T03:54:43.862870Z"
    }
   },
   "outputs": [],
   "source": [
    "def CalcFreq(_str,_len,wid):\n",
    "    '''\n",
    "    Inputs: \n",
    "        _str: complete sequence\n",
    "        _len: word length (1 to 4 characters)\n",
    "        wid:  fragments length (in this study: 300 characters)\n",
    "    Output:\n",
    "        xx: feature matrix\n",
    "    '''\n",
    "    #Cutting sequence into 300 char long pieces\n",
    "    frags = [_str[i:i+wid] for i in range(0, len(_str), wid)]\n",
    "    \n",
    "    #GEnerating possible char combinantions (features)\n",
    "    chars = ['a','c','g','t']\n",
    "    features = [''.join(i) for i in list(itertools.product(chars,repeat=_len))]\n",
    "    \n",
    "    #Calculating the count of each feature\n",
    "    xx = np.zeros((len(frags),len(features)))\n",
    "    for i,frag in enumerate(frags):\n",
    "        frag = [frag[i:i+_len] for i in range(0, len(frag), _len)]\n",
    "        for j,feat in enumerate(features):\n",
    "            xx[i,j] = frag.count(feat)\n",
    "    \n",
    "    return xx"
   ]
  },
  {
   "cell_type": "code",
   "execution_count": 5,
   "metadata": {
    "ExecuteTime": {
     "end_time": "2020-06-01T03:54:44.522147Z",
     "start_time": "2020-06-01T03:54:43.870449Z"
    }
   },
   "outputs": [],
   "source": [
    "xx1 = CalcFreq(data,1,300)\n",
    "xx2 = CalcFreq(data,2,300)\n",
    "xx3 = CalcFreq(data,3,300)\n",
    "xx4 = CalcFreq(data,4,300)"
   ]
  },
  {
   "cell_type": "markdown",
   "metadata": {},
   "source": [
    "# PCA - Visualizing the two principal components"
   ]
  },
  {
   "cell_type": "markdown",
   "metadata": {},
   "source": [
    "Once we have obtained the feature matrices, we can reduce their dimensionality by means of PCA. The following functions calculate the two principal components with Python library `sci-kit learn`, and show the results:"
   ]
  },
  {
   "cell_type": "code",
   "execution_count": 8,
   "metadata": {
    "ExecuteTime": {
     "end_time": "2020-06-01T03:57:14.552777Z",
     "start_time": "2020-06-01T03:57:14.546264Z"
    }
   },
   "outputs": [],
   "source": [
    "def PCAFreq(xx,_len):\n",
    "    #Standarization of the features\n",
    "    std_xx = StandardScaler().fit_transform(xx)\n",
    "    #Dimensionality reduction with PCA\n",
    "    pca = PCA(n_components=2)\n",
    "    princ_components = pca.fit_transform(std_xx)\n",
    "    plot_PCA(princ_components,_len)\n",
    "    return princ_components\n",
    "\n",
    "def plot_PCA(princ_components,_len):\n",
    "    fig = plt.figure(figsize = (8,8))\n",
    "    ax = fig.add_subplot(1,1,1) \n",
    "    ax.scatter(x=princ_components[:,0],y=princ_components[:,1],\n",
    "               marker='.',s=3,color='k',\n",
    "              )\n",
    "    ax.annotate('M = {}'.format(_len),xy=[0.1,0.8],xytext = (0.1,0.8),\n",
    "                xycoords = 'axes fraction',fontsize=14)\n",
    "    plt.show()\n",
    "    "
   ]
  },
  {
   "cell_type": "code",
   "execution_count": 9,
   "metadata": {
    "ExecuteTime": {
     "end_time": "2020-06-01T03:57:16.277549Z",
     "start_time": "2020-06-01T03:57:15.761777Z"
    },
    "scrolled": false
   },
   "outputs": [
    {
     "data": {
      "image/png": "[encoded data removed]",
      "text/plain": [
       "<Figure size 576x576 with 1 Axes>"
      ]
     },
     "metadata": {
      "needs_background": "light"
     },
     "output_type": "display_data"
    },
    {
     "data": {
      "image/png": "[encoded data removed]",
      "text/plain": [
       "<Figure size 576x576 with 1 Axes>"
      ]
     },
     "metadata": {
      "needs_background": "light"
     },
     "output_type": "display_data"
    },
    {
     "data": {
      "image/png": "[encoded data removed]",
      "text/plain": [
       "<Figure size 576x576 with 1 Axes>"
      ]
     },
     "metadata": {
      "needs_background": "light"
     },
     "output_type": "display_data"
    },
    {
     "data": {
      "image/png": "[encoded data removed]",
      "text/plain": [
       "<Figure size 576x576 with 1 Axes>"
      ]
     },
     "metadata": {
      "needs_background": "light"
     },
     "output_type": "display_data"
    }
   ],
   "source": [
    "xx1_PCA = PCAFreq(xx1,1)\n",
    "xx2_PCA = PCAFreq(xx2,2)\n",
    "xx3_PCA = PCAFreq(xx3,3)\n",
    "xx4_PCA = PCAFreq(xx4,4)"
   ]
  },
  {
   "cell_type": "markdown",
   "metadata": {},
   "source": [
    "# K-Means"
   ]
  },
  {
   "cell_type": "markdown",
   "metadata": {},
   "source": [
    "Finally we can apply K-Means to the matrix generated with 3-characters-long words. Watch out, K-Means is applied to the __64 features__\n",
    "(not to the two principal components), and then the results can be visualized on top of the PCA analysis, or directly in the genetic sequence."
   ]
  },
  {
   "cell_type": "code",
   "execution_count": null,
   "metadata": {
    "ExecuteTime": {
     "end_time": "2020-06-01T03:54:44.876984Z",
     "start_time": "2020-06-01T03:54:43.740Z"
    }
   },
   "outputs": [],
   "source": [
    "def ClustFreq(xx,k):\n",
    "    std_xx = StandardScaler().fit_transform(xx)\n",
    "    kmeans = KMeans(n_clusters=k, random_state=0).fit(std_xx)\n",
    "    clusters = kmeans.labels_\n",
    "    return clusters\n",
    "\n",
    "def plot_PCA_colors(xx_PCA,clusters):\n",
    "    fig = plt.figure(figsize = (8,8))\n",
    "    ax = fig.add_subplot(1,1,1)\n",
    "    black_cluster = (clusters == 4)\n",
    "    ax.scatter(x=xx_PCA[black_cluster][:,0],y=xx_PCA[black_cluster][:,1],color='k',\n",
    "               marker='o',s=10)\n",
    "    ax.scatter(x=xx_PCA[~black_cluster][:,0],y=xx_PCA[~black_cluster][:,1],\n",
    "               c=clusters[~black_cluster],cmap='Paired_r',marker='o',s=10)\n",
    "    plt.show()\n",
    "\n",
    "def plot_letter_with_colors(data,clusters):\n",
    "    frags = [data[i:i+300] for i in range(0, len(data), 300)]\n",
    "    color_map = {0:'grey',2:'red',3:'green',4:'yellow',5:'blue',6:'magenta'}\n",
    "    for i,frag in enumerate(frags):\n",
    "        if clusters[i] == 1:\n",
    "            print(frag)\n",
    "        else:\n",
    "            print(colored(frag, color=color_map[clusters[i]]))"
   ]
  },
  {
   "cell_type": "code",
   "execution_count": null,
   "metadata": {
    "ExecuteTime": {
     "end_time": "2020-06-01T03:54:44.878418Z",
     "start_time": "2020-06-01T03:54:43.742Z"
    }
   },
   "outputs": [],
   "source": [
    "clusters = ClustFreq(xx3,7) \n",
    "plot_PCA_colors(xx3_PCA,clusters)"
   ]
  },
  {
   "cell_type": "code",
   "execution_count": null,
   "metadata": {
    "ExecuteTime": {
     "end_time": "2020-06-01T03:54:44.879632Z",
     "start_time": "2020-06-01T03:54:43.744Z"
    }
   },
   "outputs": [],
   "source": [
    "#plot_letter_with_colors(data,clusters)"
   ]
  },
  {
   "cell_type": "markdown",
   "metadata": {},
   "source": [
    "# Additional tasks:"
   ]
  },
  {
   "cell_type": "markdown",
   "metadata": {},
   "source": [
    "You can now try to implement the additional suggested tasks explained in the guide of Case study 1.1.1."
   ]
  },
  {
   "cell_type": "markdown",
   "metadata": {},
   "source": [
    "<br>\n",
    "\n",
    "<br>\n",
    "\n",
    "<br>\n",
    "\n",
    "<br>\n",
    "\n",
    "<br>\n",
    "\n",
    "<br>\n",
    "\n",
    "Created by Iñigo de la Maza. Contact: [idelamaza.com](https://idelamaza.github.io/)\n",
    "\n",
    "<br>\n",
    "\n",
    "<br>\n",
    "\n",
    "<br>"
   ]
  },
  {
   "cell_type": "code",
   "execution_count": null,
   "metadata": {
    "ExecuteTime": {
     "end_time": "2020-06-01T03:54:44.880542Z",
     "start_time": "2020-06-01T03:54:44.023Z"
    }
   },
   "outputs": [],
   "source": [
    "## IGNORE THE CODE BELOW ##\n",
    "\n",
    "#Getting names of imported libraries and versions for creating a requirements.txt file\n",
    "import pkg_resources\n",
    "import types\n",
    "def get_imports():\n",
    "    for name, val in globals().items():\n",
    "        if isinstance(val, types.ModuleType):\n",
    "            name = val.__name__.split(\".\")[0]\n",
    "\n",
    "        elif isinstance(val, type):\n",
    "            name = val.__module__.split(\".\")[0]\n",
    "            \n",
    "        poorly_named_packages = {\n",
    "            \"PIL\": \"Pillow\",\n",
    "            \"sklearn\": \"scikit-learn\"\n",
    "        }\n",
    "        if name in poorly_named_packages.keys():\n",
    "            name = poorly_named_packages[name]\n",
    "\n",
    "        yield name\n",
    "imports = list(set(get_imports()))\n",
    "requirements = []\n",
    "for m in pkg_resources.working_set:\n",
    "    if m.project_name in imports and m.project_name!=\"pip\":\n",
    "        requirements.append((m.project_name, m.version))\n",
    "requirements.append(('termcolor','1.1.0'))    \n",
    "#Getting the packages already included in requirements.txt\n",
    "with open(r\"../../requirements.txt\", \"r\") as f:\n",
    "    pkgs = [pkg.split('==')[0] for pkg in f.readlines()]\n",
    "#Adding missing packages\n",
    "#print('List of packages and versions:\\n')     \n",
    "with open(r\"../../requirements.txt\", \"a\") as f:\n",
    "    for r in requirements:\n",
    "        #print(\"{}=={}\".format(*r))\n",
    "        if r[0] not in pkgs:\n",
    "            f.write(\"{}=={}\\n\".format(*r))"
   ]
  }
 ],
 "metadata": {
  "hide_input": false,
  "kernelspec": {
   "display_name": "Python 3",
   "language": "python",
   "name": "python3"
  },
  "language_info": {
   "codemirror_mode": {
    "name": "ipython",
    "version": 3
   },
   "file_extension": ".py",
   "mimetype": "text/x-python",
   "name": "python",
   "nbconvert_exporter": "python",
   "pygments_lexer": "ipython3",
   "version": "3.7.7"
  },
  "toc": {
   "base_numbering": 1,
   "nav_menu": {},
   "number_sections": true,
   "sideBar": true,
   "skip_h1_title": false,
   "title_cell": "Table of Contents",
   "title_sidebar": "Contents",
   "toc_cell": true,
   "toc_position": {},
   "toc_section_display": true,
   "toc_window_display": false
  },
  "varInspector": {
   "cols": {
    "lenName": 16,
    "lenType": 16,
    "lenVar": 40
   },
   "kernels_config": {
    "python": {
     "delete_cmd_postfix": "",
     "delete_cmd_prefix": "del ",
     "library": "var_list.py",
     "varRefreshCmd": "print(var_dic_list())"
    },
    "r": {
     "delete_cmd_postfix": ") ",
     "delete_cmd_prefix": "rm(",
     "library": "var_list.r",
     "varRefreshCmd": "cat(var_dic_list()) "
    }
   },
   "types_to_exclude": [
    "module",
    "function",
    "builtin_function_or_method",
    "instance",
    "_Feature"
   ],
   "window_display": true
  }
 },
 "nbformat": 4,
 "nbformat_minor": 4
}
