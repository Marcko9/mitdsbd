{
 "cells": [
  {
   "cell_type": "markdown",
   "metadata": {
    "toc": true
   },
   "source": [
    "<h1>Table of Contents<span class=\"tocSkip\"></span></h1>\n",
    "<div class=\"toc\"><ul class=\"toc-item\"><li><span><a href=\"#Caso-de-estudio-1.1.2:-Análisis-de-la-LDA-(Latent-Dirichlet-Allocation)\" data-toc-modified-id=\"Caso-de-estudio-1.1.2:-Análisis-de-la-LDA-(Latent-Dirichlet-Allocation)-1\"><span class=\"toc-item-num\">1&nbsp;&nbsp;</span>Caso de estudio 1.1.2: Análisis de la LDA (Latent Dirichlet Allocation)</a></span></li><li><span><a href=\"#Generación-de-la-base-de-datos-(Web-Scraping)\" data-toc-modified-id=\"Generación-de-la-base-de-datos-(Web-Scraping)-2\"><span class=\"toc-item-num\">2&nbsp;&nbsp;</span>Generación de la base de datos (Web Scraping)</a></span><ul class=\"toc-item\"><li><span><a href=\"#Obtención-del-vocabulario\" data-toc-modified-id=\"Obtención-del-vocabulario-2.1\"><span class=\"toc-item-num\">2.1&nbsp;&nbsp;</span>Obtención del vocabulario</a></span></li></ul></li><li><span><a href=\"#LDA-SVI\" data-toc-modified-id=\"LDA-SVI-3\"><span class=\"toc-item-num\">3&nbsp;&nbsp;</span>LDA-SVI</a></span><ul class=\"toc-item\"><li><span><a href=\"#Funciones-auxiliares\" data-toc-modified-id=\"Funciones-auxiliares-3.1\"><span class=\"toc-item-num\">3.1&nbsp;&nbsp;</span>Funciones auxiliares</a></span><ul class=\"toc-item\"><li><span><a href=\"#Importar-archivos\" data-toc-modified-id=\"Importar-archivos-3.1.1\"><span class=\"toc-item-num\">3.1.1&nbsp;&nbsp;</span>Importar archivos</a></span></li><li><span><a href=\"#Generación-de-atributos-de-cada-texto-(recuento-de-palabras)\" data-toc-modified-id=\"Generación-de-atributos-de-cada-texto-(recuento-de-palabras)-3.1.2\"><span class=\"toc-item-num\">3.1.2&nbsp;&nbsp;</span>Generación de atributos de cada texto (recuento de palabras)</a></span></li><li><span><a href=\"#Cálculo-de-distribuciones-de-probabilidad\" data-toc-modified-id=\"Cálculo-de-distribuciones-de-probabilidad-3.1.3\"><span class=\"toc-item-num\">3.1.3&nbsp;&nbsp;</span>Cálculo de distribuciones de probabilidad</a></span></li></ul></li><li><span><a href=\"#Implementación-de-la-LDA-mediante-SVI\" data-toc-modified-id=\"Implementación-de-la-LDA-mediante-SVI-3.2\"><span class=\"toc-item-num\">3.2&nbsp;&nbsp;</span>Implementación de la LDA mediante SVI</a></span></li></ul></li><li><span><a href=\"#Resultados\" data-toc-modified-id=\"Resultados-4\"><span class=\"toc-item-num\">4&nbsp;&nbsp;</span>Resultados</a></span></li><li><span><a href=\"#Tarea-adicional\" data-toc-modified-id=\"Tarea-adicional-5\"><span class=\"toc-item-num\">5&nbsp;&nbsp;</span>Tarea adicional</a></span></li></ul></div>"
   ]
  },
  {
   "cell_type": "markdown",
   "metadata": {},
   "source": [
    "# Caso de estudio 1.1.2: Análisis de la LDA (Latent Dirichlet Allocation)"
   ]
  },
  {
   "cell_type": "markdown",
   "metadata": {},
   "source": [
    "Librerías a importar:"
   ]
  },
  {
   "cell_type": "code",
   "execution_count": 1,
   "metadata": {
    "ExecuteTime": {
     "end_time": "2020-05-26T18:50:33.273828Z",
     "start_time": "2020-05-26T18:50:31.494208Z"
    }
   },
   "outputs": [],
   "source": [
    "import requests\n",
    "import numpy as np\n",
    "import pandas as pd\n",
    "import matplotlib.pyplot as plt\n",
    "import time\n",
    "import csv\n",
    "\n",
    "from scipy.special import psi\n",
    "\n",
    "#Web scraping libraries\n",
    "from bs4 import BeautifulSoup\n",
    "\n",
    "from tqdm.notebook import tqdm\n",
    "\n",
    "#NLP libraries\n",
    "import nltk\n",
    "#run the first time you install nltk\n",
    "#nltk.download('punkt')\n",
    "#nltk.download('stopwords')\n",
    "from nltk.tokenize import wordpunct_tokenize\n"
   ]
  },
  {
   "cell_type": "markdown",
   "metadata": {},
   "source": [
    "# Generación de la base de datos (Web Scraping)"
   ]
  },
  {
   "cell_type": "markdown",
   "metadata": {},
   "source": [
    "En primer lugar debemos obtener la lista de profesores del departamento de EECS, y el lab al que pertenecen. Para ello podemos usar librerías de _Web scraping_ como `BeautifulSoup`. Este tipo de librerías ofrecen funciones para explorar el código fuente de páginas web, y obtener información de su contenido. "
   ]
  },
  {
   "cell_type": "code",
   "execution_count": 2,
   "metadata": {
    "ExecuteTime": {
     "end_time": "2020-05-26T18:50:33.912560Z",
     "start_time": "2020-05-26T18:50:33.275504Z"
    }
   },
   "outputs": [
    {
     "name": "stdout",
     "output_type": "stream",
     "text": [
      "Número de profesores de EECS: 165\n",
      "[('Hal Abelson', 'CSAIL'), ('Elfar Adalsteinsson', 'RLE'), ('Anant Agarwal', 'CSAIL'), ('Pulkit Agrawal', 'CSAIL'), ('Akintunde Akinwande', 'MTL')] ...\n"
     ]
    }
   ],
   "source": [
    "#Url de la lista de profesores de EECS\n",
    "url_eecs_fac = 'https://www.eecs.mit.edu/people/faculty-advisors'\n",
    "#Descargando el código fuente de dicha url\n",
    "html_data = requests.get(url_eecs_fac).text\n",
    "soup = BeautifulSoup(html_data, 'html.parser')\n",
    "#Guardando el nombre y el laboratorio en dos listas\n",
    "fac = [el.text for el in soup.find_all(class_ = 'field-content card-title')]\n",
    "labs = []\n",
    "for lab_raw in soup.find_all(class_ = 'views-field views-field-term-node-tid'):\n",
    "    try:\n",
    "        labs.append(lab_raw.find('a').text)\n",
    "    except:\n",
    "        labs.append('')\n",
    "#Uniendo ambas listas y eliminando los profesores que no pertenencen a CSAIL, MTL, RLE o LIDS\n",
    "fac_dept = list(zip(fac,labs))\n",
    "fac_dept = [tup for tup in fac_dept if tup[1] in set(['CSAIL','MTL','RLE','LIDS'])]\n",
    "\n",
    "print('Número de profesores de EECS: {}'.format(len(fac_dept)))\n",
    "print(fac_dept[:5],'...')"
   ]
  },
  {
   "cell_type": "markdown",
   "metadata": {
    "ExecuteTime": {
     "end_time": "2020-05-22T00:25:09.318063Z",
     "start_time": "2020-05-22T00:25:09.308508Z"
    }
   },
   "source": [
    "En el guión se sugiere trabajar mediante archivos de texto `.txt`, de modo que podemos crear un nuevo directorio llamado `Data`, donde almacenaremos la información sobre artículos de investigación. En dicho directorio, crearemos un archivo denominado `alldocs.txt`, en el que escribiremos los nombres de archivo de cada artículo."
   ]
  },
  {
   "cell_type": "code",
   "execution_count": 3,
   "metadata": {
    "ExecuteTime": {
     "end_time": "2020-05-26T18:50:33.918028Z",
     "start_time": "2020-05-26T18:50:33.914983Z"
    }
   },
   "outputs": [],
   "source": [
    "#Creating list of all docs ('alldocs.txt') in the desired directory\n",
    "DATA_DIRECTORY = 'Data/'\n",
    "\n",
    "with open(r\"{}{}.txt\".format(DATA_DIRECTORY,'alldocs'), \"w\") as f:\n",
    "    pass    "
   ]
  },
  {
   "cell_type": "markdown",
   "metadata": {},
   "source": [
    "Definimos una función para obtener todos los artículos de _arXiv_ de un autor determinado. También podemos definir una función que guarde la información del resumen de cada artículo (_abstract_), en un archivo `.txt`."
   ]
  },
  {
   "cell_type": "code",
   "execution_count": 4,
   "metadata": {
    "ExecuteTime": {
     "end_time": "2020-05-26T18:50:34.431309Z",
     "start_time": "2020-05-26T18:50:33.920015Z"
    }
   },
   "outputs": [
    {
     "name": "stdout",
     "output_type": "stream",
     "text": [
      "Ejemplo de un artículo de Tamara Broderick: \n",
      "\n",
      "arXiv ID: 1912.05516 (url: https://arxiv.org/abs/1912.05516 )\n",
      "Título: More for less: Predicting and maximizing genetic variant discovery via Bayesian nonparametrics\n",
      "Autores: ['Lorenzo Masoero', 'Federico Camerlenghi', 'Stefano Favaro', 'Tamara Broderick']\n",
      "---\n",
      "While the cost of sequencing genomes has decreased dramatically in recent years, this expense often remains non-trivial. Under a fixed budget, then, scientists face a natural trade-off between quantity and quality; they can spend resources to sequence a greater number of genomes (quantity) or spend resources to sequence genomes with increased accuracy (quality). Our goal is to find the optimal allocation of resources between quantity and quality. Optimizing resource allocation promises to reveal as many new variations in the genome as possible, and thus as many new scientific insights as possible. In this paper, we consider the common setting where scientists have already conducted a pilot study to reveal variants in a genome and are contemplating a follow-up study. We introduce a Bayesian nonparametric methodology to predict the number of new variants in the follow-up study based on the pilot study. When experimental conditions are kept constant between the pilot and follow-up, we demonstrate on real data from the gnomAD project that our prediction is more accurate than three recent proposals, and competitive with a more classic proposal. Unlike existing methods, though, our method allows practitioners to change experimental conditions between the pilot and the follow-up. We demonstrate how this distinction allows our method to be used for (i) more realistic predictions and (ii) optimal allocation of a fixed budget between quality and quantity.\n",
      "---\n"
     ]
    }
   ],
   "source": [
    "def save_abstract_to_txt(filename,content,directory=DATA_DIRECTORY):\n",
    "    '''\n",
    "    Creates a new .txt file and writing the abstract in it.\n",
    "    Saves the title as a new line in the alldocs.txt file\n",
    "    '''\n",
    "    with open(r\"{}{}.txt\".format(directory,filename), \"w\") as f:\n",
    "        print(content, file=f)\n",
    "        \n",
    "    with open(r\"{}{}.txt\".format(directory,'alldocs'), \"a\") as alldocs:\n",
    "        alldocs.write(filename+'.txt\\n')\n",
    "        \n",
    "def get_articles_for_author(author,save_abstracts = False):\n",
    "    base_url = 'https://arxiv.org/search/?query=%22{name}%22&searchtype=author&abstracts=show&order=-announced_date_first&size=200'\n",
    "    author_query_url = base_url.format(name= author.replace(' ','+'))\n",
    "    query_result = requests.get(author_query_url).text\n",
    "    soup = BeautifulSoup(query_result, 'html.parser')\n",
    "    articles = soup.find_all(class_ = 'arxiv-result')\n",
    "    #print('{} articles found for author = \\\"{}\\\"\\n'.format(len(articles),author))\n",
    "\n",
    "    #print('Parsing information from html arXiv source code: id, title, authors and abstract\\n')\n",
    "    ids = [el.find(class_ = 'list-title is-inline-block').find('a').text.strip('arXiv:') for el in articles]\n",
    "    ids = [el.split('/')[1] if el.find('/')>=0 else el for el in ids]\n",
    "    \n",
    "    titles = [el.find(class_ = 'title is-5 mathjax').text.strip(' \\n') for el in articles]\n",
    "    authors = [[author.text for author in el.find(class_ = 'authors').find_all('a')] for el in articles]\n",
    "    abstracts = [el.find(class_ = 'abstract-full has-text-grey-dark mathjax').text[9:-16] for el in articles]\n",
    "    urls = [el.find(class_ = 'list-title is-inline-block').find('a')['href'] for el in articles]\n",
    "    \n",
    "    #Saving abstracts\n",
    "    if save_abstracts:\n",
    "        for i in range(len(articles)):\n",
    "            save_abstract_to_txt(ids[i], abstracts[i])\n",
    "    \n",
    "    return ids, titles, authors, urls, abstracts\n",
    "\n",
    "author = fac_dept[23][0]\n",
    "print('Ejemplo de un artículo de {}: \\n'.format(author))\n",
    "ids, titles, authors, urls, abstracts = get_articles_for_author(author)\n",
    "i = 0\n",
    "print('arXiv ID: {} (url: {} )'.format(ids[i],urls[i]))\n",
    "print('Título: {}'.format(titles[i]))\n",
    "print('Autores: {}'.format(authors[i]))\n",
    "print('---\\n{}\\n---'.format(abstracts[i]))"
   ]
  },
  {
   "cell_type": "markdown",
   "metadata": {},
   "source": [
    "Una vez tenemos dicha función definida y hemos comprobado que funciona, podemos iterar la lista de profesores para obtener los artículos de cada profesor, y guardarlos en archivos `.txt`. "
   ]
  },
  {
   "cell_type": "code",
   "execution_count": 5,
   "metadata": {
    "ExecuteTime": {
     "end_time": "2020-05-26T18:51:33.145868Z",
     "start_time": "2020-05-26T18:50:34.433174Z"
    }
   },
   "outputs": [
    {
     "name": "stdout",
     "output_type": "stream",
     "text": [
      "Descargando artículos de cada profesor:\n",
      "0/165 autores\n",
      "10/165 autores\n",
      "20/165 autores\n",
      "30/165 autores\n",
      "40/165 autores\n",
      "50/165 autores\n",
      "60/165 autores\n",
      "70/165 autores\n",
      "80/165 autores\n",
      "90/165 autores\n",
      "100/165 autores\n",
      "110/165 autores\n",
      "120/165 autores\n",
      "130/165 autores\n",
      "140/165 autores\n",
      "150/165 autores\n",
      "160/165 autores\n",
      "2614 artículos descargados en 58.71s\n"
     ]
    }
   ],
   "source": [
    "ids = []\n",
    "titles = []\n",
    "authors = []\n",
    "labs = []\n",
    "EECS_facs = []\n",
    "urls = []\n",
    "abstracts = []\n",
    "print('Descargando artículos de cada profesor:')\n",
    "t0 = time.time()\n",
    "for i,fac in enumerate(fac_dept):\n",
    "    id_list, title_list, author_list, url_list, abstract_list  = get_articles_for_author(fac[0],save_abstracts= True)\n",
    "    ids += id_list\n",
    "    titles += title_list\n",
    "    authors += author_list\n",
    "    urls += url_list\n",
    "    abstracts += abstract_list\n",
    "    labs += [fac[1]]*len(id_list)\n",
    "    EECS_facs += [fac[0]]*len(id_list)\n",
    "    if round(i/10) == i/10:\n",
    "        print('{}/{} autores'.format(i,len(fac_dept)))\n",
    "tf = time.time()\n",
    "print('{} artículos descargados en {:.2f}s'.format(len(ids),tf-t0))"
   ]
  },
  {
   "cell_type": "markdown",
   "metadata": {},
   "source": [
    "Si en vez de trabajar con diferentes archivos `.txt`, quisiéramos guardar toda la información en una tabla de `pandas`, la siguiente celda muestra cómo hacerlo:"
   ]
  },
  {
   "cell_type": "code",
   "execution_count": 6,
   "metadata": {
    "ExecuteTime": {
     "end_time": "2020-05-26T18:51:33.183243Z",
     "start_time": "2020-05-26T18:51:33.149941Z"
    }
   },
   "outputs": [
    {
     "data": {
      "text/html": [
       "<div>\n",
       "<style scoped>\n",
       "    .dataframe tbody tr th:only-of-type {\n",
       "        vertical-align: middle;\n",
       "    }\n",
       "\n",
       "    .dataframe tbody tr th {\n",
       "        vertical-align: top;\n",
       "    }\n",
       "\n",
       "    .dataframe thead th {\n",
       "        text-align: right;\n",
       "    }\n",
       "</style>\n",
       "<table border=\"1\" class=\"dataframe\">\n",
       "  <thead>\n",
       "    <tr style=\"text-align: right;\">\n",
       "      <th></th>\n",
       "      <th>id</th>\n",
       "      <th>title</th>\n",
       "      <th>EECS_prof</th>\n",
       "      <th>lab</th>\n",
       "      <th>authors</th>\n",
       "      <th>url</th>\n",
       "      <th>abstract</th>\n",
       "    </tr>\n",
       "  </thead>\n",
       "  <tbody>\n",
       "    <tr>\n",
       "      <th>0</th>\n",
       "      <td>1910.03273</td>\n",
       "      <td>Joint multi-contrast Variational Network recon...</td>\n",
       "      <td>Elfar Adalsteinsson</td>\n",
       "      <td>RLE</td>\n",
       "      <td>[Daniel Polak, Stephen Cauley, Berkin Bilgic, ...</td>\n",
       "      <td>https://arxiv.org/abs/1910.03273</td>\n",
       "      <td>Purpose: To improve the image quality of highl...</td>\n",
       "    </tr>\n",
       "    <tr>\n",
       "      <th>1</th>\n",
       "      <td>1909.13692</td>\n",
       "      <td>Nonlinear Dipole Inversion (NDI) enables Quant...</td>\n",
       "      <td>Elfar Adalsteinsson</td>\n",
       "      <td>RLE</td>\n",
       "      <td>[Daniel Polak, Itthi Chatnuntawech, Jaeyeon Yo...</td>\n",
       "      <td>https://arxiv.org/abs/1909.13692</td>\n",
       "      <td>We propose Nonlinear Dipole Inversion (NDI) fo...</td>\n",
       "    </tr>\n",
       "    <tr>\n",
       "      <th>2</th>\n",
       "      <td>1907.04500</td>\n",
       "      <td>Fetal Pose Estimation in Volumetric MRI using ...</td>\n",
       "      <td>Elfar Adalsteinsson</td>\n",
       "      <td>RLE</td>\n",
       "      <td>[Junshen Xu, Molin Zhang, Esra Abaci Turk, Lar...</td>\n",
       "      <td>https://arxiv.org/abs/1907.04500</td>\n",
       "      <td>The performance and diagnostic utility of magn...</td>\n",
       "    </tr>\n",
       "    <tr>\n",
       "      <th>3</th>\n",
       "      <td>1903.02959</td>\n",
       "      <td>Temporal Registration in Application to In-ute...</td>\n",
       "      <td>Elfar Adalsteinsson</td>\n",
       "      <td>RLE</td>\n",
       "      <td>[Ruizhi Liao, Esra A. Turk, Miaomiao Zhang, Ji...</td>\n",
       "      <td>https://arxiv.org/abs/1903.02959</td>\n",
       "      <td>We present a robust method to correct for moti...</td>\n",
       "    </tr>\n",
       "    <tr>\n",
       "      <th>4</th>\n",
       "      <td>1608.03907</td>\n",
       "      <td>Temporal Registration in In-Utero Volumetric M...</td>\n",
       "      <td>Elfar Adalsteinsson</td>\n",
       "      <td>RLE</td>\n",
       "      <td>[Ruizhi Liao, Esra Turk, Miaomiao Zhang, Jie L...</td>\n",
       "      <td>https://arxiv.org/abs/1608.03907</td>\n",
       "      <td>We present a robust method to correct for moti...</td>\n",
       "    </tr>\n",
       "  </tbody>\n",
       "</table>\n",
       "</div>"
      ],
      "text/plain": [
       "           id                                              title  \\\n",
       "0  1910.03273  Joint multi-contrast Variational Network recon...   \n",
       "1  1909.13692  Nonlinear Dipole Inversion (NDI) enables Quant...   \n",
       "2  1907.04500  Fetal Pose Estimation in Volumetric MRI using ...   \n",
       "3  1903.02959  Temporal Registration in Application to In-ute...   \n",
       "4  1608.03907  Temporal Registration in In-Utero Volumetric M...   \n",
       "\n",
       "             EECS_prof  lab  \\\n",
       "0  Elfar Adalsteinsson  RLE   \n",
       "1  Elfar Adalsteinsson  RLE   \n",
       "2  Elfar Adalsteinsson  RLE   \n",
       "3  Elfar Adalsteinsson  RLE   \n",
       "4  Elfar Adalsteinsson  RLE   \n",
       "\n",
       "                                             authors  \\\n",
       "0  [Daniel Polak, Stephen Cauley, Berkin Bilgic, ...   \n",
       "1  [Daniel Polak, Itthi Chatnuntawech, Jaeyeon Yo...   \n",
       "2  [Junshen Xu, Molin Zhang, Esra Abaci Turk, Lar...   \n",
       "3  [Ruizhi Liao, Esra A. Turk, Miaomiao Zhang, Ji...   \n",
       "4  [Ruizhi Liao, Esra Turk, Miaomiao Zhang, Jie L...   \n",
       "\n",
       "                                url  \\\n",
       "0  https://arxiv.org/abs/1910.03273   \n",
       "1  https://arxiv.org/abs/1909.13692   \n",
       "2  https://arxiv.org/abs/1907.04500   \n",
       "3  https://arxiv.org/abs/1903.02959   \n",
       "4  https://arxiv.org/abs/1608.03907   \n",
       "\n",
       "                                            abstract  \n",
       "0  Purpose: To improve the image quality of highl...  \n",
       "1  We propose Nonlinear Dipole Inversion (NDI) fo...  \n",
       "2  The performance and diagnostic utility of magn...  \n",
       "3  We present a robust method to correct for moti...  \n",
       "4  We present a robust method to correct for moti...  "
      ]
     },
     "execution_count": 6,
     "metadata": {},
     "output_type": "execute_result"
    }
   ],
   "source": [
    "df = pd.DataFrame({'id':ids,'title':titles,'EECS_prof':EECS_facs,'lab':labs,'authors':authors,'url':urls,'abstract':abstracts})\n",
    "df[['id','lab']] = df[['id','lab']].drop_duplicates()\n",
    "df.head()"
   ]
  },
  {
   "cell_type": "markdown",
   "metadata": {},
   "source": [
    "## Obtención del vocabulario "
   ]
  },
  {
   "cell_type": "markdown",
   "metadata": {},
   "source": [
    "Para poder utilizar las funciones proporcionadas en el guión del caso de estudio se necesita un archivo de vocabulario en formato `.csv`. Podemos obtenerlo del repositorio del estudio original de LDA SVI:"
   ]
  },
  {
   "cell_type": "code",
   "execution_count": 7,
   "metadata": {
    "ExecuteTime": {
     "end_time": "2020-05-26T18:51:33.389396Z",
     "start_time": "2020-05-26T18:51:33.186212Z"
    }
   },
   "outputs": [],
   "source": [
    "url = 'https://raw.githubusercontent.com/blei-lab/onlineldavb/master/dictnostops.txt'\n",
    "vocab = pd.Series(requests.get(url).text.split('\\n')[:-1])\n",
    "vocab.to_csv('Data/dictionary.csv',header=False,index=False)"
   ]
  },
  {
   "cell_type": "markdown",
   "metadata": {
    "ExecuteTime": {
     "end_time": "2020-05-20T21:11:08.244070Z",
     "start_time": "2020-05-20T21:11:08.241636Z"
    }
   },
   "source": [
    "# LDA-SVI"
   ]
  },
  {
   "cell_type": "markdown",
   "metadata": {
    "ExecuteTime": {
     "end_time": "2020-05-25T21:42:27.687982Z",
     "start_time": "2020-05-25T21:42:27.685864Z"
    }
   },
   "source": [
    "## Funciones auxiliares"
   ]
  },
  {
   "cell_type": "markdown",
   "metadata": {
    "heading_collapsed": true
   },
   "source": [
    "### Importar archivos"
   ]
  },
  {
   "cell_type": "code",
   "execution_count": 8,
   "metadata": {
    "ExecuteTime": {
     "end_time": "2020-05-26T18:51:33.397667Z",
     "start_time": "2020-05-26T18:51:33.391306Z"
    },
    "hidden": true
   },
   "outputs": [],
   "source": [
    "def get_filenames(filename):\n",
    "    filenames = []\n",
    "    with open(r\"{}{}\".format(DATA_DIRECTORY,filename), 'r') as f:\n",
    "        docs = f.readlines()\n",
    "        for doc in docs:\n",
    "            filenames.append(str(doc).split(\"\\n\")[0])\n",
    "    return filenames\n",
    "\n",
    "def getfiles(filename):\n",
    "    f = open(r\"{}{}\".format(DATA_DIRECTORY,filename), 'r')\n",
    "    doc = f.read().split('\\n')[0]\n",
    "    return doc\n",
    "\n",
    "def getalldocs(filename = None):\n",
    "    files = get_filenames(filename)\n",
    "    docs = []\n",
    "    for file in files:\n",
    "        doc = getfiles(file)\n",
    "        docs.append(doc)\n",
    "    return docs\n",
    "\n",
    "def getVocab(file):\n",
    "    '''getting vocab dictionary from a csv file (nostopwords)'''\n",
    "    vocab = dict()\n",
    "    with open(r\"{}{}\".format(DATA_DIRECTORY,file), 'r') as infile:\n",
    "        reader = csv.reader(infile)\n",
    "        for index, row in enumerate(reader):\n",
    "            vocab[row[0]] = index\n",
    "\n",
    "    return vocab"
   ]
  },
  {
   "cell_type": "markdown",
   "metadata": {
    "heading_collapsed": true
   },
   "source": [
    "### Generación de atributos de cada texto (recuento de palabras)"
   ]
  },
  {
   "cell_type": "code",
   "execution_count": 9,
   "metadata": {
    "ExecuteTime": {
     "end_time": "2020-05-26T18:51:33.480797Z",
     "start_time": "2020-05-26T18:51:33.399279Z"
    },
    "hidden": true
   },
   "outputs": [],
   "source": [
    "def parseDocument(doc, vocab):\n",
    "    wordslist = list()\n",
    "    countslist = list()\n",
    "    doc = doc.lower()\n",
    "    tokens = wordpunct_tokenize(doc)\n",
    "\n",
    "    dictionary = dict()\n",
    "    for word in tokens:\n",
    "        if word in vocab:\n",
    "            wordtk = vocab[word]\n",
    "            if wordtk not in dictionary:\n",
    "                dictionary[wordtk] = 1\n",
    "            else:\n",
    "                dictionary[wordtk] += 1\n",
    "\n",
    "    wordslist.append(list(dictionary.keys()))\n",
    "    countslist.append(list(dictionary.values()))\n",
    "    return (wordslist[0], countslist[0])"
   ]
  },
  {
   "cell_type": "markdown",
   "metadata": {
    "heading_collapsed": true
   },
   "source": [
    "### Cálculo de distribuciones de probabilidad"
   ]
  },
  {
   "cell_type": "code",
   "execution_count": 10,
   "metadata": {
    "ExecuteTime": {
     "end_time": "2020-05-26T18:51:33.489385Z",
     "start_time": "2020-05-26T18:51:33.482373Z"
    },
    "hidden": true
   },
   "outputs": [],
   "source": [
    "def dirichlet_expectation(alpha):\n",
    "    '''\n",
    "    For a vector theta ~ Dir(alpha), computes E[log(theta)] given alpha.\n",
    "    \n",
    "    Taken from https://github.com/blei-lab/onlineldavb/blob/master/onlineldavb.py\n",
    "    '''\n",
    "    if (len(alpha.shape) == 1):\n",
    "        return (psi(alpha) - psi(n.sum(alpha)))\n",
    "    return (psi(alpha) - psi(n.sum(alpha, 1))[:, n.newaxis])\n",
    "\n",
    "def beta_expectation(a, b, k):\n",
    "    mysum = psi(a + b)\n",
    "    Elog_a = psi(a) - mysum\n",
    "    Elog_b = psi(b) - mysum\n",
    "    Elog_beta = n.zeros(k)\n",
    "    Elog_beta[0] = Elog_a[0]\n",
    "    # print Elog_beta\n",
    "    for i in range(1, k):\n",
    "        Elog_beta[i] = Elog_a[i] + n.sum(Elog_b[0:i])\n",
    "        # print Elog_beta\n",
    "    # print Elog_beta\n",
    "    return Elog_beta\n",
    "\n",
    "def plottrace(x, Y, K, n, perp):\n",
    "    for i in range(K):\n",
    "        plt.plot(x, Y[i], label = \"Topic %i\" %(i+1))\n",
    "\n",
    "    plt.xlabel(\"Number of Iterations\")\n",
    "    plt.ylabel(\"Probability of Each topic\")\n",
    "    plt.legend()\n",
    "    plt.title(\"Trace plot for topic probabilities\")\n",
    "    plt.savefig(\"temp/plot_%i_%i_%f.png\" %(K, n, perp))"
   ]
  },
  {
   "cell_type": "markdown",
   "metadata": {},
   "source": [
    "## Implementación de la LDA mediante SVI"
   ]
  },
  {
   "cell_type": "markdown",
   "metadata": {},
   "source": [
    "Obtenemos la implementación de LDA mediante SVI de las fuentes mencionadas en el guión:\n",
    "* https://github.com/qlai/stochasticLDA\n",
    "* https://github.com/blei-lab/onlineldavb"
   ]
  },
  {
   "cell_type": "code",
   "execution_count": 11,
   "metadata": {
    "ExecuteTime": {
     "end_time": "2020-05-26T18:51:33.528694Z",
     "start_time": "2020-05-26T18:51:33.490967Z"
    }
   },
   "outputs": [],
   "source": [
    "import sys, re, time, string, random, csv, argparse\n",
    "import numpy as n\n",
    "from scipy.special import psi\n",
    "from nltk.tokenize import wordpunct_tokenize\n",
    "#from utils import *\n",
    "# import matplotlib.pyplot as plt\n",
    "\n",
    "n.random.seed(10000001)\n",
    "meanchangethresh = 1e-3\n",
    "MAXITER = 10000\n",
    "\n",
    "class SVILDA():\n",
    "    \"\"\"\n",
    "        Arguments:\n",
    "        K: Number of topics\n",
    "        vocab: A set of words to recognize. When analyzing documents, any word\n",
    "           not in this set will be ignored.\n",
    "        D: Total number of documents in the population. For a fixed corpus,\n",
    "           this is the size of the corpus. In the truly online setting, this\n",
    "           can be an estimate of the maximum number of documents that\n",
    "           could ever be seen.\n",
    "        alpha: Hyperparameter for prior on weight vectors theta\n",
    "        eta: Hyperparameter for prior on topics beta\n",
    "        tau: A (positive) learning parameter that downweights early iterations\n",
    "        kappa: Learning rate: exponential decay rate---should be between\n",
    "             (0.5, 1.0] to guarantee asymptotic convergence.\n",
    "        Note that if you pass the same set of D documents in every time and\n",
    "        set kappa=0 this class can also be used to do batch VB.\n",
    "    \"\"\"\n",
    "        \n",
    "    def __init__(self, vocab, K, D, alpha, eta, tau, kappa, docs, iterations, parsed = False):\n",
    "        self._vocab = vocab\n",
    "        self._V = len(vocab)\n",
    "        self._K = K\n",
    "        self._D = D\n",
    "        self._alpha = alpha\n",
    "        self._eta = eta\n",
    "        self._tau = tau\n",
    "        self._kappa = kappa\n",
    "        self._lambda = 1* n.random.gamma(100., 1./100., (self._K, self._V))\n",
    "        self._Elogbeta = dirichlet_expectation(self._lambda)\n",
    "        self._expElogbeta = n.exp(self._Elogbeta)\n",
    "        self._docs = docs\n",
    "        self.ct = 0\n",
    "        self._iterations = iterations\n",
    "        self._parsed = parsed\n",
    "        self._trace_lambda = {}\n",
    "        for i in range(self._K):\n",
    "            self._trace_lambda[i] = [self.computeProbabilities()[i]]\n",
    "        self._x = [0]\n",
    "\n",
    "    def updateLocal(self, doc): #word_dn is an indicator variable with dimension V\n",
    "        (words, counts) = doc\n",
    "        newdoc = []\n",
    "        N_d = sum(counts)\n",
    "        phi_d = n.zeros((self._K, N_d))\n",
    "        gamma_d = n.random.gamma(100., 1./100., (self._K))\n",
    "        Elogtheta_d = dirichlet_expectation(gamma_d)\n",
    "        expElogtheta_d = n.exp(Elogtheta_d)\n",
    "        for i, item in enumerate(counts):\n",
    "            for j in range(item):\n",
    "                newdoc.append(words[i])\n",
    "        assert len(newdoc) == N_d, \"error\"\n",
    "\n",
    "        for i in range(self._iterations):\n",
    "            for m, word in enumerate(newdoc):\n",
    "                phi_d[:, m] = n.multiply(expElogtheta_d, self._expElogbeta[:, word]) + 1e-100\n",
    "                phi_d[:, m] = phi_d[:, m]/n.sum(phi_d[:, m])\n",
    "\n",
    "            gamma_new = self._alpha + n.sum(phi_d, axis = 1)\n",
    "            meanchange = n.mean(abs(gamma_d - gamma_new))\n",
    "            if (meanchange < meanchangethresh):\n",
    "                break\n",
    "\n",
    "            gamma_d = gamma_new\n",
    "            Elogtheta_d = dirichlet_expectation(gamma_d)\n",
    "            expElogtheta_d = n.exp(Elogtheta_d)\n",
    "\n",
    "        newdoc = n.asarray(newdoc)\n",
    "        return phi_d, newdoc, gamma_d\n",
    "\n",
    "    def updateGlobal(self, phi_d, doc):\n",
    "\n",
    "        lambda_d = n.zeros((self._K, self._V))\n",
    "\n",
    "        for k in range(self._K):\n",
    "            phi_dk = n.zeros(self._V)\n",
    "            for m, word in enumerate(doc):\n",
    "                phi_dk[word] += phi_d[k][m] \n",
    "            lambda_d[k] = self._eta + self._D * phi_dk\n",
    "        rho = (self.ct + self._tau) **(-self._kappa)\n",
    "        self._lambda = (1-rho) * self._lambda + rho * lambda_d\n",
    "        self._Elogbeta = dirichlet_expectation(self._lambda)\n",
    "        self._expElogbeta = n.exp(self._Elogbeta)\n",
    "\n",
    "        if self.ct % 10 == 9:\n",
    "            for i in range(self._K):\n",
    "                self._trace_lambda[i].append(self.computeProbabilities()[i])\n",
    "            self._x.append(self.ct)\n",
    "\n",
    "    def runSVI(self):\n",
    "        for i in tqdm(range(self._iterations)):\n",
    "            randint = random.randint(0, self._D-1)\n",
    "            #print(\"ITERATION\", i, \" running document number \", randint)\n",
    "            if self._parsed == False:\n",
    "                doc = parseDocument(self._docs[randint],self._vocab)\n",
    "            phi_doc, newdoc, gamma_d = self.updateLocal(doc)\n",
    "            self.updateGlobal(phi_doc, newdoc)\n",
    "            self.ct += 1\n",
    "                \n",
    "    def computeProbabilities(self):\n",
    "        prob_topics = n.sum(self._lambda, axis = 1)\n",
    "        prob_topics = prob_topics/n.sum(prob_topics)\n",
    "        return prob_topics\n",
    "\n",
    "    def getTopics(self, docs = None):\n",
    "        prob_topics = self.computeProbabilities()\n",
    "        prob_words = n.sum(self._lambda, axis = 0)\n",
    "\n",
    "        if docs == None:\n",
    "            docs = self._docs\n",
    "        results = n.zeros((len(docs), self._K))\n",
    "        for i, doc in enumerate(docs):\n",
    "            parseddoc = parseDocument(doc, self._vocab)\n",
    "\n",
    "            for j in range(self._K):\n",
    "                aux = [self._lambda[j][word]/prob_words[word] for word in parseddoc[0]]\n",
    "                doc_probability = [n.log(aux[k]) * parseddoc[1][k] for k in range(len(aux))]\n",
    "                results[i][j] = sum(doc_probability) + n.log(prob_topics[j])\n",
    "        finalresults = n.zeros(len(docs))\n",
    "        for k in range(len(docs)):\n",
    "            finalresults[k] = n.argmax(results[k])\n",
    "        return finalresults, prob_topics\n",
    "\n",
    "    def calcPerplexity(self, docs = None):\n",
    "        perplexity = 0.\n",
    "        doclen = 0.\n",
    "        if docs == None:\n",
    "            docs =  self._docs\n",
    "        for doc in docs:\n",
    "            parseddoc = parseDocument(doc, self._vocab)\n",
    "            _, newdoc, gamma_d = self.updateLocal(parseddoc)\n",
    "            approx_mixture = n.dot(gamma_d, self._lambda)\n",
    "            # print(n.shape(approx_mixture))\n",
    "            approx_mixture = approx_mixture / n.sum(approx_mixture)\n",
    "            log_doc_prob = 0.\n",
    "            for word in newdoc:\n",
    "                log_doc_prob += n.log(approx_mixture[word])\n",
    "            perplexity += log_doc_prob\n",
    "            doclen += len(newdoc)\n",
    "            # print(perplexity, doclen)\n",
    "        perplexity = n.exp( - perplexity / doclen)\n",
    "        print(perplexity)\n",
    "        return perplexity\n",
    "\n",
    "    def plotTopics(self, perp):\n",
    "        plottrace(self._x, self._trace_lambda, self._K, self._iterations, perp)\n",
    "\n",
    "def test(k, iterations):\n",
    "\n",
    "    docs = getalldocs(\"alldocs2.txt\")\n",
    "    vocab = getVocab(\"dictionary2.csv\")\n",
    "    \n",
    "    testset = SVILDA(vocab = vocab, K = k, D = len(docs), alpha = 0.2,\n",
    "                     eta = 0.2, tau = 1024, kappa = 0.7, docs = docs,\n",
    "                     iterations= iterations)\n",
    "    testset.runSVI()\n",
    "    finallambda = testset._lambda\n",
    "\n",
    "    heldoutdocs = getalldocs(\"testdocs.txt\")\n",
    "    perplexity = testset.calcPerplexity(docs = heldoutdocs)\n",
    "\n",
    "    with open(\"temp/%i_%i_%f_results.csv\" %(k, iterations, perplexity), \"w+\") as f:\n",
    "        writer = csv.writer(f)\n",
    "        for i in range(k):\n",
    "            bestwords = sorted(range(len(finallambda[i])), key=lambda j:finallambda[i, j])\n",
    "            bestwords.reverse()\n",
    "            writer.writerow([i])\n",
    "            for j, word in enumerate(bestwords):\n",
    "                writer.writerow([word, vocab.keys()[vocab.values().index(word)]])\n",
    "                if j >= 15:\n",
    "                    break\n",
    "    topics, topic_probs = testset.getTopics()\n",
    "    testset.plotTopics(perplexity)\n",
    "\n",
    "    for kk in range(0, len(finallambda)):\n",
    "        lambdak = list(finallambda[kk, :])\n",
    "        lambdak = lambdak / sum(lambdak)\n",
    "        temp = zip(lambdak, range(0, len(lambdak)))\n",
    "        temp = sorted(temp, key = lambda x: x[0], reverse=True)\n",
    "        # print temp\n",
    "        print('topic %d:' % (kk))\n",
    "        # feel free to change the \"53\" here to whatever fits your screen nicely.\n",
    "        for i in range(0, 10):\n",
    "            print('%20s  \\t---\\t  %.4f' % (vocab.keys()[vocab.values().index(temp[i][1])], temp[i][0]))\n",
    "\n",
    "    with open(\"temp/%i_%i_%f_raw.txt\" %(k, iterations, perplexity), \"w+\") as f:\n",
    "        # f.write(finallambda)\n",
    "        for result in topics:\n",
    "            f.write(str(result) + \" \\n\")\n",
    "        f.write(str(topic_probs) + \" \\n\")"
   ]
  },
  {
   "cell_type": "markdown",
   "metadata": {},
   "source": [
    "# Resultados"
   ]
  },
  {
   "cell_type": "markdown",
   "metadata": {
    "ExecuteTime": {
     "end_time": "2020-05-26T18:03:47.654905Z",
     "start_time": "2020-05-26T18:03:47.651034Z"
    }
   },
   "source": [
    "Una vez definidas todas las funciones necesarias sólo queda ejecutar el análisis de LDA:"
   ]
  },
  {
   "cell_type": "code",
   "execution_count": 17,
   "metadata": {
    "ExecuteTime": {
     "end_time": "2020-05-26T19:04:50.429919Z",
     "start_time": "2020-05-26T18:55:09.248187Z"
    }
   },
   "outputs": [
    {
     "name": "stdout",
     "output_type": "stream",
     "text": [
      "number of docs: 2614\n"
     ]
    },
    {
     "data": {
      "application/vnd.jupyter.widget-view+json": {
       "model_id": "614da72a7bf54a4c8f32ba5914372885",
       "version_major": 2,
       "version_minor": 0
      },
      "text/plain": [
       "HBox(children=(FloatProgress(value=0.0, max=100000.0), HTML(value='')))"
      ]
     },
     "metadata": {},
     "output_type": "display_data"
    },
    {
     "name": "stdout",
     "output_type": "stream",
     "text": [
      "\n"
     ]
    }
   ],
   "source": [
    "mode = 'normal'\n",
    "K = 5\n",
    "alpha = 0.2\n",
    "eta = 0.2\n",
    "tau = 1024\n",
    "kappa = 0.7\n",
    "iterations = 100000\n",
    "docs = \"alldocs.txt\"\n",
    "vocab = \"dictionary.csv\"\n",
    "\n",
    "if mode == \"test\":\n",
    "    test(K, iterations)\n",
    "if mode == \"normal\":\n",
    "    assert vocab is not None, \"no vocab\"\n",
    "    assert docs is not None, \"no docs\"\n",
    "    docs = getalldocs(docs)\n",
    "    D = len(docs)\n",
    "    print('number of docs: {}'.format(D))\n",
    "    vocab = getVocab(vocab)\n",
    "    lda = SVILDA(vocab = vocab, K = K, D = D, alpha = alpha, \n",
    "                 eta = eta, tau = tau, kappa = kappa, docs = docs, \n",
    "                 iterations = iterations)\n",
    "    lda.runSVI()\n",
    "    lda"
   ]
  },
  {
   "cell_type": "markdown",
   "metadata": {},
   "source": [
    "Podemos observar las distribución de probabilidades de cada palabra del vocabulario con respecto a cada tema identificado en los textos:"
   ]
  },
  {
   "cell_type": "code",
   "execution_count": 18,
   "metadata": {
    "ExecuteTime": {
     "end_time": "2020-05-26T19:04:54.002460Z",
     "start_time": "2020-05-26T19:04:53.982844Z"
    }
   },
   "outputs": [
    {
     "data": {
      "text/html": [
       "<div>\n",
       "<style scoped>\n",
       "    .dataframe tbody tr th:only-of-type {\n",
       "        vertical-align: middle;\n",
       "    }\n",
       "\n",
       "    .dataframe tbody tr th {\n",
       "        vertical-align: top;\n",
       "    }\n",
       "\n",
       "    .dataframe thead th {\n",
       "        text-align: right;\n",
       "    }\n",
       "</style>\n",
       "<table border=\"1\" class=\"dataframe\">\n",
       "  <thead>\n",
       "    <tr style=\"text-align: right;\">\n",
       "      <th></th>\n",
       "      <th>word</th>\n",
       "      <th>Topic 1</th>\n",
       "      <th>Topic 2</th>\n",
       "      <th>Topic 3</th>\n",
       "      <th>Topic 4</th>\n",
       "      <th>Topic 5</th>\n",
       "    </tr>\n",
       "  </thead>\n",
       "  <tbody>\n",
       "    <tr>\n",
       "      <th>0</th>\n",
       "      <td>writings</td>\n",
       "      <td>0.200000</td>\n",
       "      <td>0.200000</td>\n",
       "      <td>0.200000</td>\n",
       "      <td>0.200000</td>\n",
       "      <td>0.200000</td>\n",
       "    </tr>\n",
       "    <tr>\n",
       "      <th>1</th>\n",
       "      <td>yellow</td>\n",
       "      <td>0.200000</td>\n",
       "      <td>0.200000</td>\n",
       "      <td>0.200000</td>\n",
       "      <td>0.200000</td>\n",
       "      <td>0.200000</td>\n",
       "    </tr>\n",
       "    <tr>\n",
       "      <th>2</th>\n",
       "      <td>four</td>\n",
       "      <td>0.206940</td>\n",
       "      <td>44.977877</td>\n",
       "      <td>0.204583</td>\n",
       "      <td>0.202544</td>\n",
       "      <td>0.206400</td>\n",
       "    </tr>\n",
       "    <tr>\n",
       "      <th>3</th>\n",
       "      <td>woods</td>\n",
       "      <td>0.200000</td>\n",
       "      <td>0.200000</td>\n",
       "      <td>0.200000</td>\n",
       "      <td>0.200000</td>\n",
       "      <td>0.200000</td>\n",
       "    </tr>\n",
       "    <tr>\n",
       "      <th>4</th>\n",
       "      <td>hanging</td>\n",
       "      <td>0.200791</td>\n",
       "      <td>3.213850</td>\n",
       "      <td>0.200003</td>\n",
       "      <td>0.200003</td>\n",
       "      <td>0.200001</td>\n",
       "    </tr>\n",
       "    <tr>\n",
       "      <th>...</th>\n",
       "      <td>...</td>\n",
       "      <td>...</td>\n",
       "      <td>...</td>\n",
       "      <td>...</td>\n",
       "      <td>...</td>\n",
       "      <td>...</td>\n",
       "    </tr>\n",
       "    <tr>\n",
       "      <th>7697</th>\n",
       "      <td>upwards</td>\n",
       "      <td>0.201441</td>\n",
       "      <td>0.847169</td>\n",
       "      <td>0.200982</td>\n",
       "      <td>0.200405</td>\n",
       "      <td>0.201466</td>\n",
       "    </tr>\n",
       "    <tr>\n",
       "      <th>7698</th>\n",
       "      <td>ranks</td>\n",
       "      <td>0.209152</td>\n",
       "      <td>0.205151</td>\n",
       "      <td>0.206799</td>\n",
       "      <td>6.521945</td>\n",
       "      <td>0.204278</td>\n",
       "    </tr>\n",
       "    <tr>\n",
       "      <th>7699</th>\n",
       "      <td>indirectly</td>\n",
       "      <td>4.325375</td>\n",
       "      <td>0.201673</td>\n",
       "      <td>0.203538</td>\n",
       "      <td>2.406228</td>\n",
       "      <td>0.200626</td>\n",
       "    </tr>\n",
       "    <tr>\n",
       "      <th>7700</th>\n",
       "      <td>volumes</td>\n",
       "      <td>0.217598</td>\n",
       "      <td>0.200145</td>\n",
       "      <td>8.303690</td>\n",
       "      <td>0.205567</td>\n",
       "      <td>0.249232</td>\n",
       "    </tr>\n",
       "    <tr>\n",
       "      <th>7701</th>\n",
       "      <td>allein</td>\n",
       "      <td>0.200000</td>\n",
       "      <td>0.200000</td>\n",
       "      <td>0.200000</td>\n",
       "      <td>0.200000</td>\n",
       "      <td>0.200000</td>\n",
       "    </tr>\n",
       "  </tbody>\n",
       "</table>\n",
       "<p>7702 rows × 6 columns</p>\n",
       "</div>"
      ],
      "text/plain": [
       "            word   Topic 1    Topic 2   Topic 3   Topic 4   Topic 5\n",
       "0       writings  0.200000   0.200000  0.200000  0.200000  0.200000\n",
       "1         yellow  0.200000   0.200000  0.200000  0.200000  0.200000\n",
       "2           four  0.206940  44.977877  0.204583  0.202544  0.206400\n",
       "3          woods  0.200000   0.200000  0.200000  0.200000  0.200000\n",
       "4        hanging  0.200791   3.213850  0.200003  0.200003  0.200001\n",
       "...          ...       ...        ...       ...       ...       ...\n",
       "7697     upwards  0.201441   0.847169  0.200982  0.200405  0.201466\n",
       "7698       ranks  0.209152   0.205151  0.206799  6.521945  0.204278\n",
       "7699  indirectly  4.325375   0.201673  0.203538  2.406228  0.200626\n",
       "7700     volumes  0.217598   0.200145  8.303690  0.205567  0.249232\n",
       "7701      allein  0.200000   0.200000  0.200000  0.200000  0.200000\n",
       "\n",
       "[7702 rows x 6 columns]"
      ]
     },
     "execution_count": 18,
     "metadata": {},
     "output_type": "execute_result"
    }
   ],
   "source": [
    "lambda_df = pd.DataFrame({'word':list(vocab.keys())})\n",
    "for i in range(K):\n",
    "    lambda_df['Topic {}'.format(i+1)] = lda._lambda[i,:]\n",
    "lambda_df"
   ]
  },
  {
   "cell_type": "markdown",
   "metadata": {},
   "source": [
    "Para entender cómo el algoritmo de LDA ha calculado la distribución de probabilidades de cada tema podemos observar las 10 palabras con mayor probabilidad por tema:"
   ]
  },
  {
   "cell_type": "code",
   "execution_count": 19,
   "metadata": {
    "ExecuteTime": {
     "end_time": "2020-05-26T19:04:58.336169Z",
     "start_time": "2020-05-26T19:04:57.118924Z"
    }
   },
   "outputs": [
    {
     "name": "stdout",
     "output_type": "stream",
     "text": [
      "Topic 1 probability: 68.85%\n",
      "          word      Topic 1\n",
      "6637     model  1133.612563\n",
      "1884   problem  1063.990712\n",
      "4605      show  1018.162066\n",
      "493       time  1002.819152\n",
      "3590     based   956.433807\n",
      "2076   network   930.434894\n",
      "2717  learning   842.337947\n",
      "1067     paper   752.891165\n",
      "1428   results   720.292113\n",
      "4909       two   686.706542 \n",
      "\n",
      "Topic 2 probability: 5.46%\n",
      "           word     Topic 2\n",
      "6351     states  122.381047\n",
      "1538       high  114.570570\n",
      "4909        two  114.543936\n",
      "933        mass   94.501846\n",
      "1646     system   92.395622\n",
      "3486       mode   85.939200\n",
      "7125  questions   81.693414\n",
      "4218  materials   79.402431\n",
      "524     current   78.098804\n",
      "5640   material   63.787907 \n",
      "\n",
      "Topic 3 probability: 4.39%\n",
      "           word     Topic 3\n",
      "5548       text  167.036181\n",
      "310       logic   82.823291\n",
      "4069    medical   78.734873\n",
      "1994       word   64.431517\n",
      "402       right   64.389738\n",
      "941   reasoning   58.585576\n",
      "3183    missing   56.564215\n",
      "4222       left   55.461916\n",
      "5231        big   54.268199\n",
      "4064    regular   46.175240 \n",
      "\n",
      "Topic 4 probability: 4.23%\n",
      "             word     Topic 4\n",
      "6081        games  134.312116\n",
      "7612       agents  130.354597\n",
      "4437        agent  124.971849\n",
      "3264         game  115.601878\n",
      "4479        group  104.648904\n",
      "6948  temperature   93.262343\n",
      "6915      induced   82.122435\n",
      "4045       matter   70.348816\n",
      "6471   population   63.553525\n",
      "6320       groups   61.281831 \n",
      "\n",
      "Topic 5 probability: 17.08%\n",
      "          word     Topic 5\n",
      "3524      data  761.640679\n",
      "650   training  365.100059\n",
      "3013   systems  317.782150\n",
      "879      image  313.171030\n",
      "6637     model  280.490670\n",
      "4525  language  238.397871\n",
      "4759    images  236.377681\n",
      "5361   objects  221.204687\n",
      "1646    system  213.533948\n",
      "7028       art  197.694414 \n",
      "\n"
     ]
    }
   ],
   "source": [
    "finalresults, prob_topics = lda.getTopics()\n",
    "\n",
    "for column,prob in list(zip(lambda_df.columns[1:],prob_topics)):\n",
    "    print('{} probability: {:.2f}%'.format(column,prob*100))\n",
    "    print(lambda_df.nlargest(10, [column])[['word',column]],'\\n')"
   ]
  },
  {
   "cell_type": "markdown",
   "metadata": {
    "ExecuteTime": {
     "end_time": "2020-05-26T18:06:52.651043Z",
     "start_time": "2020-05-26T18:06:52.646623Z"
    }
   },
   "source": [
    "Finalmente, también podemos observar cómo ha quedado la distribución de temas sobre el conjunto de los documentos descargados:"
   ]
  },
  {
   "cell_type": "code",
   "execution_count": 20,
   "metadata": {
    "ExecuteTime": {
     "end_time": "2020-05-26T19:04:58.893415Z",
     "start_time": "2020-05-26T19:04:58.834011Z"
    }
   },
   "outputs": [
    {
     "data": {
      "image/png": "[encoded data removed]",
      "text/plain": [
       "<Figure size 432x288 with 1 Axes>"
      ]
     },
     "metadata": {},
     "output_type": "display_data"
    }
   ],
   "source": [
    "labels = lambda_df.columns[1:]\n",
    "sizes = prob_topics*100\n",
    "explode = (0.1, 0.1, 0.1,0.1, 0.1) \n",
    "\n",
    "fig1, ax1 = plt.subplots()\n",
    "ax1.pie(sizes, explode=explode, labels=labels, autopct='%1.1f%%',\n",
    "        shadow=True, startangle=90)\n",
    "ax1.axis('equal')  # Equal aspect ratio ensures that pie is drawn as a circle.\n",
    "\n",
    "plt.show()"
   ]
  },
  {
   "cell_type": "markdown",
   "metadata": {
    "ExecuteTime": {
     "end_time": "2020-05-26T17:58:04.447402Z",
     "start_time": "2020-05-26T17:58:04.445009Z"
    }
   },
   "source": [
    "# Tarea adicional"
   ]
  },
  {
   "cell_type": "markdown",
   "metadata": {
    "ExecuteTime": {
     "end_time": "2020-05-26T17:10:57.743983Z",
     "start_time": "2020-05-26T17:10:57.741178Z"
    }
   },
   "source": [
    "Intentar reproducir el Gráfico 2 del guión del Caso de estudio 1.1.2, donde se analiza qué temas predominan en cada laboratorio."
   ]
  }
 ],
 "metadata": {
  "hide_input": false,
  "kernelspec": {
   "display_name": "Python 3",
   "language": "python",
   "name": "python3"
  },
  "language_info": {
   "codemirror_mode": {
    "name": "ipython",
    "version": 3
   },
   "file_extension": ".py",
   "mimetype": "text/x-python",
   "name": "python",
   "nbconvert_exporter": "python",
   "pygments_lexer": "ipython3",
   "version": "3.7.7"
  },
  "toc": {
   "base_numbering": 1,
   "nav_menu": {},
   "number_sections": true,
   "sideBar": true,
   "skip_h1_title": false,
   "title_cell": "Table of Contents",
   "title_sidebar": "Contents",
   "toc_cell": true,
   "toc_position": {},
   "toc_section_display": true,
   "toc_window_display": false
  },
  "varInspector": {
   "cols": {
    "lenName": 16,
    "lenType": 16,
    "lenVar": 40
   },
   "kernels_config": {
    "python": {
     "delete_cmd_postfix": "",
     "delete_cmd_prefix": "del ",
     "library": "var_list.py",
     "varRefreshCmd": "print(var_dic_list())"
    },
    "r": {
     "delete_cmd_postfix": ") ",
     "delete_cmd_prefix": "rm(",
     "library": "var_list.r",
     "varRefreshCmd": "cat(var_dic_list()) "
    }
   },
   "types_to_exclude": [
    "module",
    "function",
    "builtin_function_or_method",
    "instance",
    "_Feature"
   ],
   "window_display": true
  }
 },
 "nbformat": 4,
 "nbformat_minor": 4
}
