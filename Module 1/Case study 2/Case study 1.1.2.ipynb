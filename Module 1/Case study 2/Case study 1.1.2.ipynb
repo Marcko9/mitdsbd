{
 "cells": [
  {
   "cell_type": "markdown",
   "metadata": {
    "toc": true
   },
   "source": [
    "<h1>Table of Contents<span class=\"tocSkip\"></span></h1>\n",
    "<div class=\"toc\"><ul class=\"toc-item\"><li><span><a href=\"#Case-study-1.1.2:-LDA-analysis\" data-toc-modified-id=\"Case-study-1.1.2:-LDA-analysis-1\"><span class=\"toc-item-num\">1&nbsp;&nbsp;</span>Case study 1.1.2: LDA analysis</a></span></li><li><span><a href=\"#Database-generation-(Web-Scraping)\" data-toc-modified-id=\"Database-generation-(Web-Scraping)-2\"><span class=\"toc-item-num\">2&nbsp;&nbsp;</span>Database generation (Web Scraping)</a></span><ul class=\"toc-item\"><li><span><a href=\"#Obtaining-the-vocabulary\" data-toc-modified-id=\"Obtaining-the-vocabulary-2.1\"><span class=\"toc-item-num\">2.1&nbsp;&nbsp;</span>Obtaining the vocabulary</a></span></li></ul></li><li><span><a href=\"#LDA-SVI\" data-toc-modified-id=\"LDA-SVI-3\"><span class=\"toc-item-num\">3&nbsp;&nbsp;</span>LDA-SVI</a></span><ul class=\"toc-item\"><li><span><a href=\"#Auxiliary-functions\" data-toc-modified-id=\"Auxiliary-functions-3.1\"><span class=\"toc-item-num\">3.1&nbsp;&nbsp;</span>Auxiliary functions</a></span><ul class=\"toc-item\"><li><span><a href=\"#File-handling\" data-toc-modified-id=\"File-handling-3.1.1\"><span class=\"toc-item-num\">3.1.1&nbsp;&nbsp;</span>File handling</a></span></li><li><span><a href=\"#Feature-generation-(word-counting)\" data-toc-modified-id=\"Feature-generation-(word-counting)-3.1.2\"><span class=\"toc-item-num\">3.1.2&nbsp;&nbsp;</span>Feature generation (word counting)</a></span></li><li><span><a href=\"#Probability-distributions-calculations\" data-toc-modified-id=\"Probability-distributions-calculations-3.1.3\"><span class=\"toc-item-num\">3.1.3&nbsp;&nbsp;</span>Probability distributions calculations</a></span></li></ul></li><li><span><a href=\"#LDA-implementation-trough-SVI\" data-toc-modified-id=\"LDA-implementation-trough-SVI-3.2\"><span class=\"toc-item-num\">3.2&nbsp;&nbsp;</span>LDA implementation trough SVI</a></span></li></ul></li><li><span><a href=\"#Results\" data-toc-modified-id=\"Results-4\"><span class=\"toc-item-num\">4&nbsp;&nbsp;</span>Results</a></span></li><li><span><a href=\"#Aditional-tasks\" data-toc-modified-id=\"Aditional-tasks-5\"><span class=\"toc-item-num\">5&nbsp;&nbsp;</span>Aditional tasks</a></span></li></ul></div>"
   ]
  },
  {
   "cell_type": "markdown",
   "metadata": {},
   "source": [
    "# Case study 1.1.2: LDA analysis"
   ]
  },
  {
   "cell_type": "markdown",
   "metadata": {},
   "source": [
    "Notebook setup:"
   ]
  },
  {
   "cell_type": "code",
   "execution_count": 1,
   "metadata": {
    "ExecuteTime": {
     "end_time": "2020-05-26T18:45:39.556469Z",
     "start_time": "2020-05-26T18:45:37.530530Z"
    }
   },
   "outputs": [],
   "source": [
    "import requests\n",
    "import numpy as np\n",
    "import pandas as pd\n",
    "import matplotlib.pyplot as plt\n",
    "import time\n",
    "import csv\n",
    "\n",
    "from scipy.special import psi\n",
    "\n",
    "#Web scraping libraries\n",
    "from bs4 import BeautifulSoup\n",
    "\n",
    "from tqdm.notebook import tqdm\n",
    "\n",
    "#NLP libraries\n",
    "import nltk\n",
    "#run the first time you install nltk\n",
    "#nltk.download('punkt')\n",
    "#nltk.download('stopwords')\n",
    "from nltk.tokenize import wordpunct_tokenize\n"
   ]
  },
  {
   "cell_type": "markdown",
   "metadata": {},
   "source": [
    "# Database generation (Web Scraping)"
   ]
  },
  {
   "cell_type": "markdown",
   "metadata": {},
   "source": [
    "First of all, we need to obtain the list of EECS faculty, and the lab they belong to. In order to achieve this we can use _web scraping_ libraries like `BeautifulSoup`. This kind of libraries offer different functions for exploring the source code of websites, and allow an easy way of retrieving information from them."
   ]
  },
  {
   "cell_type": "code",
   "execution_count": 2,
   "metadata": {
    "ExecuteTime": {
     "end_time": "2020-05-26T18:45:40.185737Z",
     "start_time": "2020-05-26T18:45:39.557978Z"
    }
   },
   "outputs": [
    {
     "name": "stdout",
     "output_type": "stream",
     "text": [
      "Number of EECS faculty: 165\n",
      "[('Hal Abelson', 'CSAIL'), ('Elfar Adalsteinsson', 'RLE'), ('Anant Agarwal', 'CSAIL'), ('Pulkit Agrawal', 'CSAIL'), ('Akintunde Akinwande', 'MTL')] ...\n"
     ]
    }
   ],
   "source": [
    "#Url of EECS faculty list\n",
    "url_eecs_fac = 'https://www.eecs.mit.edu/people/faculty-advisors'\n",
    "#Downloading the source code\n",
    "html_data = requests.get(url_eecs_fac).text\n",
    "soup = BeautifulSoup(html_data, 'html.parser')\n",
    "#Storing the name and lab in two lists\n",
    "fac = [el.text for el in soup.find_all(class_ = 'field-content card-title')]\n",
    "labs = []\n",
    "for lab_raw in soup.find_all(class_ = 'views-field views-field-term-node-tid'):\n",
    "    try:\n",
    "        labs.append(lab_raw.find('a').text)\n",
    "    except:\n",
    "        labs.append('')\n",
    "#Joining both lists and deleting professors that do not belong to CSAIL, MTL, RLE or LIDS\n",
    "fac_dept = list(zip(fac,labs))\n",
    "fac_dept = [tup for tup in fac_dept if tup[1] in set(['CSAIL','MTL','RLE','LIDS'])]\n",
    "\n",
    "print('Number of EECS faculty: {}'.format(len(fac_dept)))\n",
    "print(fac_dept[:5],'...')"
   ]
  },
  {
   "cell_type": "markdown",
   "metadata": {
    "ExecuteTime": {
     "end_time": "2020-05-22T00:25:09.318063Z",
     "start_time": "2020-05-22T00:25:09.308508Z"
    }
   },
   "source": [
    "The guide of the case study suggests working with `.txt` files in a certain directory. Therefore we can create such directory (`Data`), where we'll be able to store all the abstracts of the articles of interest. In such folder, we create a file named `alldocs.txt`, where all the paths leading to the `.txt` files will be written."
   ]
  },
  {
   "cell_type": "code",
   "execution_count": 3,
   "metadata": {
    "ExecuteTime": {
     "end_time": "2020-05-26T18:45:40.196415Z",
     "start_time": "2020-05-26T18:45:40.188553Z"
    }
   },
   "outputs": [],
   "source": [
    "#Creating list of all docs ('alldocs.txt') in the desired directory\n",
    "DATA_DIRECTORY = 'Data/'\n",
    "\n",
    "with open(r\"{}{}.txt\".format(DATA_DIRECTORY,'alldocs'), \"w\") as f:\n",
    "    pass    "
   ]
  },
  {
   "cell_type": "markdown",
   "metadata": {},
   "source": [
    "A function for obtaining all the _arXiv_ articles for a certain author can be defined. We can also define a function that stores their abstracts in `.txt`files."
   ]
  },
  {
   "cell_type": "code",
   "execution_count": 4,
   "metadata": {
    "ExecuteTime": {
     "end_time": "2020-05-26T18:45:40.747965Z",
     "start_time": "2020-05-26T18:45:40.198048Z"
    }
   },
   "outputs": [
    {
     "name": "stdout",
     "output_type": "stream",
     "text": [
      "Example of an article by Tamara Broderick: \n",
      "\n",
      "arXiv ID: 1912.05516 (url: https://arxiv.org/abs/1912.05516 )\n",
      "Title: More for less: Predicting and maximizing genetic variant discovery via Bayesian nonparametrics\n",
      "Authors: ['Lorenzo Masoero', 'Federico Camerlenghi', 'Stefano Favaro', 'Tamara Broderick']\n",
      "---\n",
      "While the cost of sequencing genomes has decreased dramatically in recent years, this expense often remains non-trivial. Under a fixed budget, then, scientists face a natural trade-off between quantity and quality; they can spend resources to sequence a greater number of genomes (quantity) or spend resources to sequence genomes with increased accuracy (quality). Our goal is to find the optimal allocation of resources between quantity and quality. Optimizing resource allocation promises to reveal as many new variations in the genome as possible, and thus as many new scientific insights as possible. In this paper, we consider the common setting where scientists have already conducted a pilot study to reveal variants in a genome and are contemplating a follow-up study. We introduce a Bayesian nonparametric methodology to predict the number of new variants in the follow-up study based on the pilot study. When experimental conditions are kept constant between the pilot and follow-up, we demonstrate on real data from the gnomAD project that our prediction is more accurate than three recent proposals, and competitive with a more classic proposal. Unlike existing methods, though, our method allows practitioners to change experimental conditions between the pilot and the follow-up. We demonstrate how this distinction allows our method to be used for (i) more realistic predictions and (ii) optimal allocation of a fixed budget between quality and quantity.\n",
      "---\n"
     ]
    }
   ],
   "source": [
    "def save_abstract_to_txt(filename,content,directory=DATA_DIRECTORY):\n",
    "    '''\n",
    "    Creates a new .txt file and writing the abstract in it.\n",
    "    Saves the title as a new line in the alldocs.txt file\n",
    "    '''\n",
    "    with open(r\"{}{}.txt\".format(directory,filename), \"w\") as f:\n",
    "        print(content, file=f)\n",
    "        \n",
    "    with open(r\"{}{}.txt\".format(directory,'alldocs'), \"a\") as alldocs:\n",
    "        alldocs.write(filename+'.txt\\n')\n",
    "        \n",
    "def get_articles_for_author(author,save_abstracts = False):\n",
    "    base_url = 'https://arxiv.org/search/?query=%22{name}%22&searchtype=author&abstracts=show&order=-announced_date_first&size=200'\n",
    "    author_query_url = base_url.format(name= author.replace(' ','+'))\n",
    "    query_result = requests.get(author_query_url).text\n",
    "    soup = BeautifulSoup(query_result, 'html.parser')\n",
    "    articles = soup.find_all(class_ = 'arxiv-result')\n",
    "    #print('{} articles found for author = \\\"{}\\\"\\n'.format(len(articles),author))\n",
    "\n",
    "    #print('Parsing information from html arXiv source code: id, title, authors and abstract\\n')\n",
    "    ids = [el.find(class_ = 'list-title is-inline-block').find('a').text.strip('arXiv:') for el in articles]\n",
    "    ids = [el.split('/')[1] if el.find('/')>=0 else el for el in ids]\n",
    "    \n",
    "    titles = [el.find(class_ = 'title is-5 mathjax').text.strip(' \\n') for el in articles]\n",
    "    authors = [[author.text for author in el.find(class_ = 'authors').find_all('a')] for el in articles]\n",
    "    abstracts = [el.find(class_ = 'abstract-full has-text-grey-dark mathjax').text[9:-16] for el in articles]\n",
    "    urls = [el.find(class_ = 'list-title is-inline-block').find('a')['href'] for el in articles]\n",
    "    \n",
    "    #Saving abstracts\n",
    "    if save_abstracts:\n",
    "        for i in range(len(articles)):\n",
    "            save_abstract_to_txt(ids[i], abstracts[i])\n",
    "    \n",
    "    return ids, titles, authors, urls, abstracts\n",
    "\n",
    "author = fac_dept[23][0]\n",
    "print('Example of an article by {}: \\n'.format(author))\n",
    "ids, titles, authors, urls, abstracts = get_articles_for_author(author)\n",
    "i = 0\n",
    "print('arXiv ID: {} (url: {} )'.format(ids[i],urls[i]))\n",
    "print('Title: {}'.format(titles[i]))\n",
    "print('Authors: {}'.format(authors[i]))\n",
    "print('---\\n{}\\n---'.format(abstracts[i]))"
   ]
  },
  {
   "cell_type": "markdown",
   "metadata": {},
   "source": [
    "Once we have such function defined, and we've checked it works, we can iterate through the list of professors to obtain all the arXiv articles, and store them in `.txt` files."
   ]
  },
  {
   "cell_type": "code",
   "execution_count": 5,
   "metadata": {
    "ExecuteTime": {
     "end_time": "2020-05-26T18:46:36.127878Z",
     "start_time": "2020-05-26T18:45:40.749984Z"
    }
   },
   "outputs": [
    {
     "name": "stdout",
     "output_type": "stream",
     "text": [
      "Downloading articles of each professor:\n",
      "0/165 authors\n",
      "10/165 authors\n",
      "20/165 authors\n",
      "30/165 authors\n",
      "40/165 authors\n",
      "50/165 authors\n",
      "60/165 authors\n",
      "70/165 authors\n",
      "80/165 authors\n",
      "90/165 authors\n",
      "100/165 authors\n",
      "110/165 authors\n",
      "120/165 authors\n",
      "130/165 authors\n",
      "140/165 authors\n",
      "150/165 authors\n",
      "160/165 authors\n",
      "2614 articles downloaded in 55.37s\n"
     ]
    }
   ],
   "source": [
    "ids = []\n",
    "titles = []\n",
    "authors = []\n",
    "labs = []\n",
    "EECS_facs = []\n",
    "urls = []\n",
    "abstracts = []\n",
    "print('Downloading articles of each professor:')\n",
    "t0 = time.time()\n",
    "for i,fac in enumerate(fac_dept):\n",
    "    id_list, title_list, author_list, url_list, abstract_list  = get_articles_for_author(fac[0],save_abstracts= True)\n",
    "    ids += id_list\n",
    "    titles += title_list\n",
    "    authors += author_list\n",
    "    urls += url_list\n",
    "    abstracts += abstract_list\n",
    "    labs += [fac[1]]*len(id_list)\n",
    "    EECS_facs += [fac[0]]*len(id_list)\n",
    "    if round(i/10) == i/10:\n",
    "        print('{}/{} authors'.format(i,len(fac_dept)))\n",
    "tf = time.time()\n",
    "print('{} articles downloaded in {:.2f}s'.format(len(ids),tf-t0))"
   ]
  },
  {
   "cell_type": "markdown",
   "metadata": {},
   "source": [
    "If instead of working with different `.txt` files, we would like to store all the information in a `pandas` data frame, the next ecll shows how to do so:"
   ]
  },
  {
   "cell_type": "code",
   "execution_count": 6,
   "metadata": {
    "ExecuteTime": {
     "end_time": "2020-05-26T18:46:36.157286Z",
     "start_time": "2020-05-26T18:46:36.129928Z"
    }
   },
   "outputs": [
    {
     "data": {
      "text/html": [
       "<div>\n",
       "<style scoped>\n",
       "    .dataframe tbody tr th:only-of-type {\n",
       "        vertical-align: middle;\n",
       "    }\n",
       "\n",
       "    .dataframe tbody tr th {\n",
       "        vertical-align: top;\n",
       "    }\n",
       "\n",
       "    .dataframe thead th {\n",
       "        text-align: right;\n",
       "    }\n",
       "</style>\n",
       "<table border=\"1\" class=\"dataframe\">\n",
       "  <thead>\n",
       "    <tr style=\"text-align: right;\">\n",
       "      <th></th>\n",
       "      <th>id</th>\n",
       "      <th>title</th>\n",
       "      <th>EECS_prof</th>\n",
       "      <th>lab</th>\n",
       "      <th>authors</th>\n",
       "      <th>url</th>\n",
       "      <th>abstract</th>\n",
       "    </tr>\n",
       "  </thead>\n",
       "  <tbody>\n",
       "    <tr>\n",
       "      <th>0</th>\n",
       "      <td>1910.03273</td>\n",
       "      <td>Joint multi-contrast Variational Network recon...</td>\n",
       "      <td>Elfar Adalsteinsson</td>\n",
       "      <td>RLE</td>\n",
       "      <td>[Daniel Polak, Stephen Cauley, Berkin Bilgic, ...</td>\n",
       "      <td>https://arxiv.org/abs/1910.03273</td>\n",
       "      <td>Purpose: To improve the image quality of highl...</td>\n",
       "    </tr>\n",
       "    <tr>\n",
       "      <th>1</th>\n",
       "      <td>1909.13692</td>\n",
       "      <td>Nonlinear Dipole Inversion (NDI) enables Quant...</td>\n",
       "      <td>Elfar Adalsteinsson</td>\n",
       "      <td>RLE</td>\n",
       "      <td>[Daniel Polak, Itthi Chatnuntawech, Jaeyeon Yo...</td>\n",
       "      <td>https://arxiv.org/abs/1909.13692</td>\n",
       "      <td>We propose Nonlinear Dipole Inversion (NDI) fo...</td>\n",
       "    </tr>\n",
       "    <tr>\n",
       "      <th>2</th>\n",
       "      <td>1907.04500</td>\n",
       "      <td>Fetal Pose Estimation in Volumetric MRI using ...</td>\n",
       "      <td>Elfar Adalsteinsson</td>\n",
       "      <td>RLE</td>\n",
       "      <td>[Junshen Xu, Molin Zhang, Esra Abaci Turk, Lar...</td>\n",
       "      <td>https://arxiv.org/abs/1907.04500</td>\n",
       "      <td>The performance and diagnostic utility of magn...</td>\n",
       "    </tr>\n",
       "    <tr>\n",
       "      <th>3</th>\n",
       "      <td>1903.02959</td>\n",
       "      <td>Temporal Registration in Application to In-ute...</td>\n",
       "      <td>Elfar Adalsteinsson</td>\n",
       "      <td>RLE</td>\n",
       "      <td>[Ruizhi Liao, Esra A. Turk, Miaomiao Zhang, Ji...</td>\n",
       "      <td>https://arxiv.org/abs/1903.02959</td>\n",
       "      <td>We present a robust method to correct for moti...</td>\n",
       "    </tr>\n",
       "    <tr>\n",
       "      <th>4</th>\n",
       "      <td>1608.03907</td>\n",
       "      <td>Temporal Registration in In-Utero Volumetric M...</td>\n",
       "      <td>Elfar Adalsteinsson</td>\n",
       "      <td>RLE</td>\n",
       "      <td>[Ruizhi Liao, Esra Turk, Miaomiao Zhang, Jie L...</td>\n",
       "      <td>https://arxiv.org/abs/1608.03907</td>\n",
       "      <td>We present a robust method to correct for moti...</td>\n",
       "    </tr>\n",
       "  </tbody>\n",
       "</table>\n",
       "</div>"
      ],
      "text/plain": [
       "           id                                              title  \\\n",
       "0  1910.03273  Joint multi-contrast Variational Network recon...   \n",
       "1  1909.13692  Nonlinear Dipole Inversion (NDI) enables Quant...   \n",
       "2  1907.04500  Fetal Pose Estimation in Volumetric MRI using ...   \n",
       "3  1903.02959  Temporal Registration in Application to In-ute...   \n",
       "4  1608.03907  Temporal Registration in In-Utero Volumetric M...   \n",
       "\n",
       "             EECS_prof  lab  \\\n",
       "0  Elfar Adalsteinsson  RLE   \n",
       "1  Elfar Adalsteinsson  RLE   \n",
       "2  Elfar Adalsteinsson  RLE   \n",
       "3  Elfar Adalsteinsson  RLE   \n",
       "4  Elfar Adalsteinsson  RLE   \n",
       "\n",
       "                                             authors  \\\n",
       "0  [Daniel Polak, Stephen Cauley, Berkin Bilgic, ...   \n",
       "1  [Daniel Polak, Itthi Chatnuntawech, Jaeyeon Yo...   \n",
       "2  [Junshen Xu, Molin Zhang, Esra Abaci Turk, Lar...   \n",
       "3  [Ruizhi Liao, Esra A. Turk, Miaomiao Zhang, Ji...   \n",
       "4  [Ruizhi Liao, Esra Turk, Miaomiao Zhang, Jie L...   \n",
       "\n",
       "                                url  \\\n",
       "0  https://arxiv.org/abs/1910.03273   \n",
       "1  https://arxiv.org/abs/1909.13692   \n",
       "2  https://arxiv.org/abs/1907.04500   \n",
       "3  https://arxiv.org/abs/1903.02959   \n",
       "4  https://arxiv.org/abs/1608.03907   \n",
       "\n",
       "                                            abstract  \n",
       "0  Purpose: To improve the image quality of highl...  \n",
       "1  We propose Nonlinear Dipole Inversion (NDI) fo...  \n",
       "2  The performance and diagnostic utility of magn...  \n",
       "3  We present a robust method to correct for moti...  \n",
       "4  We present a robust method to correct for moti...  "
      ]
     },
     "execution_count": 6,
     "metadata": {},
     "output_type": "execute_result"
    }
   ],
   "source": [
    "df = pd.DataFrame({'id':ids,'title':titles,'EECS_prof':EECS_facs,'lab':labs,'authors':authors,'url':urls,'abstract':abstracts})\n",
    "df[['id','lab']] = df[['id','lab']].drop_duplicates()\n",
    "df.head()"
   ]
  },
  {
   "cell_type": "markdown",
   "metadata": {},
   "source": [
    "## Obtaining the vocabulary"
   ]
  },
  {
   "cell_type": "markdown",
   "metadata": {},
   "source": [
    "In order to use LDA, we need a `.csv` file with the vocabulary. We can obtain it from the original LDA SVI repository by blei-lab: \n",
    "* https://raw.githubusercontent.com/blei-lab/onlineldavb/master/dictnostops.txt"
   ]
  },
  {
   "cell_type": "code",
   "execution_count": 7,
   "metadata": {
    "ExecuteTime": {
     "end_time": "2020-05-26T18:46:37.121851Z",
     "start_time": "2020-05-26T18:46:36.159276Z"
    }
   },
   "outputs": [],
   "source": [
    "url = 'https://raw.githubusercontent.com/blei-lab/onlineldavb/master/dictnostops.txt'\n",
    "vocab = pd.Series(requests.get(url).text.split('\\n')[:-1])\n",
    "vocab.to_csv('Data/dictionary.csv',header=False,index=False)"
   ]
  },
  {
   "cell_type": "markdown",
   "metadata": {
    "ExecuteTime": {
     "end_time": "2020-05-20T21:11:08.244070Z",
     "start_time": "2020-05-20T21:11:08.241636Z"
    }
   },
   "source": [
    "# LDA-SVI"
   ]
  },
  {
   "cell_type": "markdown",
   "metadata": {
    "ExecuteTime": {
     "end_time": "2020-05-25T21:42:27.687982Z",
     "start_time": "2020-05-25T21:42:27.685864Z"
    }
   },
   "source": [
    "## Auxiliary functions"
   ]
  },
  {
   "cell_type": "markdown",
   "metadata": {
    "heading_collapsed": true
   },
   "source": [
    "### File handling"
   ]
  },
  {
   "cell_type": "code",
   "execution_count": 8,
   "metadata": {
    "ExecuteTime": {
     "end_time": "2020-05-26T18:46:37.131241Z",
     "start_time": "2020-05-26T18:46:37.125102Z"
    },
    "hidden": true
   },
   "outputs": [],
   "source": [
    "def get_filenames(filename):\n",
    "    filenames = []\n",
    "    with open(r\"{}{}\".format(DATA_DIRECTORY,filename), 'r') as f:\n",
    "        docs = f.readlines()\n",
    "        for doc in docs:\n",
    "            filenames.append(str(doc).split(\"\\n\")[0])\n",
    "    return filenames\n",
    "\n",
    "def getfiles(filename):\n",
    "    f = open(r\"{}{}\".format(DATA_DIRECTORY,filename), 'r')\n",
    "    doc = f.read().split('\\n')[0]\n",
    "    return doc\n",
    "\n",
    "def getalldocs(filename = None):\n",
    "    files = get_filenames(filename)\n",
    "    docs = []\n",
    "    for file in files:\n",
    "        doc = getfiles(file)\n",
    "        docs.append(doc)\n",
    "    return docs\n",
    "\n",
    "def getVocab(file):\n",
    "    '''getting vocab dictionary from a csv file (nostopwords)'''\n",
    "    vocab = dict()\n",
    "    with open(r\"{}{}\".format(DATA_DIRECTORY,file), 'r') as infile:\n",
    "        reader = csv.reader(infile)\n",
    "        for index, row in enumerate(reader):\n",
    "            vocab[row[0]] = index\n",
    "\n",
    "    return vocab"
   ]
  },
  {
   "cell_type": "markdown",
   "metadata": {
    "heading_collapsed": true
   },
   "source": [
    "### Feature generation (word counting)"
   ]
  },
  {
   "cell_type": "code",
   "execution_count": 9,
   "metadata": {
    "ExecuteTime": {
     "end_time": "2020-05-26T18:46:37.139097Z",
     "start_time": "2020-05-26T18:46:37.134754Z"
    },
    "hidden": true
   },
   "outputs": [],
   "source": [
    "def parseDocument(doc, vocab):\n",
    "    wordslist = list()\n",
    "    countslist = list()\n",
    "    doc = doc.lower()\n",
    "    tokens = wordpunct_tokenize(doc)\n",
    "\n",
    "    dictionary = dict()\n",
    "    for word in tokens:\n",
    "        if word in vocab:\n",
    "            wordtk = vocab[word]\n",
    "            if wordtk not in dictionary:\n",
    "                dictionary[wordtk] = 1\n",
    "            else:\n",
    "                dictionary[wordtk] += 1\n",
    "\n",
    "    wordslist.append(list(dictionary.keys()))\n",
    "    countslist.append(list(dictionary.values()))\n",
    "    return (wordslist[0], countslist[0])"
   ]
  },
  {
   "cell_type": "markdown",
   "metadata": {
    "heading_collapsed": true
   },
   "source": [
    "### Probability distributions calculations"
   ]
  },
  {
   "cell_type": "code",
   "execution_count": 10,
   "metadata": {
    "ExecuteTime": {
     "end_time": "2020-05-26T18:46:37.147093Z",
     "start_time": "2020-05-26T18:46:37.140927Z"
    },
    "hidden": true
   },
   "outputs": [],
   "source": [
    "def dirichlet_expectation(alpha):\n",
    "    '''\n",
    "    For a vector theta ~ Dir(alpha), computes E[log(theta)] given alpha.\n",
    "    \n",
    "    Taken from https://github.com/blei-lab/onlineldavb/blob/master/onlineldavb.py\n",
    "    '''\n",
    "    if (len(alpha.shape) == 1):\n",
    "        return (psi(alpha) - psi(n.sum(alpha)))\n",
    "    return (psi(alpha) - psi(n.sum(alpha, 1))[:, n.newaxis])\n",
    "\n",
    "def beta_expectation(a, b, k):\n",
    "    mysum = psi(a + b)\n",
    "    Elog_a = psi(a) - mysum\n",
    "    Elog_b = psi(b) - mysum\n",
    "    Elog_beta = n.zeros(k)\n",
    "    Elog_beta[0] = Elog_a[0]\n",
    "    # print Elog_beta\n",
    "    for i in range(1, k):\n",
    "        Elog_beta[i] = Elog_a[i] + n.sum(Elog_b[0:i])\n",
    "        # print Elog_beta\n",
    "    # print Elog_beta\n",
    "    return Elog_beta\n",
    "\n",
    "def plottrace(x, Y, K, n, perp):\n",
    "    for i in range(K):\n",
    "        plt.plot(x, Y[i], label = \"Topic %i\" %(i+1))\n",
    "\n",
    "    plt.xlabel(\"Number of Iterations\")\n",
    "    plt.ylabel(\"Probability of Each topic\")\n",
    "    plt.legend()\n",
    "    plt.title(\"Trace plot for topic probabilities\")\n",
    "    plt.savefig(\"temp/plot_%i_%i_%f.png\" %(K, n, perp))"
   ]
  },
  {
   "cell_type": "markdown",
   "metadata": {},
   "source": [
    "## LDA implementation trough SVI"
   ]
  },
  {
   "cell_type": "markdown",
   "metadata": {},
   "source": [
    "We can obtain the LDA implementation through SVI from:\n",
    "* https://github.com/qlai/stochasticLDA\n",
    "* https://github.com/blei-lab/onlineldavb"
   ]
  },
  {
   "cell_type": "code",
   "execution_count": 16,
   "metadata": {
    "ExecuteTime": {
     "end_time": "2020-05-26T18:48:57.770000Z",
     "start_time": "2020-05-26T18:48:57.734501Z"
    }
   },
   "outputs": [],
   "source": [
    "import sys, re, time, string, random, csv, argparse\n",
    "import numpy as n\n",
    "from scipy.special import psi\n",
    "from nltk.tokenize import wordpunct_tokenize\n",
    "#from utils import *\n",
    "# import matplotlib.pyplot as plt\n",
    "\n",
    "n.random.seed(10000001)\n",
    "meanchangethresh = 1e-3\n",
    "MAXITER = 10000\n",
    "\n",
    "class SVILDA():\n",
    "    \"\"\"\n",
    "        Arguments:\n",
    "        K: Number of topics\n",
    "        vocab: A set of words to recognize. When analyzing documents, any word\n",
    "           not in this set will be ignored.\n",
    "        D: Total number of documents in the population. For a fixed corpus,\n",
    "           this is the size of the corpus. In the truly online setting, this\n",
    "           can be an estimate of the maximum number of documents that\n",
    "           could ever be seen.\n",
    "        alpha: Hyperparameter for prior on weight vectors theta\n",
    "        eta: Hyperparameter for prior on topics beta\n",
    "        tau: A (positive) learning parameter that downweights early iterations\n",
    "        kappa: Learning rate: exponential decay rate---should be between\n",
    "             (0.5, 1.0] to guarantee asymptotic convergence.\n",
    "        Note that if you pass the same set of D documents in every time and\n",
    "        set kappa=0 this class can also be used to do batch VB.\n",
    "    \"\"\"\n",
    "        \n",
    "    def __init__(self, vocab, K, D, alpha, eta, tau, kappa, docs, iterations, parsed = False):\n",
    "        self._vocab = vocab\n",
    "        self._V = len(vocab)\n",
    "        self._K = K\n",
    "        self._D = D\n",
    "        self._alpha = alpha\n",
    "        self._eta = eta\n",
    "        self._tau = tau\n",
    "        self._kappa = kappa\n",
    "        self._lambda = 1* n.random.gamma(100., 1./100., (self._K, self._V))\n",
    "        self._Elogbeta = dirichlet_expectation(self._lambda)\n",
    "        self._expElogbeta = n.exp(self._Elogbeta)\n",
    "        self._docs = docs\n",
    "        self.ct = 0\n",
    "        self._iterations = iterations\n",
    "        self._parsed = parsed\n",
    "        self._trace_lambda = {}\n",
    "        for i in range(self._K):\n",
    "            self._trace_lambda[i] = [self.computeProbabilities()[i]]\n",
    "        self._x = [0]\n",
    "\n",
    "    def updateLocal(self, doc): #word_dn is an indicator variable with dimension V\n",
    "        (words, counts) = doc\n",
    "        newdoc = []\n",
    "        N_d = sum(counts)\n",
    "        phi_d = n.zeros((self._K, N_d))\n",
    "        gamma_d = n.random.gamma(100., 1./100., (self._K))\n",
    "        Elogtheta_d = dirichlet_expectation(gamma_d)\n",
    "        expElogtheta_d = n.exp(Elogtheta_d)\n",
    "        for i, item in enumerate(counts):\n",
    "            for j in range(item):\n",
    "                newdoc.append(words[i])\n",
    "        assert len(newdoc) == N_d, \"error\"\n",
    "\n",
    "        for i in range(self._iterations):\n",
    "            for m, word in enumerate(newdoc):\n",
    "                phi_d[:, m] = n.multiply(expElogtheta_d, self._expElogbeta[:, word]) + 1e-100\n",
    "                phi_d[:, m] = phi_d[:, m]/n.sum(phi_d[:, m])\n",
    "\n",
    "            gamma_new = self._alpha + n.sum(phi_d, axis = 1)\n",
    "            meanchange = n.mean(abs(gamma_d - gamma_new))\n",
    "            if (meanchange < meanchangethresh):\n",
    "                break\n",
    "\n",
    "            gamma_d = gamma_new\n",
    "            Elogtheta_d = dirichlet_expectation(gamma_d)\n",
    "            expElogtheta_d = n.exp(Elogtheta_d)\n",
    "\n",
    "        newdoc = n.asarray(newdoc)\n",
    "        return phi_d, newdoc, gamma_d\n",
    "\n",
    "    def updateGlobal(self, phi_d, doc):\n",
    "\n",
    "        lambda_d = n.zeros((self._K, self._V))\n",
    "\n",
    "        for k in range(self._K):\n",
    "            phi_dk = n.zeros(self._V)\n",
    "            for m, word in enumerate(doc):\n",
    "                phi_dk[word] += phi_d[k][m] \n",
    "            lambda_d[k] = self._eta + self._D * phi_dk\n",
    "        rho = (self.ct + self._tau) **(-self._kappa)\n",
    "        self._lambda = (1-rho) * self._lambda + rho * lambda_d\n",
    "        self._Elogbeta = dirichlet_expectation(self._lambda)\n",
    "        self._expElogbeta = n.exp(self._Elogbeta)\n",
    "\n",
    "        if self.ct % 10 == 9:\n",
    "            for i in range(self._K):\n",
    "                self._trace_lambda[i].append(self.computeProbabilities()[i])\n",
    "            self._x.append(self.ct)\n",
    "\n",
    "    def runSVI(self):\n",
    "        for i in tqdm(range(self._iterations)):\n",
    "            randint = random.randint(0, self._D-1)\n",
    "            #print(\"ITERATION\", i, \" running document number \", randint)\n",
    "            if self._parsed == False:\n",
    "                doc = parseDocument(self._docs[randint],self._vocab)\n",
    "            phi_doc, newdoc, gamma_d = self.updateLocal(doc)\n",
    "            self.updateGlobal(phi_doc, newdoc)\n",
    "            self.ct += 1\n",
    "                \n",
    "    def computeProbabilities(self):\n",
    "        prob_topics = n.sum(self._lambda, axis = 1)\n",
    "        prob_topics = prob_topics/n.sum(prob_topics)\n",
    "        return prob_topics\n",
    "\n",
    "    def getTopics(self, docs = None):\n",
    "        prob_topics = self.computeProbabilities()\n",
    "        prob_words = n.sum(self._lambda, axis = 0)\n",
    "\n",
    "        if docs == None:\n",
    "            docs = self._docs\n",
    "        results = n.zeros((len(docs), self._K))\n",
    "        for i, doc in enumerate(docs):\n",
    "            parseddoc = parseDocument(doc, self._vocab)\n",
    "\n",
    "            for j in range(self._K):\n",
    "                aux = [self._lambda[j][word]/prob_words[word] for word in parseddoc[0]]\n",
    "                doc_probability = [n.log(aux[k]) * parseddoc[1][k] for k in range(len(aux))]\n",
    "                results[i][j] = sum(doc_probability) + n.log(prob_topics[j])\n",
    "        finalresults = n.zeros(len(docs))\n",
    "        for k in range(len(docs)):\n",
    "            finalresults[k] = n.argmax(results[k])\n",
    "        return finalresults, prob_topics\n",
    "\n",
    "    def calcPerplexity(self, docs = None):\n",
    "        perplexity = 0.\n",
    "        doclen = 0.\n",
    "        if docs == None:\n",
    "            docs =  self._docs\n",
    "        for doc in docs:\n",
    "            parseddoc = parseDocument(doc, self._vocab)\n",
    "            _, newdoc, gamma_d = self.updateLocal(parseddoc)\n",
    "            approx_mixture = n.dot(gamma_d, self._lambda)\n",
    "            # print(n.shape(approx_mixture))\n",
    "            approx_mixture = approx_mixture / n.sum(approx_mixture)\n",
    "            log_doc_prob = 0.\n",
    "            for word in newdoc:\n",
    "                log_doc_prob += n.log(approx_mixture[word])\n",
    "            perplexity += log_doc_prob\n",
    "            doclen += len(newdoc)\n",
    "            # print(perplexity, doclen)\n",
    "        perplexity = n.exp( - perplexity / doclen)\n",
    "        print(perplexity)\n",
    "        return perplexity\n",
    "\n",
    "    def plotTopics(self, perp):\n",
    "        plottrace(self._x, self._trace_lambda, self._K, self._iterations, perp)\n",
    "\n",
    "def test(k, iterations):\n",
    "\n",
    "    docs = getalldocs(\"alldocs2.txt\")\n",
    "    vocab = getVocab(\"dictionary2.csv\")\n",
    "    \n",
    "    testset = SVILDA(vocab = vocab, K = k, D = len(docs), alpha = 0.2,\n",
    "                     eta = 0.2, tau = 1024, kappa = 0.7, docs = docs,\n",
    "                     iterations= iterations)\n",
    "    testset.runSVI()\n",
    "    finallambda = testset._lambda\n",
    "\n",
    "    heldoutdocs = getalldocs(\"testdocs.txt\")\n",
    "    perplexity = testset.calcPerplexity(docs = heldoutdocs)\n",
    "\n",
    "    with open(\"temp/%i_%i_%f_results.csv\" %(k, iterations, perplexity), \"w+\") as f:\n",
    "        writer = csv.writer(f)\n",
    "        for i in range(k):\n",
    "            bestwords = sorted(range(len(finallambda[i])), key=lambda j:finallambda[i, j])\n",
    "            bestwords.reverse()\n",
    "            writer.writerow([i])\n",
    "            for j, word in enumerate(bestwords):\n",
    "                writer.writerow([word, vocab.keys()[vocab.values().index(word)]])\n",
    "                if j >= 15:\n",
    "                    break\n",
    "    topics, topic_probs = testset.getTopics()\n",
    "    testset.plotTopics(perplexity)\n",
    "\n",
    "    for kk in range(0, len(finallambda)):\n",
    "        lambdak = list(finallambda[kk, :])\n",
    "        lambdak = lambdak / sum(lambdak)\n",
    "        temp = zip(lambdak, range(0, len(lambdak)))\n",
    "        temp = sorted(temp, key = lambda x: x[0], reverse=True)\n",
    "        # print temp\n",
    "        print('topic %d:' % (kk))\n",
    "        # feel free to change the \"53\" here to whatever fits your screen nicely.\n",
    "        for i in range(0, 10):\n",
    "            print('%20s  \\t---\\t  %.4f' % (vocab.keys()[vocab.values().index(temp[i][1])], temp[i][0]))\n",
    "\n",
    "    with open(\"temp/%i_%i_%f_raw.txt\" %(k, iterations, perplexity), \"w+\") as f:\n",
    "        # f.write(finallambda)\n",
    "        for result in topics:\n",
    "            f.write(str(result) + \" \\n\")\n",
    "        f.write(str(topic_probs) + \" \\n\")"
   ]
  },
  {
   "cell_type": "markdown",
   "metadata": {},
   "source": [
    "# Results"
   ]
  },
  {
   "cell_type": "markdown",
   "metadata": {
    "ExecuteTime": {
     "end_time": "2020-05-26T18:03:47.654905Z",
     "start_time": "2020-05-26T18:03:47.651034Z"
    }
   },
   "source": [
    "Once the necessary functions have been defined, we just need to run the LDA analysis:"
   ]
  },
  {
   "cell_type": "code",
   "execution_count": 17,
   "metadata": {
    "ExecuteTime": {
     "end_time": "2020-05-26T18:50:00.612608Z",
     "start_time": "2020-05-26T18:48:59.711622Z"
    }
   },
   "outputs": [
    {
     "name": "stdout",
     "output_type": "stream",
     "text": [
      "number of docs: 2614\n"
     ]
    },
    {
     "data": {
      "application/vnd.jupyter.widget-view+json": {
       "model_id": "6ec06a958d334e07959b147e3028c4cd",
       "version_major": 2,
       "version_minor": 0
      },
      "text/plain": [
       "HBox(children=(FloatProgress(value=0.0, max=10000.0), HTML(value='')))"
      ]
     },
     "metadata": {},
     "output_type": "display_data"
    },
    {
     "name": "stdout",
     "output_type": "stream",
     "text": [
      "\n"
     ]
    }
   ],
   "source": [
    "mode = 'normal'\n",
    "K = 5\n",
    "alpha = 0.2\n",
    "eta = 0.2\n",
    "tau = 1024\n",
    "kappa = 0.7\n",
    "iterations = 10000\n",
    "docs = \"alldocs.txt\"\n",
    "vocab = \"dictionary.csv\"\n",
    "\n",
    "if mode == \"test\":\n",
    "    test(K, iterations)\n",
    "if mode == \"normal\":\n",
    "    assert vocab is not None, \"no vocab\"\n",
    "    assert docs is not None, \"no docs\"\n",
    "    docs = getalldocs(docs)\n",
    "    D = len(docs)\n",
    "    print('number of docs: {}'.format(D))\n",
    "    vocab = getVocab(vocab)\n",
    "    lda = SVILDA(vocab = vocab, K = K, D = D, alpha = alpha, \n",
    "                 eta = eta, tau = tau, kappa = kappa, docs = docs, \n",
    "                 iterations = iterations)\n",
    "    lda.runSVI()\n",
    "    lda"
   ]
  },
  {
   "cell_type": "markdown",
   "metadata": {},
   "source": [
    "We can observe the probability distributions over words for each topic:"
   ]
  },
  {
   "cell_type": "code",
   "execution_count": 18,
   "metadata": {
    "ExecuteTime": {
     "end_time": "2020-05-26T18:50:01.263240Z",
     "start_time": "2020-05-26T18:50:01.245746Z"
    }
   },
   "outputs": [
    {
     "data": {
      "text/html": [
       "<div>\n",
       "<style scoped>\n",
       "    .dataframe tbody tr th:only-of-type {\n",
       "        vertical-align: middle;\n",
       "    }\n",
       "\n",
       "    .dataframe tbody tr th {\n",
       "        vertical-align: top;\n",
       "    }\n",
       "\n",
       "    .dataframe thead th {\n",
       "        text-align: right;\n",
       "    }\n",
       "</style>\n",
       "<table border=\"1\" class=\"dataframe\">\n",
       "  <thead>\n",
       "    <tr style=\"text-align: right;\">\n",
       "      <th></th>\n",
       "      <th>word</th>\n",
       "      <th>Topic 1</th>\n",
       "      <th>Topic 2</th>\n",
       "      <th>Topic 3</th>\n",
       "      <th>Topic 4</th>\n",
       "      <th>Topic 5</th>\n",
       "    </tr>\n",
       "  </thead>\n",
       "  <tbody>\n",
       "    <tr>\n",
       "      <th>0</th>\n",
       "      <td>writings</td>\n",
       "      <td>0.200000</td>\n",
       "      <td>0.200000</td>\n",
       "      <td>0.200000</td>\n",
       "      <td>0.200000</td>\n",
       "      <td>0.200000</td>\n",
       "    </tr>\n",
       "    <tr>\n",
       "      <th>1</th>\n",
       "      <td>yellow</td>\n",
       "      <td>0.200000</td>\n",
       "      <td>0.200000</td>\n",
       "      <td>0.200000</td>\n",
       "      <td>0.200000</td>\n",
       "      <td>0.200000</td>\n",
       "    </tr>\n",
       "    <tr>\n",
       "      <th>2</th>\n",
       "      <td>four</td>\n",
       "      <td>22.327660</td>\n",
       "      <td>0.201892</td>\n",
       "      <td>0.201306</td>\n",
       "      <td>27.183368</td>\n",
       "      <td>0.205940</td>\n",
       "    </tr>\n",
       "    <tr>\n",
       "      <th>3</th>\n",
       "      <td>woods</td>\n",
       "      <td>0.200000</td>\n",
       "      <td>0.200000</td>\n",
       "      <td>0.200000</td>\n",
       "      <td>0.200000</td>\n",
       "      <td>0.200000</td>\n",
       "    </tr>\n",
       "    <tr>\n",
       "      <th>4</th>\n",
       "      <td>hanging</td>\n",
       "      <td>0.200025</td>\n",
       "      <td>0.200022</td>\n",
       "      <td>0.200038</td>\n",
       "      <td>0.209170</td>\n",
       "      <td>0.661286</td>\n",
       "    </tr>\n",
       "    <tr>\n",
       "      <th>...</th>\n",
       "      <td>...</td>\n",
       "      <td>...</td>\n",
       "      <td>...</td>\n",
       "      <td>...</td>\n",
       "      <td>...</td>\n",
       "      <td>...</td>\n",
       "    </tr>\n",
       "    <tr>\n",
       "      <th>7697</th>\n",
       "      <td>upwards</td>\n",
       "      <td>0.242729</td>\n",
       "      <td>0.200004</td>\n",
       "      <td>0.204918</td>\n",
       "      <td>0.203696</td>\n",
       "      <td>0.200833</td>\n",
       "    </tr>\n",
       "    <tr>\n",
       "      <th>7698</th>\n",
       "      <td>ranks</td>\n",
       "      <td>0.214885</td>\n",
       "      <td>0.402160</td>\n",
       "      <td>0.944647</td>\n",
       "      <td>6.200215</td>\n",
       "      <td>0.200937</td>\n",
       "    </tr>\n",
       "    <tr>\n",
       "      <th>7699</th>\n",
       "      <td>indirectly</td>\n",
       "      <td>0.203902</td>\n",
       "      <td>0.201038</td>\n",
       "      <td>0.207067</td>\n",
       "      <td>0.217257</td>\n",
       "      <td>5.073550</td>\n",
       "    </tr>\n",
       "    <tr>\n",
       "      <th>7700</th>\n",
       "      <td>volumes</td>\n",
       "      <td>0.206740</td>\n",
       "      <td>0.223587</td>\n",
       "      <td>0.201408</td>\n",
       "      <td>3.781228</td>\n",
       "      <td>0.210700</td>\n",
       "    </tr>\n",
       "    <tr>\n",
       "      <th>7701</th>\n",
       "      <td>allein</td>\n",
       "      <td>0.200000</td>\n",
       "      <td>0.200000</td>\n",
       "      <td>0.200000</td>\n",
       "      <td>0.200000</td>\n",
       "      <td>0.200000</td>\n",
       "    </tr>\n",
       "  </tbody>\n",
       "</table>\n",
       "<p>7702 rows × 6 columns</p>\n",
       "</div>"
      ],
      "text/plain": [
       "            word    Topic 1   Topic 2   Topic 3    Topic 4   Topic 5\n",
       "0       writings   0.200000  0.200000  0.200000   0.200000  0.200000\n",
       "1         yellow   0.200000  0.200000  0.200000   0.200000  0.200000\n",
       "2           four  22.327660  0.201892  0.201306  27.183368  0.205940\n",
       "3          woods   0.200000  0.200000  0.200000   0.200000  0.200000\n",
       "4        hanging   0.200025  0.200022  0.200038   0.209170  0.661286\n",
       "...          ...        ...       ...       ...        ...       ...\n",
       "7697     upwards   0.242729  0.200004  0.204918   0.203696  0.200833\n",
       "7698       ranks   0.214885  0.402160  0.944647   6.200215  0.200937\n",
       "7699  indirectly   0.203902  0.201038  0.207067   0.217257  5.073550\n",
       "7700     volumes   0.206740  0.223587  0.201408   3.781228  0.210700\n",
       "7701      allein   0.200000  0.200000  0.200000   0.200000  0.200000\n",
       "\n",
       "[7702 rows x 6 columns]"
      ]
     },
     "execution_count": 18,
     "metadata": {},
     "output_type": "execute_result"
    }
   ],
   "source": [
    "lambda_df = pd.DataFrame({'word':list(vocab.keys())})\n",
    "for i in range(K):\n",
    "    lambda_df['Topic {}'.format(i+1)] = lda._lambda[i,:]\n",
    "lambda_df"
   ]
  },
  {
   "cell_type": "markdown",
   "metadata": {},
   "source": [
    "In order to understand how LDA has calculated the probability distribution of each topic, we can observe the 10 words with higher probability for each topic:"
   ]
  },
  {
   "cell_type": "code",
   "execution_count": 19,
   "metadata": {
    "ExecuteTime": {
     "end_time": "2020-05-26T18:50:03.266032Z",
     "start_time": "2020-05-26T18:50:02.013378Z"
    }
   },
   "outputs": [
    {
     "name": "stdout",
     "output_type": "stream",
     "text": [
      "Topic 1 probability: 6.30%\n",
      "             word     Topic 1\n",
      "7612       agents  219.440775\n",
      "4831        field  209.223718\n",
      "3337    transport  123.222625\n",
      "1538         high  109.947797\n",
      "4218    materials  109.471740\n",
      "6948  temperature  106.558274\n",
      "4111       fields  104.299815\n",
      "4045       matter  103.827096\n",
      "6351       states  102.190817\n",
      "1680       device   96.841635 \n",
      "\n",
      "Topic 2 probability: 6.46%\n",
      "            word     Topic 2\n",
      "3013     systems  272.903703\n",
      "5361     objects  260.925393\n",
      "1401       codes  208.518856\n",
      "1646      system  200.086379\n",
      "5876         end  163.222973\n",
      "1107    research  135.720367\n",
      "229       object  126.266003\n",
      "1426        code  107.185824\n",
      "7325       proof  101.272885\n",
      "3953  operations   93.846902 \n",
      "\n",
      "Topic 3 probability: 3.60%\n",
      "           word     Topic 3\n",
      "933        mass  109.338604\n",
      "4479      group   89.182878\n",
      "6320     groups   80.876421\n",
      "894    complete   68.032798\n",
      "3979       side   59.108916\n",
      "4234  candidate   57.585570\n",
      "871    neighbor   50.485044\n",
      "6037    mixture   49.275981\n",
      "4433    nearest   48.643037\n",
      "7183       rows   47.036521 \n",
      "\n",
      "Topic 4 probability: 78.27%\n",
      "          word      Topic 4\n",
      "6637     model  1390.422426\n",
      "3524      data  1273.308882\n",
      "1884   problem  1140.627274\n",
      "493       time  1027.368727\n",
      "2076   network   966.706295\n",
      "4605      show   939.069598\n",
      "3590     based   933.129125\n",
      "1067     paper   814.067228\n",
      "1428   results   748.465271\n",
      "2717  learning   743.527479 \n",
      "\n",
      "Topic 5 probability: 5.37%\n",
      "           word     Topic 5\n",
      "879       image  255.046430\n",
      "4759     images  237.678861\n",
      "4231      human  164.292203\n",
      "4069    medical   88.570521\n",
      "5273      phase   85.153634\n",
      "3624   computer   78.845976\n",
      "5261    patient   67.587956\n",
      "100     machine   67.506376\n",
      "941   reasoning   65.430375\n",
      "757      vision   61.244427 \n",
      "\n"
     ]
    }
   ],
   "source": [
    "finalresults, prob_topics = lda.getTopics()\n",
    "\n",
    "for column,prob in list(zip(lambda_df.columns[1:],prob_topics)):\n",
    "    print('{} probability: {:.2f}%'.format(column,prob*100))\n",
    "    print(lambda_df.nlargest(10, [column])[['word',column]],'\\n')"
   ]
  },
  {
   "cell_type": "markdown",
   "metadata": {
    "ExecuteTime": {
     "end_time": "2020-05-26T18:06:52.651043Z",
     "start_time": "2020-05-26T18:06:52.646623Z"
    }
   },
   "source": [
    "Finally, we can also observe how is the topic distribution over documents:"
   ]
  },
  {
   "cell_type": "code",
   "execution_count": 20,
   "metadata": {
    "ExecuteTime": {
     "end_time": "2020-05-26T18:50:03.972249Z",
     "start_time": "2020-05-26T18:50:03.876364Z"
    }
   },
   "outputs": [
    {
     "data": {
      "image/png": "[encoded data removed]",
      "text/plain": [
       "<Figure size 432x288 with 1 Axes>"
      ]
     },
     "metadata": {},
     "output_type": "display_data"
    }
   ],
   "source": [
    "labels = lambda_df.columns[1:]\n",
    "sizes = prob_topics*100\n",
    "explode = (0.1, 0.1, 0.1,0.1, 0.1) \n",
    "\n",
    "fig1, ax1 = plt.subplots()\n",
    "ax1.pie(sizes, explode=explode, labels=labels, autopct='%1.1f%%',\n",
    "        shadow=True, startangle=90)\n",
    "ax1.axis('equal')  # Equal aspect ratio ensures that pie is drawn as a circle.\n",
    "\n",
    "plt.show()"
   ]
  },
  {
   "cell_type": "markdown",
   "metadata": {
    "ExecuteTime": {
     "end_time": "2020-05-26T17:58:04.447402Z",
     "start_time": "2020-05-26T17:58:04.445009Z"
    }
   },
   "source": [
    "# Aditional tasks"
   ]
  },
  {
   "cell_type": "markdown",
   "metadata": {
    "ExecuteTime": {
     "end_time": "2020-05-26T17:10:57.743983Z",
     "start_time": "2020-05-26T17:10:57.741178Z"
    }
   },
   "source": [
    "Try to reproduce Figure 2 in the Case study 1.1.2 guide, where the distribution of topics across labs is shown.\n"
   ]
  }
 ],
 "metadata": {
  "hide_input": false,
  "kernelspec": {
   "display_name": "Python 3",
   "language": "python",
   "name": "python3"
  },
  "language_info": {
   "codemirror_mode": {
    "name": "ipython",
    "version": 3
   },
   "file_extension": ".py",
   "mimetype": "text/x-python",
   "name": "python",
   "nbconvert_exporter": "python",
   "pygments_lexer": "ipython3",
   "version": "3.7.7"
  },
  "toc": {
   "base_numbering": 1,
   "nav_menu": {},
   "number_sections": true,
   "sideBar": true,
   "skip_h1_title": false,
   "title_cell": "Table of Contents",
   "title_sidebar": "Contents",
   "toc_cell": true,
   "toc_position": {},
   "toc_section_display": true,
   "toc_window_display": false
  },
  "varInspector": {
   "cols": {
    "lenName": 16,
    "lenType": 16,
    "lenVar": 40
   },
   "kernels_config": {
    "python": {
     "delete_cmd_postfix": "",
     "delete_cmd_prefix": "del ",
     "library": "var_list.py",
     "varRefreshCmd": "print(var_dic_list())"
    },
    "r": {
     "delete_cmd_postfix": ") ",
     "delete_cmd_prefix": "rm(",
     "library": "var_list.r",
     "varRefreshCmd": "cat(var_dic_list()) "
    }
   },
   "types_to_exclude": [
    "module",
    "function",
    "builtin_function_or_method",
    "instance",
    "_Feature"
   ],
   "window_display": true
  }
 },
 "nbformat": 4,
 "nbformat_minor": 4
}
