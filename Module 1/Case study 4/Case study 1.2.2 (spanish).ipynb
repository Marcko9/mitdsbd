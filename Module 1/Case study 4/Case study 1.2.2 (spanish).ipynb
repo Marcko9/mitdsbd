{
 "cells": [
  {
   "cell_type": "markdown",
   "metadata": {
    "toc": true
   },
   "source": [
    "<h1>Table of Contents<span class=\"tocSkip\"></span></h1>\n",
    "<div class=\"toc\"><ul class=\"toc-item\"><li><span><a href=\"#Caso-de-estudio-1.2.2:-Agrupamiento-espectral:-Agrupación-de-noticias\" data-toc-modified-id=\"Caso-de-estudio-1.2.2:-Agrupamiento-espectral:-Agrupación-de-noticias-1\"><span class=\"toc-item-num\">1&nbsp;&nbsp;</span>Caso de estudio 1.2.2: Agrupamiento espectral: Agrupación de noticias</a></span></li><li><span><a href=\"#Generación-de-la-base-de-datos-(Web-Scraping)\" data-toc-modified-id=\"Generación-de-la-base-de-datos-(Web-Scraping)-2\"><span class=\"toc-item-num\">2&nbsp;&nbsp;</span>Generación de la base de datos (Web Scraping)</a></span></li><li><span><a href=\"#Importación-de-la-base-de-datos\" data-toc-modified-id=\"Importación-de-la-base-de-datos-3\"><span class=\"toc-item-num\">3&nbsp;&nbsp;</span>Importación de la base de datos</a></span></li><li><span><a href=\"#Generación-de-atributos\" data-toc-modified-id=\"Generación-de-atributos-4\"><span class=\"toc-item-num\">4&nbsp;&nbsp;</span>Generación de atributos</a></span></li></ul></div>"
   ]
  },
  {
   "cell_type": "markdown",
   "metadata": {},
   "source": [
    "# Caso de estudio 1.2.2: Agrupamiento espectral: Agrupación de noticias"
   ]
  },
  {
   "cell_type": "markdown",
   "metadata": {},
   "source": [
    "---\n",
    "<br>\n",
    "\n",
    "Este caso de estudio considera una base de datos de artículos de prensa, sobre diferentes temas, y usa _clusterización espectral_ para agruparlos dependiendo de la frecuencia de ciertas palabras. Este notebook proporciona el código para generar la base de datos, pero también puede enocontrar un ejemplo de base de datos en la carpeta `/Data`. Esta base de datos se generó el día 29 de mayo de 2020 mediante técnicas de minería de datos (_web scraping_).\n",
    "\n",
    "Este caso de estudio usa la librería [`mitie`](https://github.com/mit-nlp/MITIE), desarrollada en MIT. Todos los pasos para instalar tnato la librería como el modelo NER usado en este caso de estudio pueden encontrarse en la documentación online.\n",
    "\n",
    "<br>\n",
    "\n",
    "---"
   ]
  },
  {
   "cell_type": "markdown",
   "metadata": {},
   "source": [
    "Configuración del notebook:"
   ]
  },
  {
   "cell_type": "code",
   "execution_count": 1,
   "metadata": {
    "ExecuteTime": {
     "end_time": "2020-05-29T16:35:46.120099Z",
     "start_time": "2020-05-29T16:35:42.088321Z"
    }
   },
   "outputs": [
    {
     "name": "stdout",
     "output_type": "stream",
     "text": [
      "loading NER model...\n",
      "\n",
      "Tags output by this NER model: ['PERSON', 'LOCATION', 'ORGANIZATION', 'MISC']\n"
     ]
    }
   ],
   "source": [
    "import requests\n",
    "import numpy as np\n",
    "import pandas as pd\n",
    "import matplotlib.pyplot as plt\n",
    "import time\n",
    "import csv\n",
    "\n",
    "#ML\n",
    "from sklearn.feature_extraction.text import TfidfVectorizer\n",
    "from sklearn import cluster\n",
    "\n",
    "#Web scraping libraries\n",
    "from bs4 import BeautifulSoup\n",
    "\n",
    "#NLP libraries\n",
    "from mitie import *\n",
    "print(\"loading NER model...\")\n",
    "ner = named_entity_extractor('/Users/inigo/opt/anaconda3/lib/python3.7/site-packages/mitie/models/MITIE-models/english/ner_model.dat')\n",
    "print(\"\\nTags output by this NER model:\", ner.get_possible_ner_tags())"
   ]
  },
  {
   "cell_type": "markdown",
   "metadata": {},
   "source": [
    "# Generación de la base de datos (Web Scraping)"
   ]
  },
  {
   "cell_type": "markdown",
   "metadata": {},
   "source": [
    "En este ejemplo, artículos de 8 temas diferentes del periódico __The Guardian__ han sido recopilados. Los pasos a seguir para crear la base de datos son:\n",
    "\n",
    "1. Obtener el código fuente de la web principal de The Guardian, y almacenar los links a las secciones (temas) de interés.\n",
    "2. Iterar la lista de links y obtener la información de 10 artículos por sección (título y contenido).\n",
    "3. Guardar los artículos, títulos, y temas en archivos `.txt`."
   ]
  },
  {
   "cell_type": "code",
   "execution_count": 2,
   "metadata": {
    "ExecuteTime": {
     "end_time": "2020-05-29T16:35:46.836537Z",
     "start_time": "2020-05-29T16:35:46.122607Z"
    }
   },
   "outputs": [
    {
     "name": "stdout",
     "output_type": "stream",
     "text": [
      "Topic 1: Elections_2020 (https://www.theguardian.com/us-news/us-elections-2020)\n",
      "Topic 2: World (https://www.theguardian.com/world)\n",
      "Topic 3: Environment (https://www.theguardian.com/us/environment)\n",
      "Topic 4: Soccer (https://www.theguardian.com/football)\n",
      "Topic 5: US_Politics (https://www.theguardian.com/us-news/us-politics)\n",
      "Topic 6: Business (https://www.theguardian.com/us/business)\n",
      "Topic 7: Tech (https://www.theguardian.com/us/technology)\n",
      "Topic 8: Science (https://www.theguardian.com/science)\n"
     ]
    }
   ],
   "source": [
    "UK_news_url = 'https://www.theguardian.com/uk'\n",
    "#Descargando los links de los diferentes temas\n",
    "html_data = requests.get(UK_news_url).text\n",
    "soup = BeautifulSoup(html_data, 'html.parser')\n",
    "url_topics = [el.find('a')['href'] for el in soup.find_all(class_ = 'subnav__item')[1:9]]\n",
    "topics = [el.text.strip('\\n').replace(' ','_') for el in soup.find_all(class_ = 'subnav-link')[1:9]]\n",
    "for i in range(len(topics)):\n",
    "    print('Topic {}: {} ({})'.format(i+1,topics[i],url_topics[i]))\n"
   ]
  },
  {
   "cell_type": "code",
   "execution_count": 3,
   "metadata": {
    "ExecuteTime": {
     "end_time": "2020-05-29T16:36:29.639399Z",
     "start_time": "2020-05-29T16:35:46.839667Z"
    }
   },
   "outputs": [
    {
     "name": "stdout",
     "output_type": "stream",
     "text": [
      "\n",
      "Elections_2020:\n",
      "Biden sets solemn tone as Trump waits 15 hours to mark Covid-19 milestone\n",
      "Revealed: conservative group fighting to restrict voting tied to powerful dark money network\n",
      "Republicans sense rich pickings in Biden archive – but will it be made public?\n",
      "'Feels good to be out of my house': Biden lays Memorial Day wreath in Delaware\n",
      "'You have to respond forcefully': can Joe Biden fight Trump's brutal tactics?\n",
      "Why is Trump so restrained about the Biden sexual assault allegation?\n",
      "Swing states become partisan battlegrounds in America's fight against Covid-19\n",
      "'Obamagate': Fox News focuses on conspiracy theory rather than Covid-19\n",
      "‘The United States is broken as hell’ – the division in politics over race and class\n",
      "Socialism used to be a dirty word. Is America now ready to embrace it?\n",
      "Article count: 10\n",
      "\n",
      "World:\n",
      "Global report: South Korea postpones school reopening due to new outbreak\n",
      "'Gross incompentence at highest levels': ex-Obama adviser blasts Trump's Covid response\n",
      "Monkeys steal Covid-19 test samples from health worker in India\n",
      "China threatens 'countermeasures' against UK over Hong Kong crisis\n",
      "Italy considers charges over Malta's 'shocking' refusal to rescue migrants\n",
      "Barrow journalist hounded out of Cumbria for reporting court case\n",
      "Renault to cut 14,600 jobs as part of €2bn cost-saving plan\n",
      "Dominic Cummings cutout appears at rugby league match in Australia\n",
      "The bold new plan for an Indigenous-led development in Vancouver\n",
      "India primed: what Amazon's vast new Hyderabad campus reveals about its plans\n",
      "Article count: 20\n",
      "\n",
      "Environment:\n",
      "New Trump public land rules will let Alaska hunters kill bear cubs in dens\n",
      "US lets corporations delay paying environmental fines amid pandemic\n",
      "We are eating shrimp in record numbers. But for how much longer?\n",
      "Thousands of run-down US dams would kill people if they failed, study finds\n",
      "When the '500-year flood' hit Michigan, residents had to weigh risk of escape in a pandemic\n",
      "Firms ignoring climate crisis will go bankrupt, says Mark Carney\n",
      "Large heath butterflies return to Manchester after 150 years\n",
      "India's first 'green' village adapts to life without tourists\n",
      "'This makes Chinese medicine look bad': TCM supporters condemn illegal wildlife trade\n",
      "'We've never seen this': wildlife thrives in closed US national parks\n",
      "Article count: 30\n",
      "\n",
      "Soccer:\n",
      "Liverpool and Everton to oppose plans to play games at neutral venues\n",
      "Slavisa Jokanovic: 'Euro 92 was taken away from us. We were better than Denmark'\n",
      "What, when, where? Questions answered on Premier League's return\n",
      "Brendan Rodgers reveals both he and his wife have had coronavirus\n",
      "Fate of League One season still unclear as clubs prepare for crucial meeting\n",
      "Who wouldn’t want to spend a second consecutive summer day indoors?\n",
      "Workington raise funds reliving day they stunned Manchester United\n",
      "FA Cup final to be held on 1 August with quarter-finals resuming on 27 June\n",
      "Golden Goal: Dietmar Hamann for Germany v England (2000)\n",
      "'People say you shouldn’t do this': Nathan Jones heads into fire at Luton\n",
      "Article count: 40\n",
      "\n",
      "US_Politics:\n",
      "'Trump knows nothing of Minneapolis': mayor hits back at president's tweets\n",
      "We shouldn't have to witness George Floyd's killing for it to spark outrage\n",
      "'Here's a bedsheet, make a parachute!' Republicans say, pushing us out of a plane\n",
      "Why Twitter should ban Donald Trump\n",
      "Trump's devoted new press secretary is no different from her predecessors\n",
      "'We're expendable': black Americans pay the price as states lift lockdowns\n",
      "Only 6 articles found in \"US_Politics\"\n",
      "\n",
      "Business:\n",
      "US job losses pass 40m as coronavirus crisis sees claims rise 2.1m in a week\n",
      "Food-waste firm bags Oprah Winfrey and Katy Perry as investors\n",
      "Lufthansa agrees €9bn bailout with German government\n",
      "Tackling the dark side of the movie business: the blockchain startup ensuring film workers get paid\n",
      "Article count: 50\n",
      "Pizzas in the post: Shopify challenges Amazon for slice of lockdown trade\n",
      "Extra $600 in jobless pay offers many a lifeline – but will it be renewed?\n",
      "Exclusive: big pharma rejected EU plan to fast-track vaccines in 2017\n",
      "Jobless America: the coronavirus unemployment crisis in figures\n",
      "TikTok's first auteur: Zach King on his madcap micro movies\n",
      "The Zoom boom: how video-calling became a blessing – and a curse\n",
      "\n",
      "Tech:\n",
      "Twitter hides Donald Trump tweet for 'glorifying violence'\n",
      "Zuckerberg says Facebook won't be 'arbiters of truth' after Trump threat\n",
      "Donald Trump's move against Twitter factchecking could backfire\n",
      "YouTube investigates automatic deletion of comments criticising China Communist party\n",
      "Article count: 60\n",
      "New vulnerability allows users to 'jailbreak' iPhones\n",
      "The Chaser goes viral with provocative post mocking Zuckerberg’s position on Facebook factchecking\n",
      "Work From Home song peaks again as listening alters under lockdown\n",
      "Canada court ruling allows US extradition case of Huawei executive to proceed\n",
      "Huge rise in hacking attacks on home workers during lockdown\n",
      "EasyJet reveals cyber-attack exposed 9m customers' details\n",
      "\n",
      "Science:\n",
      "Easing the lockdown: how will we know if infections bounce back?\n",
      "NHS to increase number of Covid-19 patients receiving antibody therapy\n",
      "Questions raised over hydroxychloroquine study which caused WHO to halt trials for Covid-19\n",
      "Allosaurus dinosaur suspected to be scavenging cannibal\n",
      "Article count: 70\n",
      "Hydroxychloroquine and coronavirus: a guide to the scientific studies so far\n",
      "UK minister hails 'game-changing' coronavirus immunity test\n",
      "Italian doctors find link between Covid-19 and inflammatory disorder\n",
      "Coronavirus in England: half of those with symptoms not isolating\n",
      "Coronavirus UK map: the latest deaths and confirmed cases in each region\n",
      "Covid-19 study on hydroxychloroquine use questioned by 120 researchers and medical professionals\n"
     ]
    },
    {
     "data": {
      "text/html": [
       "<div>\n",
       "<style scoped>\n",
       "    .dataframe tbody tr th:only-of-type {\n",
       "        vertical-align: middle;\n",
       "    }\n",
       "\n",
       "    .dataframe tbody tr th {\n",
       "        vertical-align: top;\n",
       "    }\n",
       "\n",
       "    .dataframe thead th {\n",
       "        text-align: right;\n",
       "    }\n",
       "</style>\n",
       "<table border=\"1\" class=\"dataframe\">\n",
       "  <thead>\n",
       "    <tr style=\"text-align: right;\">\n",
       "      <th></th>\n",
       "      <th>topic</th>\n",
       "      <th>title</th>\n",
       "      <th>content</th>\n",
       "    </tr>\n",
       "  </thead>\n",
       "  <tbody>\n",
       "    <tr>\n",
       "      <th>0</th>\n",
       "      <td>Elections_2020</td>\n",
       "      <td>Biden sets solemn tone as Trump waits 15 hours...</td>\n",
       "      <td>Four hours after Johns Hopkins University reco...</td>\n",
       "    </tr>\n",
       "    <tr>\n",
       "      <th>1</th>\n",
       "      <td>Elections_2020</td>\n",
       "      <td>Revealed: conservative group fighting to restr...</td>\n",
       "      <td>This story was reported in collaboration with ...</td>\n",
       "    </tr>\n",
       "    <tr>\n",
       "      <th>2</th>\n",
       "      <td>Elections_2020</td>\n",
       "      <td>Republicans sense rich pickings in Biden archi...</td>\n",
       "      <td>Richard Nixon had tapes. Hillary Clinton had e...</td>\n",
       "    </tr>\n",
       "    <tr>\n",
       "      <th>3</th>\n",
       "      <td>Elections_2020</td>\n",
       "      <td>'Feels good to be out of my house': Biden lays...</td>\n",
       "      <td>Joe Biden left his Delaware home to lay a wrea...</td>\n",
       "    </tr>\n",
       "    <tr>\n",
       "      <th>4</th>\n",
       "      <td>Elections_2020</td>\n",
       "      <td>'You have to respond forcefully': can Joe Bide...</td>\n",
       "      <td>Once, Joe Biden was adamant. He would wait unt...</td>\n",
       "    </tr>\n",
       "    <tr>\n",
       "      <th>...</th>\n",
       "      <td>...</td>\n",
       "      <td>...</td>\n",
       "      <td>...</td>\n",
       "    </tr>\n",
       "    <tr>\n",
       "      <th>71</th>\n",
       "      <td>Science</td>\n",
       "      <td>UK minister hails 'game-changing' coronavirus ...</td>\n",
       "      <td>A health minister has hailed the UK’s approval...</td>\n",
       "    </tr>\n",
       "    <tr>\n",
       "      <th>72</th>\n",
       "      <td>Science</td>\n",
       "      <td>Italian doctors find link between Covid-19 and...</td>\n",
       "      <td>Doctors in Italy have reported the first clear...</td>\n",
       "    </tr>\n",
       "    <tr>\n",
       "      <th>73</th>\n",
       "      <td>Science</td>\n",
       "      <td>Coronavirus in England: half of those with sym...</td>\n",
       "      <td>Only half of people who develop coronavirus sy...</td>\n",
       "    </tr>\n",
       "    <tr>\n",
       "      <th>74</th>\n",
       "      <td>Science</td>\n",
       "      <td>Coronavirus UK map: the latest deaths and conf...</td>\n",
       "      <td>Please note: these are government figures on n...</td>\n",
       "    </tr>\n",
       "    <tr>\n",
       "      <th>75</th>\n",
       "      <td>Science</td>\n",
       "      <td>Covid-19 study on hydroxychloroquine use quest...</td>\n",
       "      <td>More than 120 researchers and medical professi...</td>\n",
       "    </tr>\n",
       "  </tbody>\n",
       "</table>\n",
       "<p>76 rows × 3 columns</p>\n",
       "</div>"
      ],
      "text/plain": [
       "             topic                                              title  \\\n",
       "0   Elections_2020  Biden sets solemn tone as Trump waits 15 hours...   \n",
       "1   Elections_2020  Revealed: conservative group fighting to restr...   \n",
       "2   Elections_2020  Republicans sense rich pickings in Biden archi...   \n",
       "3   Elections_2020  'Feels good to be out of my house': Biden lays...   \n",
       "4   Elections_2020  'You have to respond forcefully': can Joe Bide...   \n",
       "..             ...                                                ...   \n",
       "71         Science  UK minister hails 'game-changing' coronavirus ...   \n",
       "72         Science  Italian doctors find link between Covid-19 and...   \n",
       "73         Science  Coronavirus in England: half of those with sym...   \n",
       "74         Science  Coronavirus UK map: the latest deaths and conf...   \n",
       "75         Science  Covid-19 study on hydroxychloroquine use quest...   \n",
       "\n",
       "                                              content  \n",
       "0   Four hours after Johns Hopkins University reco...  \n",
       "1   This story was reported in collaboration with ...  \n",
       "2   Richard Nixon had tapes. Hillary Clinton had e...  \n",
       "3   Joe Biden left his Delaware home to lay a wrea...  \n",
       "4   Once, Joe Biden was adamant. He would wait unt...  \n",
       "..                                                ...  \n",
       "71  A health minister has hailed the UK’s approval...  \n",
       "72  Doctors in Italy have reported the first clear...  \n",
       "73  Only half of people who develop coronavirus sy...  \n",
       "74  Please note: these are government figures on n...  \n",
       "75  More than 120 researchers and medical professi...  \n",
       "\n",
       "[76 rows x 3 columns]"
      ]
     },
     "execution_count": 3,
     "metadata": {},
     "output_type": "execute_result"
    }
   ],
   "source": [
    "def save_to_txt(filename, content):\n",
    "    '''\n",
    "    Creates a new .txt file with as specific name in the Data directory\n",
    "    '''\n",
    "    with open(r\"Data/{}.txt\".format(filename), \"w\") as f:\n",
    "        print(content, file=f)\n",
    "\n",
    "article_titles = []\n",
    "article_contents = []\n",
    "article_topics = []\n",
    "articles_per_topic = 10\n",
    "n = 1\n",
    "for topic, url_topic in list(zip(topics,url_topics)):\n",
    "    #Getting the first 15\n",
    "    soup = BeautifulSoup(requests.get(url_topic).text, 'html.parser')\n",
    "    url_articles = [el.find('a')['href'] for el in soup.find_all(class_ = 'fc-item__content')]\n",
    "    print('\\n{}:'.format(topic))\n",
    "    i = 0\n",
    "    while article_topics.count(topic) < articles_per_topic:\n",
    "        soup = BeautifulSoup(requests.get(url_articles[i]).text, 'html.parser')\n",
    "        try:\n",
    "            title = soup.find(class_ = 'content__headline').text.strip('\\n')\n",
    "            content = ' '.join([el.text for el in soup.find(class_ = 'content__article-body from-content-api js-article__body').find_all('p')])\n",
    "            i += 1\n",
    "            if i == len(url_articles):\n",
    "                print('Only {} articles found in \\\"{}\"'.format(article_topics.count(topic),topic))\n",
    "                break\n",
    "            if title not in article_titles:\n",
    "                article_titles += [title]\n",
    "                article_contents += [content]\n",
    "                article_topics += [topic]\n",
    "                save_to_txt('title-{}'.format(n),title)\n",
    "                save_to_txt('article-{}'.format(n),content)\n",
    "                save_to_txt('topic-{}'.format(n),topic)\n",
    "                print('{}'.format(title))\n",
    "                n += 1\n",
    "                if round(len(article_titles)/10) == len(article_titles)/10:\n",
    "                    print('Article count: {}'.format(len(article_titles)))\n",
    "        except:\n",
    "            i += 1\n",
    "            if i == len(url_articles):\n",
    "                print('Only {} articles found in \\\"{}\"'.format(article_topics.count(topic),topic))\n",
    "                break\n",
    "            pass\n",
    "        \n",
    "                \n",
    "df = pd.DataFrame({'topic':article_topics,'title':article_titles,'content':article_contents})\n",
    "df"
   ]
  },
  {
   "cell_type": "markdown",
   "metadata": {},
   "source": [
    "# Importación de la base de datos"
   ]
  },
  {
   "cell_type": "markdown",
   "metadata": {},
   "source": [
    "Una vez tenemos la base de datos guardada en carpeta deseada, podemos usar el código del caso de estudio para importar la información."
   ]
  },
  {
   "cell_type": "code",
   "execution_count": 4,
   "metadata": {
    "ExecuteTime": {
     "end_time": "2020-05-29T16:36:29.668265Z",
     "start_time": "2020-05-29T16:36:29.641365Z"
    }
   },
   "outputs": [],
   "source": [
    "#número total de artículos para procesar.\n",
    "N = 80\n",
    "#para almacenar los temas, títulos y contenidos de las noticias:\n",
    "topics_array = []\n",
    "titles_array = []\n",
    "corpus = []\n",
    "for i in range(1, N+1):\n",
    "    #consiga el contenido del artículo.\n",
    "    with open('Data/article-' + str(i) + '.txt', 'r') as myfile:\n",
    "        d1=myfile.read().replace('\\n', '')\n",
    "        d1 = d1.lower()\n",
    "        corpus.append(d1)\n",
    "    #consiga el tema original del artículo.\n",
    "    with open('Data/topic-' + str(i) + '.txt', 'r') as myfile:\n",
    "        to1=myfile.read().replace('\\n', '')\n",
    "        to1 = to1.lower()\n",
    "        topics_array.append(to1)\n",
    "    #consiga el título del artículo.\n",
    "    with open('Data/title-' + str(i) + '.txt', 'r') as myfile:\n",
    "        ti1=myfile.read().replace('\\n', '')\n",
    "        ti1 = ti1.lower()\n",
    "        titles_array.append(ti1)"
   ]
  },
  {
   "cell_type": "markdown",
   "metadata": {},
   "source": [
    "# Generación de atributos"
   ]
  },
  {
   "cell_type": "markdown",
   "metadata": {},
   "source": [
    "Para generar los atributos de cada instancia (artículo):\n",
    "\n",
    "1. Enlazamos todos los corpus de texto de artículos para determinar todas las palabras únicas que se utilizan en el conjunto de datos.\n",
    "2. Buscamos el subconjunto de las entidades del modelo NER que se encuentra entre las palabras únicas que se utilizan en el conjunto de datos (determinado en el paso 1)."
   ]
  },
  {
   "cell_type": "code",
   "execution_count": 5,
   "metadata": {
    "ExecuteTime": {
     "end_time": "2020-05-29T16:36:30.761816Z",
     "start_time": "2020-05-29T16:36:29.669498Z"
    }
   },
   "outputs": [
    {
     "name": "stdout",
     "output_type": "stream",
     "text": [
      "[\"b'emergencies'\", \"b'lancashire' b'wildlife' b'trust'\", \"b'aston' b'villa'\", \"b'david' b'wilkinson'\", \"b'katy' b'perry'\", \"b'australia'\", \"b'laura' b'ingraham'\", \"b'spirit' b'of' b'shankly'\", \"b'scarborough'\", \"b'burton'\", \"b'melbourne'\", \"b'munich'\", \"b'lancet'\", \"b'oval' b'office'\", \"b'nissan'\", \"b'delaware'\", \"b'pedja' b'mijatovic'\", \"b'amazonian'\", \"b'gretchen' b'whitmer'\", \"b'harrisburg'\", \"b'tobias' b'l\\\\xc3\\\\xbctke'\", \"b'jean-philippe' b'gbamin'\", \"b'obama'\", \"b'latinos'\", \"b'scotland'\", \"b'busby'\", \"b'david' b'davis'\", \"b'shopify'\", \"b'darktrace'\", \"b'sherman' b'act'\", \"b'senate'\", \"b'dodgen-magee'\", \"b'fran\\\\xc3\\\\xa7ois-xavier' b'bagnoud' b'center' b'of' b'health' b'and' b'human' b'rights'\", \"b'international' b'fund' b'for' b'animal' b'welfare'\", \"b'film' b'fund'\", \"b'hunter'\", \"b'george' b'lucas'\", \"b'evers'\", \"b'amazon' b'india'\", \"b'irina' b'albita'\", \"b'kevin' b'keegan'\", \"b'paul'\", \"b'harry' b'gregg'\", \"b'koblenz'\", \"b'darko' b'pancev'\", \"b'siemens'\", \"b'university' b'of' b'victoria'\", \"b'\\\\xe2\\\\x80\\\\x98what'\", \"b'salford'\", \"b'rodriguez-sanchez'\", \"b'swede'\", \"b'joe' b'scarborough'\", \"b'lady' b'raven'\", \"b'colombia'\", \"b'erin' b'perrine'\", \"b'apeel' b'sciences'\", \"b'alexa' b'\\\\xe2\\\\x80\\\\x9c'\", 'b\\'o\\' b\"\\'leary\"', \"b'nyc'\", \"b'new' b'york'\", \"b'bp'\", \"b'everton' b'fans' b'forum'\", \"b'meng'\", \"b'duncan' b'edwards'\", \"b'economic' b'policy' b'institute'\", \"b'contrast'\", \"b'samantha' b'power'\", \"b'moe' b'vela'\", \"b'lancashire'\", \"b'cepi'\", \"b'italy'\", \"b'\\\\xe2\\\\x80\\\\x99'\", \"b'pew' b'research'\", \"b'chicago' b'dsa'\", \"b'anfield'\", \"b'republican'\", \"b'nhs' b'blood'\", \"b'brussels-based'\", \"b'post' b'malone'\", \"b'mymoorapelta'\", \"b'nsw'\", \"b'mark' b'robins'\", \"b'treadwall'\", \"b'jon' b'karl'\", \"b'southern'\", \"b'efpia'\", \"b'american' b'society' b'of' b'civil' b'engineers'\", \"b'victorian'\", \"b'italia' b'viva' b'party'\", \"b'radomir' b'antic'\", \"b'johnson' b'&' b'johnson'\", \"b'gallup'\", \"b'leadership' b'conference' b'on' b'civil' b'and' b'human' b'rights'\", \"b'lufthansa'\", \"b'sarah' b'cooper'\", \"b'ideology'\", \"b'columbus'\", \"b'indo-myanmar'\", \"b'charlotte' b'alter'\", \"b'nintendo'\", \"b'\\\\xef\\\\xbb\\\\xbfa' b'californian'\", \"b'm\\\\xc4\\\\x81ori'\", \"b'gupta'\", \"b'mary' b'bassett'\", \"b'blue' b'sky'\", \"b'times'\", \"b'trayvon' b'martin'\", \"b'corona'\", \"b'huawei'\", \"b'national' b'inventory' b'of' b'dams'\", \"b'liberty' b'bell'\", \"b'america'\", \"b'department' b'of' b'health'\", \"b'paris'\", \"b'illinois'\", \"b'instagram'\", \"b'bird' b'areas'\", \"b'nikola' b'jerkan'\", \"b'spencer' b'polanco'\", \"b'office' b'of' b'national' b'statistics'\", \"b'wsf'\", \"b'watford'\", \"b'carlos' b'ramirez-rosa'\", \"b'kati' b'schmidt'\", \"b'france'\", \"b'sam' b'rowlett'\", \"b'kit'\", \"b'\\\\xe2\\\\x80\\\\x9c' b'liberate' b'michigan'\", 'b\\'jen\\' b\\'o\\' b\"\\'malley\"', \"b'nickelodeon'\", \"b'clinton'\", \"b'innamorata'\", \"b'fossil'\", \"b'zuckerberg'\", \"b'george' b'moncur'\", \"b'la' b'liga'\", \"b'white'\", \"b'wuhan'\", \"b'swae' b'lee'\", \"b'glaxosmithkline'\", \"b'delta'\", \"b'russian'\", \"b'keith' b'burkinshaw'\", \"b'harry' b'potter-style'\", \"b'walter' b'headley'\", \"b'furnace' b'creek'\", \"b'julie' b'taylor'\", \"b'job'\", \"b'dietmar' b'hamann'\", 'b\\'william\\' b\\'barber\\' b\\'of\\' b\\'the\\' b\\'poor\\' b\\'people\\' b\"\\'s\" b\\'campaign\\'', \"b'gregg'\", \"b'providence'\", \"b'silicon' b'valley'\", \"b'sroka'\", \"b'bernice' b'ii'\", \"b'st' b'thomas'\", \"b'bach'\", \"b'lena' b'zwarensteyn'\", \"b'slavisa' b'jokanovic'\", \"b'maccabi' b'tel' b'aviv'\", \"b'chicago' b'teachers' b'union'\", \"b'darth' b'vader'\", \"b'eric' b'trump'\", \"b'obamagate'\", \"b'malick'\", \"b'seiu'\", \"b'football' b'league'\", \"b'borough' b'park'\", \"b'maria' b'tanjala'\", \"b'r'\", \"b'arcelormittal'\", \"b'democrats'\", \"b'sars-cov-2.'\", \"b'real'\", \"b'wyoming'\", \"b'arif' b'miah'\", \"b'david' b'plouffe'\", \"b'covid-19'\", \"b'linda' b'wong'\", \"b'kuwait'\", \"b'detroit'\", \"b'jedi' b'kittens'\", \"b'association' b'of' b'state' b'dam' b'safety'\", \"b'piaggio' b'ape'\", \"b'lebanon'\", \"b'irish'\", \"b'brazil'\", \"b'kennedy'\", \"b'imperial' b'college'\", \"b'google/youtube'\", \"b'cdc'\", \"b'singapore'\", \"b'wakefield'\", \"b'fifth' b'harmony'\", \"b'lyft'\", \"b'judicial' b'education' b'project'\", \"b'donald' b'trump' b'jr'\", \"b'masschallenge'\", \"b'gary' b'sweet'\", \"b'republicans'\", \"b'bryan' b'fluech'\", \"b'tommy' b'taylor'\", \"b'capitol' b'hill'\", \"b'palmer' b'luckey'\", \"b'miller'\", \"b',' b'musical'\", \"b'marriott'\", \"b'andrew' b'kopkind'\", \"b'steven' b'spielberg'\", \"b'merseyside-based'\", \"b'\\\\xe2\\\\x80\\\\x9c' b'vancouverism'\", \"b'bradley' b'whitford'\", \"b'cia'\", 'b\\'chicago\\' b\\'teachers\\' b\"\\'\" b\\'union\\'', \"b'indiana;' b'burns' b'harbor'\", \"b'hunter' b'biden'\", \"b'european' b'cup'\", \"b'\\\\xe2\\\\x80\\\\x98oh'\", \"b'emmet' b'sullivan'\", \"b'death' b'valley'\", \"b'dark' b'knight' b'rises'\", \"b'alan' b'wright'\", \"b'merseyside' b'police'\", \"b'wayne' b'county'\", \"b'deportivo'\", \"b'warren' b'beatty'\", \"b'yosemite' b'falls'\", \"b'crikey'\", \"b'gps'\", \"b'karen' b'underhill'\", \"b'valletta'\", \"b'wumao'\", \"b'tcm' b'pharmaceuticals'\", \"b'goodison'\", \"b'pelly' b'ruddock'\", \"b'mc'\", \"b'armed' b'forces' b'of' b'malta'\", \"b'united'\", \"b'ard'\", \"b'grace' b'gabriel'\", \"b'service' b'employees' b'international' b'union'\", \"b'chicago'\", \"b'mark'\", \"b'connecticut'\", \"b'graham'\", \"b'jokanovic'\", \"b'amazon-owned'\", \"b'chinese' b'ngos'\", \"b'kilimanjaro'\", \"b'guy' b'mowbray'\", \"b'hamilton' b'nolan'\", \"b'michael' b'steele'\", \"b'peter' b'christian'\", \"b'general' b'data' b'protection' b'regulation'\", \"b'maubeuge'\", \"b'joe' b'anderson'\", \"b'german' b'film' b'producers' b'association'\", \"b'mark' b'roberts'\", \"b'boone'\", \"b'\\\\xe2\\\\x80\\\\x98this'\", \"b'terry' b'eddy'\", \"b'workington'\", \"b'anhui'\", \"b'harold' b'washington'\", \"b'safety' b'advisory' b'group'\", \"b'bh' b'group'\", \"b'dominion' b'energy'\", \"b'edward' b'argar'\", \"b'suzanne' b'wrack'\", \"b'ec'\", \"b'wecrochet'\", \"b'hindu'\", \"b'novartis'\", 'b\\'south\\' b\\'west\\' b\\'africa\\' b\\'people\\' b\"\\'s\" b\\'organisation\\'', \"b'michael' b'doyle'\", \"b'nccaf'\", \"b'spacex' b'falcon'\", \"b'wembley'\", \"b'mid-20th' b'century'\", \"b'unesco'\", \"b'grand' b'teton'\", \"b'romania'\", \"b'ben'\", \"b'sabato'\", \"b'linda' b'kaye'\", \"b'new' b'horizons'\", \"b'carrie' b'lam'\", \"b'\\\\xe2\\\\x80\\\\x9c' b'office'\", \"b'los' b'angeles' b'times'\", \"b'david' b'prowse'\", \"b'uber'\", \"b'david' b'vela'\", \"b'nasa' b'shuttle'\", 'b\\'people\\' b\"\\'s\" b\\'daily\\'', \"b'\\\\xe2\\\\x80\\\\x98you'\", \"b'james' b'justin'\", \"b'coupang'\", \"b'internet'\", \"b'neil' b'gorsuch'\", \"b'leicester'\", \"b'bloomberg' b'intelligence'\", \"b'berlin'\", \"b'centers' b'for' b'diseases' b'control' b'and' b'prevention'\", \"b'norman' b'mitchell'\", \"b'uk'\", \"b'fcc'\", \"b'paddy'\", \"b'lorenzo' b'd'\", \"b'durham'\", \"b'ramirez-rosa'\", \"b'room' b'rater'\", \"b'covid-19.' b'durham'\", \"b'gabriel'\", \"b'maltese'\", \"b'rahm' b'emmanuel'\", \"b'neil' b'sroka'\", \"b'tang'\", \"b'nigel' b'clough'\", \"b'disney' b'channel'\", \"b'zach'\", \"b'tony' b'evers'\", \"b'manchester' b'united'\", \"b'ashley' b'cole'\", \"b'justin' b'wafer'\", \"b'rachel' b'holm'\", \"b'national' b'archives'\", \"b'judge' b'sullivan'\", \"b'express'\", \"b'malm\\\\xc3\\\\xb6;' b'jokanovic'\", \"b'blyth'\", \"b'blessing' b'of' b'the' b'fleet'\", \"b'gmt'\", \"b'national' b'park' b'service'\", \"b'australian' b'department' b'of' b'health'\", \"b'luton'\", \"b'elizabeth' b'townsend' b'gard'\", \"b'josep' b'borrell'\", \"b'oliver' b'dowden'\", \"b'new' b'york' b'times'\", \"b'tom' b'fitton'\", \"b'cisco' b'systems'\", \"b'ebola'\", \"b'luca' b'de' b'meo'\", \"b'sandy' b'gutstein'\", \"b'iucn'\", \"b'roche'\", \"b'opensecrets'\", \"b'spanish'\", \"b'edenville' b'dam'\", \"b'crew' b'dragon'\", \"b'sven'\", \"b'bucharest'\", \"b'gervasoni'\", \"b'justice' b'kavanaugh'\", \"b'guru' b'nanak'\", \"b'jama' b'network' b'open'\", \"b'matt' b'hancock'\", \"b'rodgers'\", \"b'rhode' b'island'\", \"b'mark' b'jones'\", \"b'app' b'store'\", \"b'srecko' b'katanec'\", \"b'kyo'\", \"b'lumi\\\\xc3\\\\xa8re'\", \"b'arsenal'\", \"b'ogden'\", \"b'surgisphere'\", \"b'british' b'columbia'\", \"b'snowdevil'\", \"b'mahesh' b'umamahesh'\", \"b'dominion'\", \"b'king'\", \"b'barber'\", \"b'publix'\", \"b'cda'\", \"b'donorstrust'\", \"b'corey' b'funk'\", \"b'george' b'aitken'\", \"b'international' b'air' b'transport' b'association'\", \"b'powell'\", \"b'western' b'command'\", \"b'los' b'angeles'\", \"b'fox' b'&' b'friends'\", \"b'taiwan'\", \"b'heidi' b'shierholz'\", \"b'dave' b'roberts'\", \"b'eddie' b'howe'\", 'b\\'charli\\' b\\'d\\' b\"\\'amelio\"', \"b'black' b'gill'\", \"b'ken' b'chisholm'\", \"b'floodwaters'\", \"b'abc' b'tv'\", \"b'pelican' b'blood'\", \"b'uk-based' b'environmental' b'investigation' b'agency'\", \"b'mcenany'\", \"b'cnnnn'\", \"b'\\\\xe2\\\\x80\\\\x98who'\", \"b'brutyn'\", \"b'mygatt-moore'\", \"b'donald' b'trump'\", \"b'latino'\", \"b'london' b'school' b'of' b'hygiene' b'and' b'tropical' b'medicine'\", \"b'bristol' b'university'\", \"b'denver-julesburg' b'basin'\", \"b'meyase'\", \"b'scott' b'lake'\", \"b'royal' b'canadian' b'mounted' b'police'\", \"b'sub-saharan' b'africa'\", \"b'both' b'angles'\", \"b'tsilie' b'sakhrie'\", \"b'latin' b'america'\", \"b'fortnite'\", \"b'virginia'\", \"b'rocky' b'mountain'\", \"b'don' b'imus'\", \"b'also' b'sprach' b'zarathustra'\", \"b'shierholz'\", \"b'joe' b'biden'\", \"b'phillips'\", \"b'columbia' b'university'\", \"b'time' b'magazine'\", \"b'\\\\xe2\\\\x80\\\\x9c' b'empty' b'chair'\", \"b'situ'\", \"b'labour'\", \"b'jeremy' b'corbyn'\", \"b'newlands;' b'brown'\", \"b'chinese' b'communist'\", \"b'zapi'\", \"b'of' b'forgotten' b'stories' b'of' b'football'\", \"b'french'\", \"b'diet' b'coke'\", \"b'stacy' b'davis' b'gates'\", \"b'drumheller-horton'\", \"b'peter' b'drury'\", \"b'dubai'\", \"b'norwich'\", \"b'andre' b'rowe'\", \"b'bank' b'of' b'england'\", \"b'carlos'\", \"b'oviedo'\", \"b'democrat'\", \"b'new' b'south' b'wales'\", \"b'\\\\xe2\\\\x80\\\\x9c' b'jailbreaking'\", \"b'black' b'lives' b'matter'\", \"b'flins'\", \"b'floyd'\", \"b','\", \"b'and' b'jokanovic'\", \"b'whiting'\", \"b'sage'\", \"b'rosa'\", \"b'washington' b'post'\", \"b'matthew' b'gertz'\", \"b'geoinsights'\", \"b'his' b'memorial' b'day'\", \"b'bergamo'\", \"b'fan'\", \"b'merseyside'\", \"b'iraq'\", \"b'sheffield' b'united'\", \"b'copenhagen'\", \"b'hamann'\", \"b'djalminha'\", \"b'scholz'\", \"b'gchq'\", \"b'melissa'\", \"b'steven' b'gerrard'\", \"b'gothenburg'\", \"b'latam'\", \"b'tenerife'\", \"b'.'\", \"b'richard' b'thomas'\", \"b'nature'\", \"b'schiller'\", \"b'gianfranco' b'zola'\", \"b'colorado'\", \"b'koch'\", \"b'netflix'\", \"b'east' b'chicago'\", \"b'sydney'\", \"b'appalachia'\", \"b'kayleigh' b'mcenany'\", \"b'nsw' b'department' b'of' b'health'\", \"b'mount' b'sinai'\", \"b'jeff' b'kosseff'\", \"b'south' b'carolina'\", \"b'accrington'\", \"b'dom'\", \"b'dinamo' b'zagreb'\", \"b'alan' b'finkel'\", \"b'midmichigan' b'health'\", \"b'kawasaki-like'\", \"b'communications' b'decency' b'act'\", \"b'ed' b'fallone'\", \"b'department' b'of' b'labor'\", \"b'journal' b'cell' b'research'\", \"b'central'\", \"b'gumi'\", \"b'roosters'\", \"b'north' b'america'\", \"b'sapan' b'desai'\", \"b'central' b'america'\", \"b'\\\\xe2\\\\x80\\\\x9c' b'didi-day'\", \"b'brookings' b'institution'\", \"b'james' b'rogers'\", \"b'yahoo' b'news'\", \"b'gerald' b'durrell' b'memorial' b'fund' b'.' b'women'\", \"b'innovate' b'uk'\", \"b'chaser' b'decides'\", \"b'bridal' b'veil' b'falls'\", \"b'hyderabad'\", \"b'robbie' b'fowler'\", \"b'@borussia_en'\", \"b'john' b'brennan'\", \"b'bulworth'\", \"b'mijatovic'\", \"b'fa' b'cup'\", \"b'pharmaceutical' b'industry'\", \"b'fordham' b'university'\", \"b'ascot'\", \"b'jeff' b'hall'\", \"b'zhao'\", \"b'partizan'\", \"b'brett' b'kavanaugh'\", \"b'bozhou'\", \"b'usa'\", \"b'houston'\", \"b'crewfunding'\", \"b'kylie' b'jenner'\", \"b'rodrigo' b'duterte'\", \"b'delhi'\", \"b'fed'\", \"b'byrne'\", \"b'houseparty'\", \"b'new' b'york' b'city'\", \"b'kanye' b'west'\", \"b'michigan'\", \"b'north' b'merseyside'\", \"b'lang' b'lang'\", \"b'chloroquine'\", \"b'nagaland' b'community' b'conserved' b'areas' b'forum'\", \"b'argar'\", \"b'howe'\", \"b'epa'\", \"b'goodison' b'park'\", \"b'afp'\", \"b'ppp'\", \"b'icu'\", \"b'rich' b'galen'\", \"b'douai'\", \"b'clarence' b'thomas'\", \"b'nickelback'\", \"b'fairness'\", \"b'indian'\", \"b'scientific' b'pandemic' b'influenza' b'group'\", \"b'cnn'\", \"b'united' b'xi'\", \"b'papa' b'giovanni' b'xxiii'\", \"b'mark' b'harris'\", \"b'yellowstone'\", \"b'university' b'of' b'virginia'\", \"b'chaser'\", \"b'joe' b'wicks'\", \"b'mike' b'wilner'\", \"b'reds'\", \"b'department' b'of' b'justice'\", \"b'ben' b'warner'\", \"b'lake' b'michigan'\", \"b'saudi' b'arabia'\", \"b'shashank' b'rathod'\", \"b'david'\", \"b'clotilde' b'delbos'\", \"b'burkinshaw;' b'mitchell'\", \"b'hcq'\", \"b'bbc'\", \"b'washington'\", \"b'japan'\", \"b'sonny' b'bradley'\", \"b'wellspring' b'committee'\", \"b'bezos'\", \"b'lansing'\", \"b'fitton'\", \"b'edwards'\", \"b'tom' b'wolf'\", \"b'christian'\", \"b'brooklyn'\", \"b'james' b'collins'\", \"b'european' b'federation' b'of' b'pharmaceutical' b'industries'\", \"b'dolly' b'parton'\", \"b'joel' b'benenson'\", \"b'mick' b'harford'\", \"b'janko' b'jankovic'\", \"b'chris' b'wallace'\", \"b'fbi'\", \"b'university' b'of' b'delaware'\", \"b'ceratosaurus'\", \"b'mor'\", \"b'robert' b'behnken'\", \"b'airline'\", \"b'patrick' b'greenfield'\", \"b'uddin'\", \"b'clive' b'colbridge'\", \"b'gary' b'lineker'\", \"b'xi'\", \"b'olaf' b'scholz'\", \"b'american' b'airlines'\", \"b'biden'\", \"b'german'\", \"b'zhang' b'boli'\", \"b'gosnell-myers'\", \"b'sarasota'\", \"b'mark' b'carney'\", \"b'liz' b'whittaker'\", \"b'alexandria' b'ocasio-cortez'\", \"b'new' b'zealand'\", \"b'swapo'\", \"b'nrl'\", \"b'ahmaud' b'arbery'\", \"b'bayern'\", \"b'kingdom'\", \"b'jeanette' b'taylor'\", \"b'altmaier'\", \"b'uk' b'labour'\", \"b'chinese' b'pharmacopoeia'\", \"b'2000s'\", \"b'dominic' b'cummings'\", \"b'environmental' b'protection' b'agency'\", \"b'pacific'\", \"b'bp' b'products' b'north' b'america'\", \"b'wild' b'west'\", \"b'vancouver-area' b'first' b'nations'\", \"b'behest' b'of' b'oil' b'companies'\", \"b'world' b'cup'\", \"b'rick' b'bright'\", \"b'cbc' b'news'\", \"b'democratic' b'socialists' b'of' b'america'\", \"b'jimmy'\", \"b'dom' b'costa'\", \"b'doreen' b'dodgen-magee'\", \"b'jesse' b'sharkey'\", \"b'nagaland'\", \"b'robin' b'dunbar'\", \"b'conservation' b'of' b'nature'\", \"b'australian'\", \"b'mail'\", \"b'manila'\", \"b'ahwahnee' b'hotel'\", \"b'jack' b'bertolini'\", \"b'burrard' b'street' b'bridge'\", \"b'blackpool'\", \"b'nhsbt'\", \"b'khriekhoto' b'mor'\", \"b'simon' b'wang'\", \"b'swift'\", \"b'york' b'city'\", \"b'university' b'of' b'edinburgh'\", \"b'denver-based'\", \"b'beatty'\", \"b'keegan'\", \"b'ala' b'uddin'\", \"b'west' b'wing'\", \"b'graeme' b'jones'\", \"b'tara' b'reade'\", \"b'champions' b'league'\", \"b'indiana;'\", \"b'vincenzo' b'spadafora'\", \"b'latina'\", \"b'buster' b'keaton'\", \"b'sundown'\", \"b'charlie' b'chaplin'\", \"b'no'\", \"b'shelley' b'luther'\", \"b'australasia'\", \"b'kosseff'\", \"b'york'\", \"b'alzheimer'\", \"b'utah' b'state' b'university'\", \"b'michael' b'kovrig'\", \"b'ccp'\", \"b'israel'\", \"b'argentina'\", \"b'wang'\", \"b'spielberg'\", \"b'john' b'pepper'\", \"b'matt' b'busby'\", \"b'ronald' b'reagan'\", \"b'jovanovic'\", \"b'congress'\", \"b'//audio'\", \"b'workplaces'\", \"b'raj'\", \"b'ar'\", \"b'jonathan' b'zhong'\", \"b'african'\", \"b'44%' b'of' b'african' b'americans'\", \"b'dallas'\", \"b'hawaii'\", \"b'sky'\", \"b'africa'\", \"b'l\\\\xc3\\\\xbctke'\", \"b'news' b'of' b'the' b'world'\", \"b'chris' b'saeger'\", \"b'spotify'\", \"b'bobby' b'charlton'\", \"b'hage' b'geingob'\", \"b'macgyver'\", \"b'mark' b'bullingham'\", \"b'jack' b'stacey'\", \"b'ottawa-based'\", \"b'dick' b'mell'\", \"b'abc' b'news'\", \"b'european' b'golden' b'shoe'\", \"b'klopp'\", \"b'us' b'national' b'institutes' b'of' b'health'\", \"b'jordan' b'stanger-ross'\", \"b'vpn'\", \"b'latam' b'airlines' b'group'\", \"b'rob' b'carden'\", \"b'atlantic'\", \"b'efl'\", \"b'attorney'\", \"b'city'\", \"b'jacob' b'frey'\", \"b'chester' b'zoo'\", \"b'world' b'health' b'organisation'\", \"b'dean' b'holden'\", \"b'mario' b'stanic'\", \"b'suzy' b'kastura'\", \"b'wsl'\", \"b'les' b'byers'\", \"b'indiana'\", \"b'innovative' b'medicines' b'initiative'\", \"b'man' b'united'\", \"b'associated' b'press'\", \"b'advanced' b'heart' b'disease' b'in' b'boston'\", \"b'william' b'barr'\", \"b'leah' b'green'\", \"b'iata'\", \"b'franco-dutch' b'air' b'france-klm'\", \"b'deborah' b'mell'\", \"b'guardian'\", \"b'internet' b'archive'\", \"b'borrell'\", \"b'max' b'heinemeyer'\", \"b'chelsea' b'newcastle'\", \"b'ginger'\", \"b'michiganders'\", \"b'taylor'\", \"b'rosana' b'rodriguez-sanchez'\", \"b'ifaw'\", \"b'university' b'of' b'oxford'\", \"b'summer' b'lee'\", \"b'michele' b'anzaldi'\", 'b\\'michael\\' b\\'o\\' b\"\\'leary\"', \"b'canadian' b'pacific' b'railway'\", \"b'china'\", \"b'department' b'for' b'health' b'and' b'social' b'care' b'and' b'health' b'protection' b'scotland'\", \"b'courtney' b'barnett'\", \"b'sinkey' b'boone'\", \"b'squamish'\", \"b'delaware' b'memorial' b'bridge' b'veterans' b'memorial' b'park'\", \"b'michael' b'spavor'\", \"b'renault-nissan'\", \"b'bobby' b'brown'\", \"b'emmanuel' b'macron'\", \"b'mst' b'property' b'development' b'corporation'\", \"b'\\\\xe2\\\\x80\\\\x9c'\", \"b'mitch' b'mcconnell'\", \"b'steven' b'brown'\", \"b'april'\", \"b'sunderland'\", \"b'james' b'phillips'\", \"b'bein' b'sports'\", \"b'roger' b'byrne'\", \"b'johan' b'lundgren'\", \"b'sharon' b'peacock'\", \"b'dongfeng'\", \"b'hannity'\", \"b'xi' b'jinping'\", \"b'erwin' b'schmidt'\", \"b'democratic'\", \"b'hydroxychloroquine'\", \"b'red' b'star' b'belgrade'\", \"b'mark' b'zuckerberg'\", \"b'porton' b'down'\", \"b'stevenage'\", \"b'kezhaseria' b'meyase'\", \"b'jesse' b'prentice-dunn'\", \"b'zhao' b'lijian'\", \"b'sarajevo'\", \"b'garstang'\", \"b'osim'\", \"b'belgrade'\", \"b'peat'\", \"b'ljubljana'\", \"b'reuters'\", \"b'europe'\", \"b'almod\\\\xc3\\\\xb3var'\", \"b'heather' b'holmes'\", \"b'california'\", \"b'lorrie'\", \"b'contempt' b'of' b'court' b'act'\", \"b'stephanie' b'drumheller-horton'\", \"b'leroy' b'mccarthy'\", \"b'ben' b'tulchin'\", \"b'modelling'\", \"b'100%'\", \"b'mccarthy'\", \"b'british'\", \"b'larry' b'kudlow'\", \"b'kate' b'underhill'\", \"b'sands'\", \"b'national' b'cyber' b'security' b'centre'\", \"b'melinda' b'gates' b'foundation'\", \"b'rob' b'portman'\", \"b'avvenire'\", \"b'allentown'\", \"b'elliot' b'lee'\", \"b'cruz'\", \"b'nbc'\", \"b'rick' b'perlstein'\", \"b'georgia' b'jumper'\", \"b'senakw'\", \"b'academia'\", \"b'debbie' b'banks'\", \"b'james' b'elliot'\", \"b'andre' b'vasquez'\", \"b'great' b'depression'\", \"b'pozzallo'\", \"b'npc'\", \"b'south' b'yorkshire' b'police'\", \"b'downing' b'street'\", \"b'fa'\", \"b'betsy' b'devos'\", \"b'g\\\\xc3\\\\xb6ran' b'eriksson'\", \"b'matthew' b'pearson'\", \"b'adam' b'sewer'\", \"b'lucasfilm'\", \"b'thailand'\", \"b'paul' b'macinnes'\", \"b'bt' b'sport'\", \"b'carlos' b'ghosn'\", \"b'cheshire'\", \"b'sars-cov-2'\", \"b'apollo'\", \"b'mid-april'\", \"b'united' b'airlines'\", \"b'spacex'\", \"b'university' b'of' b'tennessee'\", \"b'khonoma' b'youth' b'organisation'\", \"b'f\\\\xc3\\\\xbcr' b'elise'\", \"b'richard' b'nixon'\", \"b'lara' b'putnam'\", \"b'tcm'\", \"b'duncan'\", \"b'russia'\", \"b'ohio'\", \"b'google'\", \"b'mark' b'ogden'\", \"b'alfred'\", \"b'eriksson'\", \"b'maria' b'bartiromo'\", \"b'london' b'stock' b'exchange'\", \"b'corey' b'belly-flop'\", \"b'south' b'america'\", \"b'blockchain'\", \"b'fiver'\", \"b'kentucky'\", \"b'judicial' b'crisis' b'network'\", \"b'english' b'football' b'league'\", \"b'vernal'\", \"b'felipe' b'.'\", \"b'fox' b'business'\", \"b'mary' b'kay' b'henry'\", \"b'american' b'chicago'\", \"b'equity' b'magazine'\", \"b'chinese' b'states'\", \"b'brian' b'benczkowski'\", \"b'antonio' b'gorriar\\\\xc3\\\\xa1n'\", \"b'beijing'\", \"b'lincoln'\", \"b'risley' b'moss'\", \"b'nazis'\", \"b'1980s' b'.' b'wildlife' b'conservation' b'organisation' b'traffic'\", \"b'center' b'for' b'responsive' b'politics'\", \"b'albita'\", \"b'european'\", \"b'el' b'corte' b'ingl\\\\xc3\\\\xa9s'\", \"b'facebook'\", \"b'barcelona'\", \"b'josh' b'davis'\", \"b'barack' b'obama'\", \"b'luckey'\", \"b'bangalore'\", \"b'bangladesh'\", \"b'republican' b'national' b'committee'\", \"b'robson'\", \"b'international' b'union'\", \"b'khelsilem'\", \"b'tom'\", \"b'fda'\", \"b'real' b'oviedo'\", \"b'meng' b'wanzhou'\", \"b'dominic' b'raab'\", \"b'world' b'economic' b'forum'\", \"b'dane' b'peterson'\", \"b'portman'\", \"b'benee'\", \"b'xinhua'\", \"b'kenji' b'kitahashi'\", \"b'online'\", \"b'united' b'nations'\", \"b'jazz' b'salm'\", \"b'sunflower'\", \"b'pennsylvania'\", \"b'marauding'\", \"b'communist'\", \"b'fairwild'\", \"b'space' b'force'\", \"b'national' b'notifiable' b'diseases' b'surveillance' b'system'\", \"b'apple'\", \"b'delbos'\", \"b'cheng'\", \"b'dan' b'sullivan'\", \"b'alaska'\", \"b'timo' b'werner'\", \"b'welshman'\", \"b'anna' b'paquin'\", 'b\\'patrick\\' b\\'o\\' b\"\\'connor\"', \"b'screen' b'australia'\", \"b'vice'\", \"b'allen' b'cheng'\", \"b'brian' b'stelter'\", \"b'germany'\", \"b'veterans' b'health' b'administration'\", \"b'world' b'cup' b'winners' b'and' b'european' b'u21'\", \"b'georgia' b'sea' b'grant'\", \"b'spain'\", \"b'manhattan'\", \"b'imi'\", \"b'seaman'\", \"b'denmark'\", \"b'deer'\", \"b'chandran'\", \"b'james' b'gorman'\", \"b'india'\", \"b'brussels'\", \"b'dr' b'chandra' b'ford'\", \"b'chinese'\", \"b'blackburn-with-darwen'\", \"b'robert'\", \"b'mika' b'brzezinski'\", \"b'avant' b'gardener'\", \"b'oprah' b'winfrey'\", \"b'johns' b'hopkins' b'university'\", \"b'honest' b'elections' b'project'\", \"b'russell' b'viner'\", \"b'vladimir' b']' b'putin'\", \"b'lindsay' b'rosa'\", \"b'bucheon'\", \"b'economics'\", \"b'ferguson'\", \"b'federal' b'reserve'\", \"b'barr'\", \"b'project' b'restart'\", \"b'david' b'king'\", \"b'public' b'health' b'england'\", \"b'foia'\", \"b'justice' b'holmes'\", \"b'carrie' b'severino'\", \"b'tyrannosaurus'\", \"b'relegation' b'jones'\", \"b'sicily'\", \"b'scientific' b'advisory' b'group'\", \"b'klausutis'\", \"b'bill' b'clinton'\", \"b'joint' b'biosecurity' b'centre'\", \"b'allosaurus'\", \"b'yougov'\", \"b'furness'\", \"b'dua' b'lipa'\", \"b'\\\\xe2\\\\x80\\\\x9c' b'twitter-curated'\", \"b'richard' b'heede'\", \"b'bartiromo'\", \"b'denita' b'jones'\", \"b'hong' b'kong'\", \"b'tweety' b','\", \"b'national' b'guard' b'&' b'get'\", \"b'amazon'\", \"b'sports' b'ground' b'safety' b'authority'\", \"b'davos'\", \"b'mikel' b'arteta'\", \"b'albert' b'scanlon'\", \"b'south' b'africa'\", \"b'ivica' b'osim'\", \"b'interval' b'workington'\", \"b'james'\", \"b'charles' b'firth'\", \"b'darien'\", \"b'anchorage' b'daily' b'news'\", \"b'london-based'\", \"b'ben' b'fisher'\", \"b'peter' b'altmaier'\", \"b'ginger' b'gosnell-myers'\", \"b'iceland'\", \"b'pfizer'\", \"b'liverpool'\", \"b'gorsuch'\", \"b'francisco' b'duque'\", \"b'power'\", \"b'memorial' b'day'\", \"b'john' b'newton'\", \"b'sinisa' b']' b'mihajlovic'\", \"b'coronavirus'\", \"b'london'\", \"b'vanita' b'gupta'\", \"b'mikhail' b'pappas'\", \"b'united' b'states'\", \"b'chelsea'\", \"b'charlotte'\", \"b'indiana' b'jones'\", \"b'cummings'\", \"b'tv'\", \"b'frey'\", \"b'tucker' b'carlson'\", \"b'oxford' b'economics'\", \"b'matthew' b'newlands'\", \"b'lao'\", \"b'coast' b'guard'\", \"b'kenny' b'morgans'\", \"b'dallas-area'\", \"b'beethoven'\", \"b'justin' b'trudeau'\", \"b'virginia' b'university' b'of' b'integrative' b'medicine'\", \"b'seoul'\", \"b'disney'\", \"b'newcastle'\", \"b'european' b'championship'\", \"b'eu'\", \"b'minnesota'\", \"b'madagascan'\", \"b'bulgaria'\", \"b'georgia'\", \"b'new' b'yorker'\", \"b'brown' b'university'\", \"b'hollywood'\", \"b'corporate' b'europe' b'observatory'\", \"b'liverpool' b'city' b'council'\", \"b'manish' b'shetty'\", \"b'marine' b'extension'\", \"b'nicaraguan'\", \"b'kurt' b'bardella'\", \"b'brittany'\", \"b'douglas' b'hurley'\", \"b'billy' b'robson'\", \"b'gop'\", \"b'john' b'coleman'\", \"b'watergate'\", \"b'black'\", \"b'fluech'\", \"b'perlstein'\", \"b'dheeraj' b'raj'\", \"b'majungasaurus'\", \"b'fulham'\", \"b'merseyside' b'derby'\", \"b'richard' b'masters'\", \"b'jones'\", \"b'anthony' b'fauci'\", \"b'chinese' b'academy' b'of' b'engineering'\", \"b'goleta'\", \"b'kevin' b'p'\", \"b'un'\", \"b'gale'\", \"b'britain'\", \"b'south' b'sydney' b'rabbitohs'\", \"b'fiorentina'\", \"b'daniel' b'kahn'\", \"b'zach' b'king'\", \"b'coalition' b'for' b'epidemic' b'preparedness' b'innovations'\", \"b'georges' b'm\\\\xc3\\\\xa9li\\\\xc3\\\\xa8s'\", \"b'observer'\", \"b'berlin;'\", \"b'netherlands'\", \"b'bill' b'pullman'\", \"b'christchurch'\", \"b'austrian'\", \"b'barrow-in-furness' b'\\\\xe2\\\\x80\\\\x93'\", \"b'hillary' b'clinton'\", \"b'50%'\", \"b'center' b'for' b'western' b'priorities'\", \"b'colman'\", \"b'delta' b'air' b'lines'\", \"b'kevikelie' b'pier'\", \"b'north' b'carolina'\", \"b'stephen' b'brusatte'\", \"b'burkinshaw'\", \"b'harford'\", \"b'boris' b'johnson'\", \"b'gus' b'dapperton'\", \"b'jerome' b'powell'\", \"b'heather' b'prince'\", \"b'canadians'\", \"b'santa' b'barbara'\", \"b'avianca'\", \"b'emirates'\", \"b'michelle' b'obama'\", \"b'wanna' b'quilt'\", \"b'independence' b'day'\", \"b'ico'\", 'b\\'brigham\\' b\\'and\\' b\\'women\\' b\"\\'s\" b\\'hospital\\' b\\'center\\'', \"b'radical' b'left' b'democrat' b'party'\", \"b'canada'\", \"b'croatia'\", \"b'european' b'union'\", \"b'rhino'\", \"b'brunswick'\", \"b'hubei'\", \"b'kitakyushu'\", \"b'dad'\", \"b'coventry'\", \"b'pam' b'custers'\", \"b'perry'\", \"b'\\\\xe2\\\\x80\\\\x9c' b'mama'\", \"b'world' b'health' b'organization'\", \"b'\\\\xe2\\\\x80\\\\x98i'\", \"b'fenton'\", \"b'joe' b'lockhart'\", \"b'alan' b'sheehan'\", \"b'everton'\", \"b'center' b'for' b'racism'\", \"b'westbank'\", \"b'peru'\", \"b'chinese-claimed'\", \"b'oxford' b'university'\", \"b'charlton'\", \"b'aron' b'white'\", \"b'fred' b'thompson'\", 'b\\'national\\' b\\'police\\' b\\'chiefs\\' b\"\\'\" b\\'council\\'', \"b'canadian'\", \"b'leo'\", \"b'serie' b'a'\", \"b'harvard'\", \"b'gulf' b'coast'\", \"b'brad' b'parscale'\", \"b'china-canada'\", \"b'government' b'of' b'singapore' b'investment' b'corporation' b'gic'\", \"b'philippe' b'sands'\", \"b'burnley'\", \"b'minneapolis'\", \"b'frank' b'bruni'\", \"b'fintech' b'circle'\", \"b'george' b'floyd'\", \"b'jedi' b'\\\\xe2\\\\x80\\\\x93'\", \"b'ryanair'\", \"b'wynn' b'gale'\", \"b'lindsey' b'graham'\", \"b'jeff' b'bezos'\", \"b'startup' b'funding' b'club'\", \"b'penn' b'wharton' b'budget' b'model'\", \"b'japanese'\", \"b'anti-china'\", \"b'bill' b'shankly'\", \"b'katrin' b'gebbe'\", \"b'kauffman'\", \"b'college' b'london'\", \"b'yiddish'\", \"b'kastura'\", \"b'cnn' b'business'\", \"b'winmarleigh'\", \"b'stoke'\", \"b'wendy' b'schiller'\", \"b'radio' b'cumbria'\", \"b'heath'\", \"b'vitsokhono' b'pier'\", \"b'nick' b'payne'\", \"b'miami'\", \"b'tim' b'miller'\", \"b'vine' b'\\\\xe2\\\\x80\\\\x93'\", \"b'jeb' b'bush'\", \"b'english' b'kahn'\", \"b'simon' b'grayson'\", \"b'national' b'union' b'of' b'journalists'\", \"b'victoria'\", \"b'ottawa'\", \"b'monika' b'mcdermott'\", \"b'birdlife' b'international'\", \"b'chile'\", \"b'amy' b'fenton'\", \"b'tooty' b'mcnooty'\", \"b'neapolitan'\", 'b\\'national\\' b\\'people\\' b\"\\'s\" b\\'congress\\'', \"b'mukesh' b'ambani'\", \"b'zoom'\", 'b\"\\'s\" b\\'office\\'', \"b'lori' b'klausutis'\", \"b'malta'\", \"b'renault'\", \"b'jill'\", \"b'hbo' b',' b'film' b'agency' b'wales'\", \"b'ucl'\", \"b'alexa'\", \"b'andrea' b'boyle'\", \"b'safari'\", \"b'electric' b'light' b'orchestra'\", \"b'ty' b'dolla'\", \"b'alex' b'rollo'\", \"b'david' b'seaman'\", \"b'sydney' b'roosters'\", \"b'sag'\", \"b'microsoft'\", \"b'khonoma' b'nature' b'conservation' b'and' b'tragopan' b'sanctuary'\", \"b'spi-m'\", \"b'hamster' b'wheel'\", \"b'middle' b'eastern'\", \"b'\\\\xe2\\\\x80\\\\x98well'\", \"b'bill' b'foulkes'\", \"b'american'\", \"b'sweden'\", \"b'environmental' b'investigation' b'agency'\", \"b'blackstock'\", \"b'larry' b'sabato'\", \"b'trump'\", \"b'iran'\", \"b'diane' b'postler-slattery'\", \"b'angami'\", \"b'madrid'\", \"b'england'\", \"b'rio' b'ferdinand'\", \"b'carney'\", \"b'texas'\", \"b'bundist'\", \"b'dennis' b'viollet'\", \"b'freedom' b'of' b'information' b'act'\", \"b'indians'\", \"b'apeel'\", \"b'meerut'\", \"b'balkans'\", \"b'interior'\", \"b'dsa'\", \"b'national' b'institute' b'of' b'allergy' b'and' b'infectious' b'diseases'\", \"b'non-union'\", \"b'south' b'korea'\", \"b'english'\", \"b'li' b'zhanshu'\", \"b'fox'\", \"b'wales'\", \"b'barnard' b'castle'\", \"b'easyjet'\", \"b'marquette' b'university' b'law' b'school'\", \"b'zoe'\", \"b'ijaa'\", \"b'tanjala'\", \"b'ironically'\", \"b'mexico'\", \"b'lilly'\", \"b'with' b'defenders' b'of' b'wildlife'\", \"b'workington' b'reds'\", \"b'elon' b'musk'\", \"b'gdelt'\", \"b'german-born'\", \"b'african' b'american'\", \"b'triple-than-normal'\", \"b'rod' b'blagojevich'\", \"b'walsh'\", \"b'vladimir' b'jugovic'\", \"b'climate' b'accountability' b'institute'\", \"b'uefa'\", \"b'atm'\", \"b'asian'\", \"b'michael' b'flynn'\", \"b'jimmy' b'murphy'\", \"b'uae'\", \"b'oxford'\", \"b'shtumer' b'alef'\", \"b'\\\\xe2\\\\x80\\\\x98malta'\", \"b'us'\", \"b'twitch'\", \"b'real' b'madrid'\", \"b'msnbc'\", \"b'zootopia'\", \"b'urban' b'institute'\", \"b'brexit'\", \"b'hamburg'\", \"b'leonard' b'leo'\", \"b'uk' b'football' b'policing' b'unit'\", \"b'judicial' b'watch'\", \"b'barrow'\", \"b'yugoslavia'\", \"b'yosemite'\", \"b'he'\", \"b'kaye'\", \"b'colbridge'\", \"b'whitmer'\", \"b'patrick' b'traylor'\", \"b'brusatte'\", \"b'philippines'\", \"b'greg' b'abbott'\", \"b'wallace'\", \"b'winfrey'\", \"b'british' b'airways'\", \"b'vietnam'\", \"b'pepper'\", \"b'afm'\", \"b'filmchain'\", \"b'hannah' b'devlin' b'science'\", \"b'nathan' b'jones'\", \"b'wisconsin'\", \"b'heede'\", \"b'ronald' b'costa'\", \"b'ramadan'\", \"b'mumbai'\", \"b'oculus'\", \"b'kahn'\", \"b'ted' b'cruz'\", \"b'international' b'journal' b'of' b'antimicrobial' b'agents'\", \"b'ngos'\", \"b'dieppe'\", \"b'harvey'\", \"b'red' b'star'\", \"b'lori'\", \"b'salm'\", \"b'jonah' b'goldberg'\", \"b'forbes'\", \"b'nhs'\", \"b'anderson'\", \"b'brian' b'brutyn'\", \"b'shankly'\", \"b'cambridge' b'analytica'\", \"b'brendan' b'rodgers'\", \"b'bankwest' b'stadium'\", \"b'democratic' b'socialist' b'of' b'america'\", \"b'lol'\", \"b'united' b'arab' b'emirates'\", \"b'who'\", \"b'marseille'\", \"b'pizza' b'pilgrims'\", \"b'doj'\", \"b'boloco'\", \"b'flynn'\", \"b'government' b'and' b'public' b'health' b'england'\", \"b'\\\\xe2\\\\x80\\\\x98carlos'\", \"b'phoebe' b'weston'\", \"b'zionism'\", \"b'californian'\", \"b'johns' b'hopkins'\", \"b'alex' b'hess'\", \"b'qatar'\", \"b'sullivan'\", \"b'squamish' b'nation'\", \"b'germans'\", \"b'manchester' b'city'\", \"b'lancet' b'ascot'\", \"b'kavanaugh'\", \"b'heysham' b'moss'\", \"b'cooper'\", \"b'del' b'monte'\", \"b'ted' b'purdon'\", \"b'pandora'\", \"b'paycheck' b'protection' b'program'\", \"b'new' b'jersey'\", \"b'midland'\", \"b'jonas' b'brothers' b',' b'circles'\", \"b'doha'\", \"b'nasa'\", \"b'bill'\", \"b'scholes'\", \"b'kfw'\", \"b'kncts'\", \"b'prius'\", \"b'ch'\", \"b'exact'\", \"b'sean' b'hannity'\", \"b'wilbur' b'ross'\", \"b'guy'\", \"b'brazilian'\", \"b'morgan' b'stanley'\", \"b'walmart'\", \"b'florida'\", \"b'emma' b'critchley-lloyd'\", \"b'yosemite' b'valley'\", \"b'khonoma'\", \"b'dr' b'mandeep' b'mehra'\", \"b'cumbria'\", \"b'henry'\", \"b'eddie' b'colman'\", \"b'mps'\", \"b'pete' b'buttigeig'\", \"b'aei'\", \"b'joel' b'kaplan'\", \"b'tottenham'\", \"b'ron' b'johnson'\", \"b'bundesliga'\", \"b'zooms'\", \"b'musk'\", \"b'john' b'walsh'\", \"b'jesse' b'ferguson'\", \"b'switzerland'\", \"b'wigan'\", \"b'telegraph'\", 'b\\'evelina\\' b\\'london\\' b\\'children\\' b\"\\'s\" b\\'hospital\\'', \"b'oregon'\", \"b'jewish'\", \"b'joey'\", \"b'richard' b'foster'\", \"b'wildlife' b'trust'\", \"b'white' b'house'\", \"b'billionaire'\", \"b'joe' b'harvey'\", \"b'ucla'\", \"b'axios'\", \"b'cynthia' b'hernandez'\", \"b'bbc' b'breakfast'\", \"b'european' b'pharmaceutical' b'industry'\", \"b'dillon'\", \"b'harris'\", \"b'dragan' b'stojkovic'\", \"b'pittsburgh'\", \"b'vancouver'\", \"b'wiltshire'\", \"b'asia'\", \"b'grosse' b'pointe' b'farms'\", \"b'premier' b'league'\", \"b'god'\", \"b'queens'\", \"b'\\\\xe2\\\\x80\\\\x93'\", \"b'namibia'\", \"b'nevada'\", \"b'imperial' b'college' b'london'\", \"b'anthony' b'costello'\", \"b'first' b'nations'\", \"b'kawasaki'\", \"b'italian'\", \"b'fox' b'news'\", \"b'china' b'biodiversity' b'conservation' b'and' b'green' b'development' b'foundation'\", \"b'manchester'\", \"b'jo' b'kennedy'\", \"b'london' b'business' b'awards'\", \"b'sarah' b'innamorata'\", \"b'whistler'\", \"b'sara' b'chandran'\", \"b'nick' b'clegg'\", \"b'federal' b'communications' b'commission'\", \"b'chicago-based'\", \"b'j\\\\xc3\\\\xbcrgen' b'klopp'\", \"b'cleveland'\", \"b'moscow'\", \"b'jamie' b'jackson'\", \"b'phe'\", \"b'tiktok'\", \"b'bernie' b'sanders'\", \"b'bournemouth'\", \"b'national'\", 'b\\'barber\\' b\"\\'s\" b\\'poor\\' b\\'people\\' b\"\\'s\" b\\'campaign\\'', \"b'covid-19.'\", \"b'poinsettias'\", \"b'dick'\", \"b'thom'\", \"b'orson' b'welles'\", \"b'tanana' b'chiefs' b'conference'\", \"b'portland'\", \"b'hay'\", \"b'sri' b'lanka'\", \"b'food' b'and' b'drug' b'administration'\", \"b'hongkongers'\", \"b'asda'\", \"b'graham' b'westley'\", \"b'zhao' b'lijan'\", \"b'national' b'parks' b'conservation' b'association'\", \"b'25-year-old'\"]\n"
     ]
    }
   ],
   "source": [
    "#vector de subconjunto de entidades\n",
    "entity_text_array = [] \n",
    "for i in range(1, N+1):\n",
    "    #cargue el archivo de texto con el contenido del artículo y conviértalo en una lista de palabras\n",
    "    tokens = tokenize(load_entire_file(('Data/article-' + str(i) + '.txt')))\n",
    "    #extraiga todas las entidades conocidas del modelo ner mencionado en este artículo\n",
    "    entities = ner.extract_entities(tokens)\n",
    "    #extraiga las palabras de entidades reales y agréguelas al vector\n",
    "    for e in entities: \n",
    "        range_array = e[0]\n",
    "        tag = e[1]\n",
    "        score = e[2]\n",
    "        score_text = \"{:0.3f}\".format(score)\n",
    "        entity_text = \" \".join(str(tokens[j]) for j in range_array) \n",
    "        entity_text_array.append(entity_text.lower())\n",
    "#elimine las entidades duplicadas que se hayan detectado\n",
    "#entity_text_array = np.unique(entity_text_array)\n",
    "entity_text_array = list(set(entity_text_array))\n",
    "print(entity_text_array)"
   ]
  },
  {
   "cell_type": "markdown",
   "metadata": {
    "ExecuteTime": {
     "end_time": "2020-05-22T19:12:49.108073Z",
     "start_time": "2020-05-22T19:12:49.094235Z"
    }
   },
   "source": [
    "Ahora que ya tenemos la lista de todas las entidades utilizadas en la base de datos, podemos representar cada artículo como un vector que contiene la puntuación de [TF-IDF](https://en.wikipedia.org/wiki/Tf–idf) para cada entidad almacenada en el `entity_text_array`. Esta tarea se puede realizar fácilmente con la librería [scikit-learn](http://scikit- learn.org/stable/) de Python"
   ]
  },
  {
   "cell_type": "code",
   "execution_count": 6,
   "metadata": {
    "ExecuteTime": {
     "end_time": "2020-05-29T16:36:30.800268Z",
     "start_time": "2020-05-29T16:36:30.763153Z"
    }
   },
   "outputs": [],
   "source": [
    "vect = TfidfVectorizer(sublinear_tf=True, max_df=0.5, analyzer='word',\n",
    "                       stop_words='english', vocabulary=entity_text_array)\n",
    "corpus_tf_idf = vect.fit_transform(corpus)\n"
   ]
  },
  {
   "cell_type": "markdown",
   "metadata": {},
   "source": [
    "Ahora que tenemos los artículos representados por sus atributos (puntuaciones de TF-IDF), podemos llevar a cabo el agrupamiento espectral de los mismos usando la librería `scikit-learn` de nuevo"
   ]
  },
  {
   "cell_type": "code",
   "execution_count": 7,
   "metadata": {
    "ExecuteTime": {
     "end_time": "2020-05-29T16:36:30.850532Z",
     "start_time": "2020-05-29T16:36:30.801871Z"
    }
   },
   "outputs": [
    {
     "data": {
      "text/plain": [
       "SpectralClustering(affinity='nearest_neighbors', assign_labels='kmeans',\n",
       "                   coef0=1, degree=3, eigen_solver='arpack', eigen_tol=0.0,\n",
       "                   gamma=1.0, kernel_params=None, n_clusters=8,\n",
       "                   n_components=None, n_init=10, n_jobs=None, n_neighbors=10,\n",
       "                   random_state=None)"
      ]
     },
     "execution_count": 7,
     "metadata": {},
     "output_type": "execute_result"
    }
   ],
   "source": [
    "# change n_clusters to equal the number of clusters desired\n",
    "n_clusters = 8\n",
    "#spectral clustering\n",
    "spectral = cluster.SpectralClustering(n_clusters= n_clusters, \n",
    "                                      eigen_solver='arpack', \n",
    "                                      affinity=\"nearest_neighbors\", \n",
    "                                      n_neighbors = 10)\n",
    "spectral.fit(corpus_tf_idf)"
   ]
  },
  {
   "cell_type": "markdown",
   "metadata": {},
   "source": [
    "Finalmente las siguientes líneas de código permiten ver el output en el siguiente formato (una línea por artículo):\n",
    "\n",
    "<br>\n",
    "\n",
    "<center>__no. artículo, tema, cluster, título__</center>"
   ]
  },
  {
   "cell_type": "code",
   "execution_count": 8,
   "metadata": {
    "ExecuteTime": {
     "end_time": "2020-05-29T16:36:30.863888Z",
     "start_time": "2020-05-29T16:36:30.854869Z"
    }
   },
   "outputs": [
    {
     "name": "stdout",
     "output_type": "stream",
     "text": [
      "0 elections_2020 5 biden sets solemn tone as trump waits 15 hours to mark covid-19 milestone\n",
      "1 elections_2020 1 revealed: conservative group fighting to restrict voting tied to powerful dark money network\n",
      "2 elections_2020 3 republicans sense rich pickings in biden archive – but will it be made public?\n",
      "3 elections_2020 3 'feels good to be out of my house': biden lays memorial day wreath in delaware\n",
      "4 elections_2020 0 'you have to respond forcefully': can joe biden fight trump's brutal tactics?\n",
      "5 elections_2020 3 why is trump so restrained about the biden sexual assault allegation?\n",
      "6 elections_2020 3 swing states become partisan battlegrounds in america's fight against covid-19\n",
      "7 elections_2020 2 'obamagate': fox news focuses on conspiracy theory rather than covid-19\n",
      "8 elections_2020 2 ‘the united states is broken as hell’ – the division in politics over race and class\n",
      "9 elections_2020 5 socialism used to be a dirty word. is america now ready to embrace it?\n",
      "10 world 7 global report: south korea postpones school reopening due to new outbreak\n",
      "11 world 4 'gross incompentence at highest levels': ex-obama adviser blasts trump's covid response\n",
      "12 world 1 monkeys steal covid-19 test samples from health worker in india\n",
      "13 world 3 china threatens 'countermeasures' against uk over hong kong crisis\n",
      "14 world 6 italy considers charges over malta's 'shocking' refusal to rescue migrants\n",
      "15 world 3 barrow journalist hounded out of cumbria for reporting court case\n",
      "16 world 2 renault to cut 14,600 jobs as part of €2bn cost-saving plan\n",
      "17 world 1 dominic cummings cutout appears at rugby league match in australia\n",
      "18 world 2 the bold new plan for an indigenous-led development in vancouver\n",
      "19 world 0 india primed: what amazon's vast new hyderabad campus reveals about its plans\n",
      "20 environment 3 new trump public land rules will let alaska hunters kill bear cubs in dens\n",
      "21 environment 1 us lets corporations delay paying environmental fines amid pandemic\n",
      "22 environment 5 we are eating shrimp in record numbers. but for how much longer?\n",
      "23 environment 2 thousands of run-down us dams would kill people if they failed, study finds\n",
      "24 environment 7 when the '500-year flood' hit michigan, residents had to weigh risk of escape in a pandemic\n",
      "25 environment 2 firms ignoring climate crisis will go bankrupt, says mark carney\n",
      "26 environment 1 large heath butterflies return to manchester after 150 years\n",
      "27 environment 7 india's first 'green' village adapts to life without tourists\n",
      "28 environment 3 'this makes chinese medicine look bad': tcm supporters condemn illegal wildlife trade\n",
      "29 environment 3 'we've never seen this': wildlife thrives in closed us national parks\n",
      "30 soccer 3 liverpool and everton to oppose plans to play games at neutral venues\n",
      "31 soccer 3 slavisa jokanovic: 'euro 92 was taken away from us. we were better than denmark'\n",
      "32 soccer 1 what, when, where? questions answered on premier league's return\n",
      "33 soccer 0 brendan rodgers reveals both he and his wife have had coronavirus\n",
      "34 soccer 3 fate of league one season still unclear as clubs prepare for crucial meeting\n",
      "35 soccer 3 who wouldn’t want to spend a second consecutive summer day indoors?\n",
      "36 soccer 3 workington raise funds reliving day they stunned manchester united\n",
      "37 soccer 3 fa cup final to be held on 1 august with quarter-finals resuming on 27 june\n",
      "38 soccer 3 golden goal: dietmar hamann for germany v england (2000)\n",
      "39 soccer 3 'people say you shouldn’t do this': nathan jones heads into fire at luton\n",
      "40 us_politics 3 'trump knows nothing of minneapolis': mayor hits back at president's tweets\n",
      "41 us_politics 3 we shouldn't have to witness george floyd's killing for it to spark outrage\n",
      "42 us_politics 0 'here's a bedsheet, make a parachute!' republicans say, pushing us out of a plane\n",
      "43 us_politics 3 why twitter should ban donald trump\n",
      "44 us_politics 1 trump's devoted new press secretary is no different from her predecessors\n",
      "45 us_politics 3 'we're expendable': black americans pay the price as states lift lockdowns\n",
      "46 business 2 us job losses pass 40m as coronavirus crisis sees claims rise 2.1m in a week\n",
      "47 business 1 food-waste firm bags oprah winfrey and katy perry as investors\n",
      "48 business 3 lufthansa agrees €9bn bailout with german government\n",
      "49 business 3 tackling the dark side of the movie business: the blockchain startup ensuring film workers get paid\n",
      "50 business 3 pizzas in the post: shopify challenges amazon for slice of lockdown trade\n",
      "51 business 3 extra $600 in jobless pay offers many a lifeline – but will it be renewed?\n",
      "52 business 3 exclusive: big pharma rejected eu plan to fast-track vaccines in 2017\n",
      "53 business 3 jobless america: the coronavirus unemployment crisis in figures\n",
      "54 business 3 tiktok's first auteur: zach king on his madcap micro movies\n",
      "55 business 3 the zoom boom: how video-calling became a blessing – and a curse\n",
      "56 tech 3 twitter hides donald trump tweet for 'glorifying violence'\n",
      "57 tech 3 zuckerberg says facebook won't be 'arbiters of truth' after trump threat\n",
      "58 tech 3 donald trump's move against twitter factchecking could backfire\n",
      "59 tech 7 youtube investigates automatic deletion of comments criticising china communist party\n",
      "60 tech 3 new vulnerability allows users to 'jailbreak' iphones\n",
      "61 tech 3 the chaser goes viral with provocative post mocking zuckerberg’s position on facebook factchecking\n",
      "62 tech 0 work from home song peaks again as listening alters under lockdown\n",
      "63 tech 1 canada court ruling allows us extradition case of huawei executive to proceed\n",
      "64 tech 1 huge rise in hacking attacks on home workers during lockdown\n",
      "65 tech 3 easyjet reveals cyber-attack exposed 9m customers' details\n",
      "66 science 2 easing the lockdown: how will we know if infections bounce back?\n",
      "67 science 3 nhs to increase number of covid-19 patients receiving antibody therapy\n",
      "68 science 2 questions raised over hydroxychloroquine study which caused who to halt trials for covid-19\n",
      "69 science 3 allosaurus dinosaur suspected to be scavenging cannibal\n",
      "70 science 7 hydroxychloroquine and coronavirus: a guide to the scientific studies so far\n",
      "71 science 0 uk minister hails 'game-changing' coronavirus immunity test\n",
      "72 science 3 italian doctors find link between covid-19 and inflammatory disorder\n",
      "73 science 1 coronavirus in england: half of those with symptoms not isolating\n",
      "74 science 3 coronavirus uk map: the latest deaths and confirmed cases in each region\n",
      "75 science 1 covid-19 study on hydroxychloroquine use questioned by 120 researchers and medical professionals\n",
      "76 science 0 coronavirus uk map: the latest deaths and confirmed cases in each region\n",
      "77 science 1 coronavirus uk map: the latest deaths and confirmed cases in each region\n",
      "78 science 2 covid-19 study on hydroxychloroquine use questioned by 120 researchers and medical professionals\n",
      "79 science 0 elon musk’s spacex to launch first astronauts from us soil since 2011\n"
     ]
    }
   ],
   "source": [
    "if hasattr(spectral, 'labels_'):\n",
    "    cluster_assignments = spectral.labels_.astype(np.int)\n",
    "    for i in range(0, len(cluster_assignments)):\n",
    "        print (i, topics_array[i], cluster_assignments [i], titles_array[i])"
   ]
  },
  {
   "cell_type": "markdown",
   "metadata": {},
   "source": [
    "Como puede observarse, el algoritmo no clasifica los artículos según las secciones de las que se han obtenido. Puede indagar más a fondo en los parámetros del modelo para mejorar dichos resultados, o buscar una explicación para entender el criterio con el que el algoritmo está agrupando los artículos."
   ]
  }
 ],
 "metadata": {
  "hide_input": false,
  "kernelspec": {
   "display_name": "Python 3",
   "language": "python",
   "name": "python3"
  },
  "language_info": {
   "codemirror_mode": {
    "name": "ipython",
    "version": 3
   },
   "file_extension": ".py",
   "mimetype": "text/x-python",
   "name": "python",
   "nbconvert_exporter": "python",
   "pygments_lexer": "ipython3",
   "version": "3.7.7"
  },
  "toc": {
   "base_numbering": 1,
   "nav_menu": {},
   "number_sections": true,
   "sideBar": true,
   "skip_h1_title": false,
   "title_cell": "Table of Contents",
   "title_sidebar": "Contents",
   "toc_cell": true,
   "toc_position": {},
   "toc_section_display": true,
   "toc_window_display": false
  },
  "varInspector": {
   "cols": {
    "lenName": 16,
    "lenType": 16,
    "lenVar": 40
   },
   "kernels_config": {
    "python": {
     "delete_cmd_postfix": "",
     "delete_cmd_prefix": "del ",
     "library": "var_list.py",
     "varRefreshCmd": "print(var_dic_list())"
    },
    "r": {
     "delete_cmd_postfix": ") ",
     "delete_cmd_prefix": "rm(",
     "library": "var_list.r",
     "varRefreshCmd": "cat(var_dic_list()) "
    }
   },
   "position": {
    "height": "144.545px",
    "left": "938.091px",
    "right": "20px",
    "top": "120px",
    "width": "350px"
   },
   "types_to_exclude": [
    "module",
    "function",
    "builtin_function_or_method",
    "instance",
    "_Feature"
   ],
   "window_display": true
  }
 },
 "nbformat": 4,
 "nbformat_minor": 4
}
